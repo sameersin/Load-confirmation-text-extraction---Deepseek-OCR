{
  "nbformat": 4,
  "nbformat_minor": 0,
  "metadata": {
    "colab": {
      "provenance": [],
      "machine_shape": "hm",
      "gpuType": "L4"
    },
    "kernelspec": {
      "name": "python3",
      "display_name": "Python 3"
    },
    "language_info": {
      "name": "python"
    },
    "accelerator": "GPU",
    "widgets": {
      "application/vnd.jupyter.widget-state+json": {
        "c04c8d231fdc4053a3d6030a1e47a6f3": {
          "model_module": "@jupyter-widgets/controls",
          "model_name": "HBoxModel",
          "model_module_version": "1.5.0",
          "state": {
            "_dom_classes": [],
            "_model_module": "@jupyter-widgets/controls",
            "_model_module_version": "1.5.0",
            "_model_name": "HBoxModel",
            "_view_count": null,
            "_view_module": "@jupyter-widgets/controls",
            "_view_module_version": "1.5.0",
            "_view_name": "HBoxView",
            "box_style": "",
            "children": [
              "IPY_MODEL_4c0683ecbe804c86b8f2661d61ad84db",
              "IPY_MODEL_b42c67c4de214305baac135152e4d616",
              "IPY_MODEL_ad29e3427d5143f286a3257b08dc9c77"
            ],
            "layout": "IPY_MODEL_89307bc6369844b7b6c7eaaa072b29cb"
          }
        },
        "4c0683ecbe804c86b8f2661d61ad84db": {
          "model_module": "@jupyter-widgets/controls",
          "model_name": "HTMLModel",
          "model_module_version": "1.5.0",
          "state": {
            "_dom_classes": [],
            "_model_module": "@jupyter-widgets/controls",
            "_model_module_version": "1.5.0",
            "_model_name": "HTMLModel",
            "_view_count": null,
            "_view_module": "@jupyter-widgets/controls",
            "_view_module_version": "1.5.0",
            "_view_name": "HTMLView",
            "description": "",
            "description_tooltip": null,
            "layout": "IPY_MODEL_8b4436c63a68455db5565c991e09eba7",
            "placeholder": "​",
            "style": "IPY_MODEL_d421e15796cf4a3fa1857a2bca34a07d",
            "value": "tokenizer_config.json: "
          }
        },
        "b42c67c4de214305baac135152e4d616": {
          "model_module": "@jupyter-widgets/controls",
          "model_name": "FloatProgressModel",
          "model_module_version": "1.5.0",
          "state": {
            "_dom_classes": [],
            "_model_module": "@jupyter-widgets/controls",
            "_model_module_version": "1.5.0",
            "_model_name": "FloatProgressModel",
            "_view_count": null,
            "_view_module": "@jupyter-widgets/controls",
            "_view_module_version": "1.5.0",
            "_view_name": "ProgressView",
            "bar_style": "success",
            "description": "",
            "description_tooltip": null,
            "layout": "IPY_MODEL_1086a867a4af4bc5988b79c75f8042a7",
            "max": 1,
            "min": 0,
            "orientation": "horizontal",
            "style": "IPY_MODEL_2d0bca5045a7479db3d04c6694bb68e7",
            "value": 1
          }
        },
        "ad29e3427d5143f286a3257b08dc9c77": {
          "model_module": "@jupyter-widgets/controls",
          "model_name": "HTMLModel",
          "model_module_version": "1.5.0",
          "state": {
            "_dom_classes": [],
            "_model_module": "@jupyter-widgets/controls",
            "_model_module_version": "1.5.0",
            "_model_name": "HTMLModel",
            "_view_count": null,
            "_view_module": "@jupyter-widgets/controls",
            "_view_module_version": "1.5.0",
            "_view_name": "HTMLView",
            "description": "",
            "description_tooltip": null,
            "layout": "IPY_MODEL_338f2a1ddedb477bb69f76c360964825",
            "placeholder": "​",
            "style": "IPY_MODEL_1d28d7e7e7db4f6e818c4d3fdafe9898",
            "value": " 166k/? [00:00&lt;00:00, 15.9MB/s]"
          }
        },
        "89307bc6369844b7b6c7eaaa072b29cb": {
          "model_module": "@jupyter-widgets/base",
          "model_name": "LayoutModel",
          "model_module_version": "1.2.0",
          "state": {
            "_model_module": "@jupyter-widgets/base",
            "_model_module_version": "1.2.0",
            "_model_name": "LayoutModel",
            "_view_count": null,
            "_view_module": "@jupyter-widgets/base",
            "_view_module_version": "1.2.0",
            "_view_name": "LayoutView",
            "align_content": null,
            "align_items": null,
            "align_self": null,
            "border": null,
            "bottom": null,
            "display": null,
            "flex": null,
            "flex_flow": null,
            "grid_area": null,
            "grid_auto_columns": null,
            "grid_auto_flow": null,
            "grid_auto_rows": null,
            "grid_column": null,
            "grid_gap": null,
            "grid_row": null,
            "grid_template_areas": null,
            "grid_template_columns": null,
            "grid_template_rows": null,
            "height": null,
            "justify_content": null,
            "justify_items": null,
            "left": null,
            "margin": null,
            "max_height": null,
            "max_width": null,
            "min_height": null,
            "min_width": null,
            "object_fit": null,
            "object_position": null,
            "order": null,
            "overflow": null,
            "overflow_x": null,
            "overflow_y": null,
            "padding": null,
            "right": null,
            "top": null,
            "visibility": null,
            "width": null
          }
        },
        "8b4436c63a68455db5565c991e09eba7": {
          "model_module": "@jupyter-widgets/base",
          "model_name": "LayoutModel",
          "model_module_version": "1.2.0",
          "state": {
            "_model_module": "@jupyter-widgets/base",
            "_model_module_version": "1.2.0",
            "_model_name": "LayoutModel",
            "_view_count": null,
            "_view_module": "@jupyter-widgets/base",
            "_view_module_version": "1.2.0",
            "_view_name": "LayoutView",
            "align_content": null,
            "align_items": null,
            "align_self": null,
            "border": null,
            "bottom": null,
            "display": null,
            "flex": null,
            "flex_flow": null,
            "grid_area": null,
            "grid_auto_columns": null,
            "grid_auto_flow": null,
            "grid_auto_rows": null,
            "grid_column": null,
            "grid_gap": null,
            "grid_row": null,
            "grid_template_areas": null,
            "grid_template_columns": null,
            "grid_template_rows": null,
            "height": null,
            "justify_content": null,
            "justify_items": null,
            "left": null,
            "margin": null,
            "max_height": null,
            "max_width": null,
            "min_height": null,
            "min_width": null,
            "object_fit": null,
            "object_position": null,
            "order": null,
            "overflow": null,
            "overflow_x": null,
            "overflow_y": null,
            "padding": null,
            "right": null,
            "top": null,
            "visibility": null,
            "width": null
          }
        },
        "d421e15796cf4a3fa1857a2bca34a07d": {
          "model_module": "@jupyter-widgets/controls",
          "model_name": "DescriptionStyleModel",
          "model_module_version": "1.5.0",
          "state": {
            "_model_module": "@jupyter-widgets/controls",
            "_model_module_version": "1.5.0",
            "_model_name": "DescriptionStyleModel",
            "_view_count": null,
            "_view_module": "@jupyter-widgets/base",
            "_view_module_version": "1.2.0",
            "_view_name": "StyleView",
            "description_width": ""
          }
        },
        "1086a867a4af4bc5988b79c75f8042a7": {
          "model_module": "@jupyter-widgets/base",
          "model_name": "LayoutModel",
          "model_module_version": "1.2.0",
          "state": {
            "_model_module": "@jupyter-widgets/base",
            "_model_module_version": "1.2.0",
            "_model_name": "LayoutModel",
            "_view_count": null,
            "_view_module": "@jupyter-widgets/base",
            "_view_module_version": "1.2.0",
            "_view_name": "LayoutView",
            "align_content": null,
            "align_items": null,
            "align_self": null,
            "border": null,
            "bottom": null,
            "display": null,
            "flex": null,
            "flex_flow": null,
            "grid_area": null,
            "grid_auto_columns": null,
            "grid_auto_flow": null,
            "grid_auto_rows": null,
            "grid_column": null,
            "grid_gap": null,
            "grid_row": null,
            "grid_template_areas": null,
            "grid_template_columns": null,
            "grid_template_rows": null,
            "height": null,
            "justify_content": null,
            "justify_items": null,
            "left": null,
            "margin": null,
            "max_height": null,
            "max_width": null,
            "min_height": null,
            "min_width": null,
            "object_fit": null,
            "object_position": null,
            "order": null,
            "overflow": null,
            "overflow_x": null,
            "overflow_y": null,
            "padding": null,
            "right": null,
            "top": null,
            "visibility": null,
            "width": "20px"
          }
        },
        "2d0bca5045a7479db3d04c6694bb68e7": {
          "model_module": "@jupyter-widgets/controls",
          "model_name": "ProgressStyleModel",
          "model_module_version": "1.5.0",
          "state": {
            "_model_module": "@jupyter-widgets/controls",
            "_model_module_version": "1.5.0",
            "_model_name": "ProgressStyleModel",
            "_view_count": null,
            "_view_module": "@jupyter-widgets/base",
            "_view_module_version": "1.2.0",
            "_view_name": "StyleView",
            "bar_color": null,
            "description_width": ""
          }
        },
        "338f2a1ddedb477bb69f76c360964825": {
          "model_module": "@jupyter-widgets/base",
          "model_name": "LayoutModel",
          "model_module_version": "1.2.0",
          "state": {
            "_model_module": "@jupyter-widgets/base",
            "_model_module_version": "1.2.0",
            "_model_name": "LayoutModel",
            "_view_count": null,
            "_view_module": "@jupyter-widgets/base",
            "_view_module_version": "1.2.0",
            "_view_name": "LayoutView",
            "align_content": null,
            "align_items": null,
            "align_self": null,
            "border": null,
            "bottom": null,
            "display": null,
            "flex": null,
            "flex_flow": null,
            "grid_area": null,
            "grid_auto_columns": null,
            "grid_auto_flow": null,
            "grid_auto_rows": null,
            "grid_column": null,
            "grid_gap": null,
            "grid_row": null,
            "grid_template_areas": null,
            "grid_template_columns": null,
            "grid_template_rows": null,
            "height": null,
            "justify_content": null,
            "justify_items": null,
            "left": null,
            "margin": null,
            "max_height": null,
            "max_width": null,
            "min_height": null,
            "min_width": null,
            "object_fit": null,
            "object_position": null,
            "order": null,
            "overflow": null,
            "overflow_x": null,
            "overflow_y": null,
            "padding": null,
            "right": null,
            "top": null,
            "visibility": null,
            "width": null
          }
        },
        "1d28d7e7e7db4f6e818c4d3fdafe9898": {
          "model_module": "@jupyter-widgets/controls",
          "model_name": "DescriptionStyleModel",
          "model_module_version": "1.5.0",
          "state": {
            "_model_module": "@jupyter-widgets/controls",
            "_model_module_version": "1.5.0",
            "_model_name": "DescriptionStyleModel",
            "_view_count": null,
            "_view_module": "@jupyter-widgets/base",
            "_view_module_version": "1.2.0",
            "_view_name": "StyleView",
            "description_width": ""
          }
        },
        "fbb8828c49984cc39cb550072c0130b4": {
          "model_module": "@jupyter-widgets/controls",
          "model_name": "HBoxModel",
          "model_module_version": "1.5.0",
          "state": {
            "_dom_classes": [],
            "_model_module": "@jupyter-widgets/controls",
            "_model_module_version": "1.5.0",
            "_model_name": "HBoxModel",
            "_view_count": null,
            "_view_module": "@jupyter-widgets/controls",
            "_view_module_version": "1.5.0",
            "_view_name": "HBoxView",
            "box_style": "",
            "children": [
              "IPY_MODEL_5700dffc119542b3b018b44342c584fc",
              "IPY_MODEL_06744c98e8574a0f8e51fd4de1ab34f0",
              "IPY_MODEL_54e66d1624354081b0204aa348028b77"
            ],
            "layout": "IPY_MODEL_29eb63975411450bb5562558d54796ad"
          }
        },
        "5700dffc119542b3b018b44342c584fc": {
          "model_module": "@jupyter-widgets/controls",
          "model_name": "HTMLModel",
          "model_module_version": "1.5.0",
          "state": {
            "_dom_classes": [],
            "_model_module": "@jupyter-widgets/controls",
            "_model_module_version": "1.5.0",
            "_model_name": "HTMLModel",
            "_view_count": null,
            "_view_module": "@jupyter-widgets/controls",
            "_view_module_version": "1.5.0",
            "_view_name": "HTMLView",
            "description": "",
            "description_tooltip": null,
            "layout": "IPY_MODEL_8ef15d7630654d5ba6eb944bb656344f",
            "placeholder": "​",
            "style": "IPY_MODEL_502a9cdd53c0427084128e88ac074692",
            "value": "tokenizer.json: "
          }
        },
        "06744c98e8574a0f8e51fd4de1ab34f0": {
          "model_module": "@jupyter-widgets/controls",
          "model_name": "FloatProgressModel",
          "model_module_version": "1.5.0",
          "state": {
            "_dom_classes": [],
            "_model_module": "@jupyter-widgets/controls",
            "_model_module_version": "1.5.0",
            "_model_name": "FloatProgressModel",
            "_view_count": null,
            "_view_module": "@jupyter-widgets/controls",
            "_view_module_version": "1.5.0",
            "_view_name": "ProgressView",
            "bar_style": "success",
            "description": "",
            "description_tooltip": null,
            "layout": "IPY_MODEL_e94ae2654f2847058ac807ba15a4760a",
            "max": 1,
            "min": 0,
            "orientation": "horizontal",
            "style": "IPY_MODEL_4e3c28b8e2c44da08c104e93c8b3aadf",
            "value": 1
          }
        },
        "54e66d1624354081b0204aa348028b77": {
          "model_module": "@jupyter-widgets/controls",
          "model_name": "HTMLModel",
          "model_module_version": "1.5.0",
          "state": {
            "_dom_classes": [],
            "_model_module": "@jupyter-widgets/controls",
            "_model_module_version": "1.5.0",
            "_model_name": "HTMLModel",
            "_view_count": null,
            "_view_module": "@jupyter-widgets/controls",
            "_view_module_version": "1.5.0",
            "_view_name": "HTMLView",
            "description": "",
            "description_tooltip": null,
            "layout": "IPY_MODEL_f615b6d85cc445568a2d4431dc59d8a3",
            "placeholder": "​",
            "style": "IPY_MODEL_f7d1cd2710a74707b03cad4fe4e92e76",
            "value": " 9.98M/? [00:00&lt;00:00, 143MB/s]"
          }
        },
        "29eb63975411450bb5562558d54796ad": {
          "model_module": "@jupyter-widgets/base",
          "model_name": "LayoutModel",
          "model_module_version": "1.2.0",
          "state": {
            "_model_module": "@jupyter-widgets/base",
            "_model_module_version": "1.2.0",
            "_model_name": "LayoutModel",
            "_view_count": null,
            "_view_module": "@jupyter-widgets/base",
            "_view_module_version": "1.2.0",
            "_view_name": "LayoutView",
            "align_content": null,
            "align_items": null,
            "align_self": null,
            "border": null,
            "bottom": null,
            "display": null,
            "flex": null,
            "flex_flow": null,
            "grid_area": null,
            "grid_auto_columns": null,
            "grid_auto_flow": null,
            "grid_auto_rows": null,
            "grid_column": null,
            "grid_gap": null,
            "grid_row": null,
            "grid_template_areas": null,
            "grid_template_columns": null,
            "grid_template_rows": null,
            "height": null,
            "justify_content": null,
            "justify_items": null,
            "left": null,
            "margin": null,
            "max_height": null,
            "max_width": null,
            "min_height": null,
            "min_width": null,
            "object_fit": null,
            "object_position": null,
            "order": null,
            "overflow": null,
            "overflow_x": null,
            "overflow_y": null,
            "padding": null,
            "right": null,
            "top": null,
            "visibility": null,
            "width": null
          }
        },
        "8ef15d7630654d5ba6eb944bb656344f": {
          "model_module": "@jupyter-widgets/base",
          "model_name": "LayoutModel",
          "model_module_version": "1.2.0",
          "state": {
            "_model_module": "@jupyter-widgets/base",
            "_model_module_version": "1.2.0",
            "_model_name": "LayoutModel",
            "_view_count": null,
            "_view_module": "@jupyter-widgets/base",
            "_view_module_version": "1.2.0",
            "_view_name": "LayoutView",
            "align_content": null,
            "align_items": null,
            "align_self": null,
            "border": null,
            "bottom": null,
            "display": null,
            "flex": null,
            "flex_flow": null,
            "grid_area": null,
            "grid_auto_columns": null,
            "grid_auto_flow": null,
            "grid_auto_rows": null,
            "grid_column": null,
            "grid_gap": null,
            "grid_row": null,
            "grid_template_areas": null,
            "grid_template_columns": null,
            "grid_template_rows": null,
            "height": null,
            "justify_content": null,
            "justify_items": null,
            "left": null,
            "margin": null,
            "max_height": null,
            "max_width": null,
            "min_height": null,
            "min_width": null,
            "object_fit": null,
            "object_position": null,
            "order": null,
            "overflow": null,
            "overflow_x": null,
            "overflow_y": null,
            "padding": null,
            "right": null,
            "top": null,
            "visibility": null,
            "width": null
          }
        },
        "502a9cdd53c0427084128e88ac074692": {
          "model_module": "@jupyter-widgets/controls",
          "model_name": "DescriptionStyleModel",
          "model_module_version": "1.5.0",
          "state": {
            "_model_module": "@jupyter-widgets/controls",
            "_model_module_version": "1.5.0",
            "_model_name": "DescriptionStyleModel",
            "_view_count": null,
            "_view_module": "@jupyter-widgets/base",
            "_view_module_version": "1.2.0",
            "_view_name": "StyleView",
            "description_width": ""
          }
        },
        "e94ae2654f2847058ac807ba15a4760a": {
          "model_module": "@jupyter-widgets/base",
          "model_name": "LayoutModel",
          "model_module_version": "1.2.0",
          "state": {
            "_model_module": "@jupyter-widgets/base",
            "_model_module_version": "1.2.0",
            "_model_name": "LayoutModel",
            "_view_count": null,
            "_view_module": "@jupyter-widgets/base",
            "_view_module_version": "1.2.0",
            "_view_name": "LayoutView",
            "align_content": null,
            "align_items": null,
            "align_self": null,
            "border": null,
            "bottom": null,
            "display": null,
            "flex": null,
            "flex_flow": null,
            "grid_area": null,
            "grid_auto_columns": null,
            "grid_auto_flow": null,
            "grid_auto_rows": null,
            "grid_column": null,
            "grid_gap": null,
            "grid_row": null,
            "grid_template_areas": null,
            "grid_template_columns": null,
            "grid_template_rows": null,
            "height": null,
            "justify_content": null,
            "justify_items": null,
            "left": null,
            "margin": null,
            "max_height": null,
            "max_width": null,
            "min_height": null,
            "min_width": null,
            "object_fit": null,
            "object_position": null,
            "order": null,
            "overflow": null,
            "overflow_x": null,
            "overflow_y": null,
            "padding": null,
            "right": null,
            "top": null,
            "visibility": null,
            "width": "20px"
          }
        },
        "4e3c28b8e2c44da08c104e93c8b3aadf": {
          "model_module": "@jupyter-widgets/controls",
          "model_name": "ProgressStyleModel",
          "model_module_version": "1.5.0",
          "state": {
            "_model_module": "@jupyter-widgets/controls",
            "_model_module_version": "1.5.0",
            "_model_name": "ProgressStyleModel",
            "_view_count": null,
            "_view_module": "@jupyter-widgets/base",
            "_view_module_version": "1.2.0",
            "_view_name": "StyleView",
            "bar_color": null,
            "description_width": ""
          }
        },
        "f615b6d85cc445568a2d4431dc59d8a3": {
          "model_module": "@jupyter-widgets/base",
          "model_name": "LayoutModel",
          "model_module_version": "1.2.0",
          "state": {
            "_model_module": "@jupyter-widgets/base",
            "_model_module_version": "1.2.0",
            "_model_name": "LayoutModel",
            "_view_count": null,
            "_view_module": "@jupyter-widgets/base",
            "_view_module_version": "1.2.0",
            "_view_name": "LayoutView",
            "align_content": null,
            "align_items": null,
            "align_self": null,
            "border": null,
            "bottom": null,
            "display": null,
            "flex": null,
            "flex_flow": null,
            "grid_area": null,
            "grid_auto_columns": null,
            "grid_auto_flow": null,
            "grid_auto_rows": null,
            "grid_column": null,
            "grid_gap": null,
            "grid_row": null,
            "grid_template_areas": null,
            "grid_template_columns": null,
            "grid_template_rows": null,
            "height": null,
            "justify_content": null,
            "justify_items": null,
            "left": null,
            "margin": null,
            "max_height": null,
            "max_width": null,
            "min_height": null,
            "min_width": null,
            "object_fit": null,
            "object_position": null,
            "order": null,
            "overflow": null,
            "overflow_x": null,
            "overflow_y": null,
            "padding": null,
            "right": null,
            "top": null,
            "visibility": null,
            "width": null
          }
        },
        "f7d1cd2710a74707b03cad4fe4e92e76": {
          "model_module": "@jupyter-widgets/controls",
          "model_name": "DescriptionStyleModel",
          "model_module_version": "1.5.0",
          "state": {
            "_model_module": "@jupyter-widgets/controls",
            "_model_module_version": "1.5.0",
            "_model_name": "DescriptionStyleModel",
            "_view_count": null,
            "_view_module": "@jupyter-widgets/base",
            "_view_module_version": "1.2.0",
            "_view_name": "StyleView",
            "description_width": ""
          }
        },
        "735db1af3f304321a9103c8620012a49": {
          "model_module": "@jupyter-widgets/controls",
          "model_name": "HBoxModel",
          "model_module_version": "1.5.0",
          "state": {
            "_dom_classes": [],
            "_model_module": "@jupyter-widgets/controls",
            "_model_module_version": "1.5.0",
            "_model_name": "HBoxModel",
            "_view_count": null,
            "_view_module": "@jupyter-widgets/controls",
            "_view_module_version": "1.5.0",
            "_view_name": "HBoxView",
            "box_style": "",
            "children": [
              "IPY_MODEL_15760a52c2874223b42a1f27e276ed70",
              "IPY_MODEL_1009deaaf4554c4ab12727ba1ff4d5fb",
              "IPY_MODEL_9a918b03113142c99f13c76bef3c5492"
            ],
            "layout": "IPY_MODEL_93aefd9fd9534f8487ff5ed7be62d8a9"
          }
        },
        "15760a52c2874223b42a1f27e276ed70": {
          "model_module": "@jupyter-widgets/controls",
          "model_name": "HTMLModel",
          "model_module_version": "1.5.0",
          "state": {
            "_dom_classes": [],
            "_model_module": "@jupyter-widgets/controls",
            "_model_module_version": "1.5.0",
            "_model_name": "HTMLModel",
            "_view_count": null,
            "_view_module": "@jupyter-widgets/controls",
            "_view_module_version": "1.5.0",
            "_view_name": "HTMLView",
            "description": "",
            "description_tooltip": null,
            "layout": "IPY_MODEL_d78b93414b4d46ad84074ab584e47ac2",
            "placeholder": "​",
            "style": "IPY_MODEL_a00e89e045744f6cb337939aae312c57",
            "value": "special_tokens_map.json: 100%"
          }
        },
        "1009deaaf4554c4ab12727ba1ff4d5fb": {
          "model_module": "@jupyter-widgets/controls",
          "model_name": "FloatProgressModel",
          "model_module_version": "1.5.0",
          "state": {
            "_dom_classes": [],
            "_model_module": "@jupyter-widgets/controls",
            "_model_module_version": "1.5.0",
            "_model_name": "FloatProgressModel",
            "_view_count": null,
            "_view_module": "@jupyter-widgets/controls",
            "_view_module_version": "1.5.0",
            "_view_name": "ProgressView",
            "bar_style": "success",
            "description": "",
            "description_tooltip": null,
            "layout": "IPY_MODEL_1424439b537341acafa58e4a5a8d6549",
            "max": 801,
            "min": 0,
            "orientation": "horizontal",
            "style": "IPY_MODEL_51b3b7eeda4d4b5ebce7c6f43cdd9b1a",
            "value": 801
          }
        },
        "9a918b03113142c99f13c76bef3c5492": {
          "model_module": "@jupyter-widgets/controls",
          "model_name": "HTMLModel",
          "model_module_version": "1.5.0",
          "state": {
            "_dom_classes": [],
            "_model_module": "@jupyter-widgets/controls",
            "_model_module_version": "1.5.0",
            "_model_name": "HTMLModel",
            "_view_count": null,
            "_view_module": "@jupyter-widgets/controls",
            "_view_module_version": "1.5.0",
            "_view_name": "HTMLView",
            "description": "",
            "description_tooltip": null,
            "layout": "IPY_MODEL_f322ed9f9988401bb0357928d044c4c0",
            "placeholder": "​",
            "style": "IPY_MODEL_5b3785c32adf43b3955e9d94dde14f4f",
            "value": " 801/801 [00:00&lt;00:00, 100kB/s]"
          }
        },
        "93aefd9fd9534f8487ff5ed7be62d8a9": {
          "model_module": "@jupyter-widgets/base",
          "model_name": "LayoutModel",
          "model_module_version": "1.2.0",
          "state": {
            "_model_module": "@jupyter-widgets/base",
            "_model_module_version": "1.2.0",
            "_model_name": "LayoutModel",
            "_view_count": null,
            "_view_module": "@jupyter-widgets/base",
            "_view_module_version": "1.2.0",
            "_view_name": "LayoutView",
            "align_content": null,
            "align_items": null,
            "align_self": null,
            "border": null,
            "bottom": null,
            "display": null,
            "flex": null,
            "flex_flow": null,
            "grid_area": null,
            "grid_auto_columns": null,
            "grid_auto_flow": null,
            "grid_auto_rows": null,
            "grid_column": null,
            "grid_gap": null,
            "grid_row": null,
            "grid_template_areas": null,
            "grid_template_columns": null,
            "grid_template_rows": null,
            "height": null,
            "justify_content": null,
            "justify_items": null,
            "left": null,
            "margin": null,
            "max_height": null,
            "max_width": null,
            "min_height": null,
            "min_width": null,
            "object_fit": null,
            "object_position": null,
            "order": null,
            "overflow": null,
            "overflow_x": null,
            "overflow_y": null,
            "padding": null,
            "right": null,
            "top": null,
            "visibility": null,
            "width": null
          }
        },
        "d78b93414b4d46ad84074ab584e47ac2": {
          "model_module": "@jupyter-widgets/base",
          "model_name": "LayoutModel",
          "model_module_version": "1.2.0",
          "state": {
            "_model_module": "@jupyter-widgets/base",
            "_model_module_version": "1.2.0",
            "_model_name": "LayoutModel",
            "_view_count": null,
            "_view_module": "@jupyter-widgets/base",
            "_view_module_version": "1.2.0",
            "_view_name": "LayoutView",
            "align_content": null,
            "align_items": null,
            "align_self": null,
            "border": null,
            "bottom": null,
            "display": null,
            "flex": null,
            "flex_flow": null,
            "grid_area": null,
            "grid_auto_columns": null,
            "grid_auto_flow": null,
            "grid_auto_rows": null,
            "grid_column": null,
            "grid_gap": null,
            "grid_row": null,
            "grid_template_areas": null,
            "grid_template_columns": null,
            "grid_template_rows": null,
            "height": null,
            "justify_content": null,
            "justify_items": null,
            "left": null,
            "margin": null,
            "max_height": null,
            "max_width": null,
            "min_height": null,
            "min_width": null,
            "object_fit": null,
            "object_position": null,
            "order": null,
            "overflow": null,
            "overflow_x": null,
            "overflow_y": null,
            "padding": null,
            "right": null,
            "top": null,
            "visibility": null,
            "width": null
          }
        },
        "a00e89e045744f6cb337939aae312c57": {
          "model_module": "@jupyter-widgets/controls",
          "model_name": "DescriptionStyleModel",
          "model_module_version": "1.5.0",
          "state": {
            "_model_module": "@jupyter-widgets/controls",
            "_model_module_version": "1.5.0",
            "_model_name": "DescriptionStyleModel",
            "_view_count": null,
            "_view_module": "@jupyter-widgets/base",
            "_view_module_version": "1.2.0",
            "_view_name": "StyleView",
            "description_width": ""
          }
        },
        "1424439b537341acafa58e4a5a8d6549": {
          "model_module": "@jupyter-widgets/base",
          "model_name": "LayoutModel",
          "model_module_version": "1.2.0",
          "state": {
            "_model_module": "@jupyter-widgets/base",
            "_model_module_version": "1.2.0",
            "_model_name": "LayoutModel",
            "_view_count": null,
            "_view_module": "@jupyter-widgets/base",
            "_view_module_version": "1.2.0",
            "_view_name": "LayoutView",
            "align_content": null,
            "align_items": null,
            "align_self": null,
            "border": null,
            "bottom": null,
            "display": null,
            "flex": null,
            "flex_flow": null,
            "grid_area": null,
            "grid_auto_columns": null,
            "grid_auto_flow": null,
            "grid_auto_rows": null,
            "grid_column": null,
            "grid_gap": null,
            "grid_row": null,
            "grid_template_areas": null,
            "grid_template_columns": null,
            "grid_template_rows": null,
            "height": null,
            "justify_content": null,
            "justify_items": null,
            "left": null,
            "margin": null,
            "max_height": null,
            "max_width": null,
            "min_height": null,
            "min_width": null,
            "object_fit": null,
            "object_position": null,
            "order": null,
            "overflow": null,
            "overflow_x": null,
            "overflow_y": null,
            "padding": null,
            "right": null,
            "top": null,
            "visibility": null,
            "width": null
          }
        },
        "51b3b7eeda4d4b5ebce7c6f43cdd9b1a": {
          "model_module": "@jupyter-widgets/controls",
          "model_name": "ProgressStyleModel",
          "model_module_version": "1.5.0",
          "state": {
            "_model_module": "@jupyter-widgets/controls",
            "_model_module_version": "1.5.0",
            "_model_name": "ProgressStyleModel",
            "_view_count": null,
            "_view_module": "@jupyter-widgets/base",
            "_view_module_version": "1.2.0",
            "_view_name": "StyleView",
            "bar_color": null,
            "description_width": ""
          }
        },
        "f322ed9f9988401bb0357928d044c4c0": {
          "model_module": "@jupyter-widgets/base",
          "model_name": "LayoutModel",
          "model_module_version": "1.2.0",
          "state": {
            "_model_module": "@jupyter-widgets/base",
            "_model_module_version": "1.2.0",
            "_model_name": "LayoutModel",
            "_view_count": null,
            "_view_module": "@jupyter-widgets/base",
            "_view_module_version": "1.2.0",
            "_view_name": "LayoutView",
            "align_content": null,
            "align_items": null,
            "align_self": null,
            "border": null,
            "bottom": null,
            "display": null,
            "flex": null,
            "flex_flow": null,
            "grid_area": null,
            "grid_auto_columns": null,
            "grid_auto_flow": null,
            "grid_auto_rows": null,
            "grid_column": null,
            "grid_gap": null,
            "grid_row": null,
            "grid_template_areas": null,
            "grid_template_columns": null,
            "grid_template_rows": null,
            "height": null,
            "justify_content": null,
            "justify_items": null,
            "left": null,
            "margin": null,
            "max_height": null,
            "max_width": null,
            "min_height": null,
            "min_width": null,
            "object_fit": null,
            "object_position": null,
            "order": null,
            "overflow": null,
            "overflow_x": null,
            "overflow_y": null,
            "padding": null,
            "right": null,
            "top": null,
            "visibility": null,
            "width": null
          }
        },
        "5b3785c32adf43b3955e9d94dde14f4f": {
          "model_module": "@jupyter-widgets/controls",
          "model_name": "DescriptionStyleModel",
          "model_module_version": "1.5.0",
          "state": {
            "_model_module": "@jupyter-widgets/controls",
            "_model_module_version": "1.5.0",
            "_model_name": "DescriptionStyleModel",
            "_view_count": null,
            "_view_module": "@jupyter-widgets/base",
            "_view_module_version": "1.2.0",
            "_view_name": "StyleView",
            "description_width": ""
          }
        },
        "263bd8e95d4440d4840071b5c6332462": {
          "model_module": "@jupyter-widgets/controls",
          "model_name": "HBoxModel",
          "model_module_version": "1.5.0",
          "state": {
            "_dom_classes": [],
            "_model_module": "@jupyter-widgets/controls",
            "_model_module_version": "1.5.0",
            "_model_name": "HBoxModel",
            "_view_count": null,
            "_view_module": "@jupyter-widgets/controls",
            "_view_module_version": "1.5.0",
            "_view_name": "HBoxView",
            "box_style": "",
            "children": [
              "IPY_MODEL_f032a9e046064e318ba343a8ad0b1795",
              "IPY_MODEL_8d62eff825924e338b6933dd3427bbc2",
              "IPY_MODEL_1a9f2afaed0745148ef9bd0af7c1b56c"
            ],
            "layout": "IPY_MODEL_c94286845569444ea99f5d4fd55ab792"
          }
        },
        "f032a9e046064e318ba343a8ad0b1795": {
          "model_module": "@jupyter-widgets/controls",
          "model_name": "HTMLModel",
          "model_module_version": "1.5.0",
          "state": {
            "_dom_classes": [],
            "_model_module": "@jupyter-widgets/controls",
            "_model_module_version": "1.5.0",
            "_model_name": "HTMLModel",
            "_view_count": null,
            "_view_module": "@jupyter-widgets/controls",
            "_view_module_version": "1.5.0",
            "_view_name": "HTMLView",
            "description": "",
            "description_tooltip": null,
            "layout": "IPY_MODEL_fe42959684584a97a983c638a97812c7",
            "placeholder": "​",
            "style": "IPY_MODEL_18f83d08bb6249b1803e09e2c4054a86",
            "value": "config.json: "
          }
        },
        "8d62eff825924e338b6933dd3427bbc2": {
          "model_module": "@jupyter-widgets/controls",
          "model_name": "FloatProgressModel",
          "model_module_version": "1.5.0",
          "state": {
            "_dom_classes": [],
            "_model_module": "@jupyter-widgets/controls",
            "_model_module_version": "1.5.0",
            "_model_name": "FloatProgressModel",
            "_view_count": null,
            "_view_module": "@jupyter-widgets/controls",
            "_view_module_version": "1.5.0",
            "_view_name": "ProgressView",
            "bar_style": "success",
            "description": "",
            "description_tooltip": null,
            "layout": "IPY_MODEL_579be87a1f484bf4bc921ff14eb56b83",
            "max": 1,
            "min": 0,
            "orientation": "horizontal",
            "style": "IPY_MODEL_b67018a5254b4c47a3dceab2a486c17f",
            "value": 1
          }
        },
        "1a9f2afaed0745148ef9bd0af7c1b56c": {
          "model_module": "@jupyter-widgets/controls",
          "model_name": "HTMLModel",
          "model_module_version": "1.5.0",
          "state": {
            "_dom_classes": [],
            "_model_module": "@jupyter-widgets/controls",
            "_model_module_version": "1.5.0",
            "_model_name": "HTMLModel",
            "_view_count": null,
            "_view_module": "@jupyter-widgets/controls",
            "_view_module_version": "1.5.0",
            "_view_name": "HTMLView",
            "description": "",
            "description_tooltip": null,
            "layout": "IPY_MODEL_64d7c5fc4e0c4b4a87daf18e8527cc94",
            "placeholder": "​",
            "style": "IPY_MODEL_3be79cd8edf046d0b8d40c7acaaa6234",
            "value": " 2.67k/? [00:00&lt;00:00, 318kB/s]"
          }
        },
        "c94286845569444ea99f5d4fd55ab792": {
          "model_module": "@jupyter-widgets/base",
          "model_name": "LayoutModel",
          "model_module_version": "1.2.0",
          "state": {
            "_model_module": "@jupyter-widgets/base",
            "_model_module_version": "1.2.0",
            "_model_name": "LayoutModel",
            "_view_count": null,
            "_view_module": "@jupyter-widgets/base",
            "_view_module_version": "1.2.0",
            "_view_name": "LayoutView",
            "align_content": null,
            "align_items": null,
            "align_self": null,
            "border": null,
            "bottom": null,
            "display": null,
            "flex": null,
            "flex_flow": null,
            "grid_area": null,
            "grid_auto_columns": null,
            "grid_auto_flow": null,
            "grid_auto_rows": null,
            "grid_column": null,
            "grid_gap": null,
            "grid_row": null,
            "grid_template_areas": null,
            "grid_template_columns": null,
            "grid_template_rows": null,
            "height": null,
            "justify_content": null,
            "justify_items": null,
            "left": null,
            "margin": null,
            "max_height": null,
            "max_width": null,
            "min_height": null,
            "min_width": null,
            "object_fit": null,
            "object_position": null,
            "order": null,
            "overflow": null,
            "overflow_x": null,
            "overflow_y": null,
            "padding": null,
            "right": null,
            "top": null,
            "visibility": null,
            "width": null
          }
        },
        "fe42959684584a97a983c638a97812c7": {
          "model_module": "@jupyter-widgets/base",
          "model_name": "LayoutModel",
          "model_module_version": "1.2.0",
          "state": {
            "_model_module": "@jupyter-widgets/base",
            "_model_module_version": "1.2.0",
            "_model_name": "LayoutModel",
            "_view_count": null,
            "_view_module": "@jupyter-widgets/base",
            "_view_module_version": "1.2.0",
            "_view_name": "LayoutView",
            "align_content": null,
            "align_items": null,
            "align_self": null,
            "border": null,
            "bottom": null,
            "display": null,
            "flex": null,
            "flex_flow": null,
            "grid_area": null,
            "grid_auto_columns": null,
            "grid_auto_flow": null,
            "grid_auto_rows": null,
            "grid_column": null,
            "grid_gap": null,
            "grid_row": null,
            "grid_template_areas": null,
            "grid_template_columns": null,
            "grid_template_rows": null,
            "height": null,
            "justify_content": null,
            "justify_items": null,
            "left": null,
            "margin": null,
            "max_height": null,
            "max_width": null,
            "min_height": null,
            "min_width": null,
            "object_fit": null,
            "object_position": null,
            "order": null,
            "overflow": null,
            "overflow_x": null,
            "overflow_y": null,
            "padding": null,
            "right": null,
            "top": null,
            "visibility": null,
            "width": null
          }
        },
        "18f83d08bb6249b1803e09e2c4054a86": {
          "model_module": "@jupyter-widgets/controls",
          "model_name": "DescriptionStyleModel",
          "model_module_version": "1.5.0",
          "state": {
            "_model_module": "@jupyter-widgets/controls",
            "_model_module_version": "1.5.0",
            "_model_name": "DescriptionStyleModel",
            "_view_count": null,
            "_view_module": "@jupyter-widgets/base",
            "_view_module_version": "1.2.0",
            "_view_name": "StyleView",
            "description_width": ""
          }
        },
        "579be87a1f484bf4bc921ff14eb56b83": {
          "model_module": "@jupyter-widgets/base",
          "model_name": "LayoutModel",
          "model_module_version": "1.2.0",
          "state": {
            "_model_module": "@jupyter-widgets/base",
            "_model_module_version": "1.2.0",
            "_model_name": "LayoutModel",
            "_view_count": null,
            "_view_module": "@jupyter-widgets/base",
            "_view_module_version": "1.2.0",
            "_view_name": "LayoutView",
            "align_content": null,
            "align_items": null,
            "align_self": null,
            "border": null,
            "bottom": null,
            "display": null,
            "flex": null,
            "flex_flow": null,
            "grid_area": null,
            "grid_auto_columns": null,
            "grid_auto_flow": null,
            "grid_auto_rows": null,
            "grid_column": null,
            "grid_gap": null,
            "grid_row": null,
            "grid_template_areas": null,
            "grid_template_columns": null,
            "grid_template_rows": null,
            "height": null,
            "justify_content": null,
            "justify_items": null,
            "left": null,
            "margin": null,
            "max_height": null,
            "max_width": null,
            "min_height": null,
            "min_width": null,
            "object_fit": null,
            "object_position": null,
            "order": null,
            "overflow": null,
            "overflow_x": null,
            "overflow_y": null,
            "padding": null,
            "right": null,
            "top": null,
            "visibility": null,
            "width": "20px"
          }
        },
        "b67018a5254b4c47a3dceab2a486c17f": {
          "model_module": "@jupyter-widgets/controls",
          "model_name": "ProgressStyleModel",
          "model_module_version": "1.5.0",
          "state": {
            "_model_module": "@jupyter-widgets/controls",
            "_model_module_version": "1.5.0",
            "_model_name": "ProgressStyleModel",
            "_view_count": null,
            "_view_module": "@jupyter-widgets/base",
            "_view_module_version": "1.2.0",
            "_view_name": "StyleView",
            "bar_color": null,
            "description_width": ""
          }
        },
        "64d7c5fc4e0c4b4a87daf18e8527cc94": {
          "model_module": "@jupyter-widgets/base",
          "model_name": "LayoutModel",
          "model_module_version": "1.2.0",
          "state": {
            "_model_module": "@jupyter-widgets/base",
            "_model_module_version": "1.2.0",
            "_model_name": "LayoutModel",
            "_view_count": null,
            "_view_module": "@jupyter-widgets/base",
            "_view_module_version": "1.2.0",
            "_view_name": "LayoutView",
            "align_content": null,
            "align_items": null,
            "align_self": null,
            "border": null,
            "bottom": null,
            "display": null,
            "flex": null,
            "flex_flow": null,
            "grid_area": null,
            "grid_auto_columns": null,
            "grid_auto_flow": null,
            "grid_auto_rows": null,
            "grid_column": null,
            "grid_gap": null,
            "grid_row": null,
            "grid_template_areas": null,
            "grid_template_columns": null,
            "grid_template_rows": null,
            "height": null,
            "justify_content": null,
            "justify_items": null,
            "left": null,
            "margin": null,
            "max_height": null,
            "max_width": null,
            "min_height": null,
            "min_width": null,
            "object_fit": null,
            "object_position": null,
            "order": null,
            "overflow": null,
            "overflow_x": null,
            "overflow_y": null,
            "padding": null,
            "right": null,
            "top": null,
            "visibility": null,
            "width": null
          }
        },
        "3be79cd8edf046d0b8d40c7acaaa6234": {
          "model_module": "@jupyter-widgets/controls",
          "model_name": "DescriptionStyleModel",
          "model_module_version": "1.5.0",
          "state": {
            "_model_module": "@jupyter-widgets/controls",
            "_model_module_version": "1.5.0",
            "_model_name": "DescriptionStyleModel",
            "_view_count": null,
            "_view_module": "@jupyter-widgets/base",
            "_view_module_version": "1.2.0",
            "_view_name": "StyleView",
            "description_width": ""
          }
        },
        "9b5222892ec141899e29f675d24b8e65": {
          "model_module": "@jupyter-widgets/controls",
          "model_name": "HBoxModel",
          "model_module_version": "1.5.0",
          "state": {
            "_dom_classes": [],
            "_model_module": "@jupyter-widgets/controls",
            "_model_module_version": "1.5.0",
            "_model_name": "HBoxModel",
            "_view_count": null,
            "_view_module": "@jupyter-widgets/controls",
            "_view_module_version": "1.5.0",
            "_view_name": "HBoxView",
            "box_style": "",
            "children": [
              "IPY_MODEL_e15319ff6fe24dcdb3c6f521bc8c87cc",
              "IPY_MODEL_7a55f1ec76134330ba1e2ca7227d8775",
              "IPY_MODEL_0ae41146392a4a1198888ee95faf93cf"
            ],
            "layout": "IPY_MODEL_569beae46c8347869af91d7dbbcde99f"
          }
        },
        "e15319ff6fe24dcdb3c6f521bc8c87cc": {
          "model_module": "@jupyter-widgets/controls",
          "model_name": "HTMLModel",
          "model_module_version": "1.5.0",
          "state": {
            "_dom_classes": [],
            "_model_module": "@jupyter-widgets/controls",
            "_model_module_version": "1.5.0",
            "_model_name": "HTMLModel",
            "_view_count": null,
            "_view_module": "@jupyter-widgets/controls",
            "_view_module_version": "1.5.0",
            "_view_name": "HTMLView",
            "description": "",
            "description_tooltip": null,
            "layout": "IPY_MODEL_44ce4c1d45e2460abdfeb57768f73679",
            "placeholder": "​",
            "style": "IPY_MODEL_5214250c9b1048839006fed26b6717a0",
            "value": "modeling_deepseekocr.py: "
          }
        },
        "7a55f1ec76134330ba1e2ca7227d8775": {
          "model_module": "@jupyter-widgets/controls",
          "model_name": "FloatProgressModel",
          "model_module_version": "1.5.0",
          "state": {
            "_dom_classes": [],
            "_model_module": "@jupyter-widgets/controls",
            "_model_module_version": "1.5.0",
            "_model_name": "FloatProgressModel",
            "_view_count": null,
            "_view_module": "@jupyter-widgets/controls",
            "_view_module_version": "1.5.0",
            "_view_name": "ProgressView",
            "bar_style": "success",
            "description": "",
            "description_tooltip": null,
            "layout": "IPY_MODEL_0778ab6659f945df95de88fac8149fd7",
            "max": 1,
            "min": 0,
            "orientation": "horizontal",
            "style": "IPY_MODEL_b1bed774d3714f0aa3aa7b9f062ab62a",
            "value": 1
          }
        },
        "0ae41146392a4a1198888ee95faf93cf": {
          "model_module": "@jupyter-widgets/controls",
          "model_name": "HTMLModel",
          "model_module_version": "1.5.0",
          "state": {
            "_dom_classes": [],
            "_model_module": "@jupyter-widgets/controls",
            "_model_module_version": "1.5.0",
            "_model_name": "HTMLModel",
            "_view_count": null,
            "_view_module": "@jupyter-widgets/controls",
            "_view_module_version": "1.5.0",
            "_view_name": "HTMLView",
            "description": "",
            "description_tooltip": null,
            "layout": "IPY_MODEL_a0c2cb53c1944bdf933d3df4956c20a2",
            "placeholder": "​",
            "style": "IPY_MODEL_c69ecbff78a64b1d873c7bfab1370896",
            "value": " 40.1k/? [00:00&lt;00:00, 4.58MB/s]"
          }
        },
        "569beae46c8347869af91d7dbbcde99f": {
          "model_module": "@jupyter-widgets/base",
          "model_name": "LayoutModel",
          "model_module_version": "1.2.0",
          "state": {
            "_model_module": "@jupyter-widgets/base",
            "_model_module_version": "1.2.0",
            "_model_name": "LayoutModel",
            "_view_count": null,
            "_view_module": "@jupyter-widgets/base",
            "_view_module_version": "1.2.0",
            "_view_name": "LayoutView",
            "align_content": null,
            "align_items": null,
            "align_self": null,
            "border": null,
            "bottom": null,
            "display": null,
            "flex": null,
            "flex_flow": null,
            "grid_area": null,
            "grid_auto_columns": null,
            "grid_auto_flow": null,
            "grid_auto_rows": null,
            "grid_column": null,
            "grid_gap": null,
            "grid_row": null,
            "grid_template_areas": null,
            "grid_template_columns": null,
            "grid_template_rows": null,
            "height": null,
            "justify_content": null,
            "justify_items": null,
            "left": null,
            "margin": null,
            "max_height": null,
            "max_width": null,
            "min_height": null,
            "min_width": null,
            "object_fit": null,
            "object_position": null,
            "order": null,
            "overflow": null,
            "overflow_x": null,
            "overflow_y": null,
            "padding": null,
            "right": null,
            "top": null,
            "visibility": null,
            "width": null
          }
        },
        "44ce4c1d45e2460abdfeb57768f73679": {
          "model_module": "@jupyter-widgets/base",
          "model_name": "LayoutModel",
          "model_module_version": "1.2.0",
          "state": {
            "_model_module": "@jupyter-widgets/base",
            "_model_module_version": "1.2.0",
            "_model_name": "LayoutModel",
            "_view_count": null,
            "_view_module": "@jupyter-widgets/base",
            "_view_module_version": "1.2.0",
            "_view_name": "LayoutView",
            "align_content": null,
            "align_items": null,
            "align_self": null,
            "border": null,
            "bottom": null,
            "display": null,
            "flex": null,
            "flex_flow": null,
            "grid_area": null,
            "grid_auto_columns": null,
            "grid_auto_flow": null,
            "grid_auto_rows": null,
            "grid_column": null,
            "grid_gap": null,
            "grid_row": null,
            "grid_template_areas": null,
            "grid_template_columns": null,
            "grid_template_rows": null,
            "height": null,
            "justify_content": null,
            "justify_items": null,
            "left": null,
            "margin": null,
            "max_height": null,
            "max_width": null,
            "min_height": null,
            "min_width": null,
            "object_fit": null,
            "object_position": null,
            "order": null,
            "overflow": null,
            "overflow_x": null,
            "overflow_y": null,
            "padding": null,
            "right": null,
            "top": null,
            "visibility": null,
            "width": null
          }
        },
        "5214250c9b1048839006fed26b6717a0": {
          "model_module": "@jupyter-widgets/controls",
          "model_name": "DescriptionStyleModel",
          "model_module_version": "1.5.0",
          "state": {
            "_model_module": "@jupyter-widgets/controls",
            "_model_module_version": "1.5.0",
            "_model_name": "DescriptionStyleModel",
            "_view_count": null,
            "_view_module": "@jupyter-widgets/base",
            "_view_module_version": "1.2.0",
            "_view_name": "StyleView",
            "description_width": ""
          }
        },
        "0778ab6659f945df95de88fac8149fd7": {
          "model_module": "@jupyter-widgets/base",
          "model_name": "LayoutModel",
          "model_module_version": "1.2.0",
          "state": {
            "_model_module": "@jupyter-widgets/base",
            "_model_module_version": "1.2.0",
            "_model_name": "LayoutModel",
            "_view_count": null,
            "_view_module": "@jupyter-widgets/base",
            "_view_module_version": "1.2.0",
            "_view_name": "LayoutView",
            "align_content": null,
            "align_items": null,
            "align_self": null,
            "border": null,
            "bottom": null,
            "display": null,
            "flex": null,
            "flex_flow": null,
            "grid_area": null,
            "grid_auto_columns": null,
            "grid_auto_flow": null,
            "grid_auto_rows": null,
            "grid_column": null,
            "grid_gap": null,
            "grid_row": null,
            "grid_template_areas": null,
            "grid_template_columns": null,
            "grid_template_rows": null,
            "height": null,
            "justify_content": null,
            "justify_items": null,
            "left": null,
            "margin": null,
            "max_height": null,
            "max_width": null,
            "min_height": null,
            "min_width": null,
            "object_fit": null,
            "object_position": null,
            "order": null,
            "overflow": null,
            "overflow_x": null,
            "overflow_y": null,
            "padding": null,
            "right": null,
            "top": null,
            "visibility": null,
            "width": "20px"
          }
        },
        "b1bed774d3714f0aa3aa7b9f062ab62a": {
          "model_module": "@jupyter-widgets/controls",
          "model_name": "ProgressStyleModel",
          "model_module_version": "1.5.0",
          "state": {
            "_model_module": "@jupyter-widgets/controls",
            "_model_module_version": "1.5.0",
            "_model_name": "ProgressStyleModel",
            "_view_count": null,
            "_view_module": "@jupyter-widgets/base",
            "_view_module_version": "1.2.0",
            "_view_name": "StyleView",
            "bar_color": null,
            "description_width": ""
          }
        },
        "a0c2cb53c1944bdf933d3df4956c20a2": {
          "model_module": "@jupyter-widgets/base",
          "model_name": "LayoutModel",
          "model_module_version": "1.2.0",
          "state": {
            "_model_module": "@jupyter-widgets/base",
            "_model_module_version": "1.2.0",
            "_model_name": "LayoutModel",
            "_view_count": null,
            "_view_module": "@jupyter-widgets/base",
            "_view_module_version": "1.2.0",
            "_view_name": "LayoutView",
            "align_content": null,
            "align_items": null,
            "align_self": null,
            "border": null,
            "bottom": null,
            "display": null,
            "flex": null,
            "flex_flow": null,
            "grid_area": null,
            "grid_auto_columns": null,
            "grid_auto_flow": null,
            "grid_auto_rows": null,
            "grid_column": null,
            "grid_gap": null,
            "grid_row": null,
            "grid_template_areas": null,
            "grid_template_columns": null,
            "grid_template_rows": null,
            "height": null,
            "justify_content": null,
            "justify_items": null,
            "left": null,
            "margin": null,
            "max_height": null,
            "max_width": null,
            "min_height": null,
            "min_width": null,
            "object_fit": null,
            "object_position": null,
            "order": null,
            "overflow": null,
            "overflow_x": null,
            "overflow_y": null,
            "padding": null,
            "right": null,
            "top": null,
            "visibility": null,
            "width": null
          }
        },
        "c69ecbff78a64b1d873c7bfab1370896": {
          "model_module": "@jupyter-widgets/controls",
          "model_name": "DescriptionStyleModel",
          "model_module_version": "1.5.0",
          "state": {
            "_model_module": "@jupyter-widgets/controls",
            "_model_module_version": "1.5.0",
            "_model_name": "DescriptionStyleModel",
            "_view_count": null,
            "_view_module": "@jupyter-widgets/base",
            "_view_module_version": "1.2.0",
            "_view_name": "StyleView",
            "description_width": ""
          }
        },
        "b3db2ecaf8f34774aa6cf7fe29e1b4a7": {
          "model_module": "@jupyter-widgets/controls",
          "model_name": "HBoxModel",
          "model_module_version": "1.5.0",
          "state": {
            "_dom_classes": [],
            "_model_module": "@jupyter-widgets/controls",
            "_model_module_version": "1.5.0",
            "_model_name": "HBoxModel",
            "_view_count": null,
            "_view_module": "@jupyter-widgets/controls",
            "_view_module_version": "1.5.0",
            "_view_name": "HBoxView",
            "box_style": "",
            "children": [
              "IPY_MODEL_0dd4505fa8f24683b72ffdd9c2efe872",
              "IPY_MODEL_133791e2a24f4fbba105ea9b5f4e01ce",
              "IPY_MODEL_2f804dd90c8e4fd39e5d7daca43588a5"
            ],
            "layout": "IPY_MODEL_0b459f4751ca40079fdee2d323aa89af"
          }
        },
        "0dd4505fa8f24683b72ffdd9c2efe872": {
          "model_module": "@jupyter-widgets/controls",
          "model_name": "HTMLModel",
          "model_module_version": "1.5.0",
          "state": {
            "_dom_classes": [],
            "_model_module": "@jupyter-widgets/controls",
            "_model_module_version": "1.5.0",
            "_model_name": "HTMLModel",
            "_view_count": null,
            "_view_module": "@jupyter-widgets/controls",
            "_view_module_version": "1.5.0",
            "_view_name": "HTMLView",
            "description": "",
            "description_tooltip": null,
            "layout": "IPY_MODEL_bcb50368269749e4b0a4d87ddfbdb448",
            "placeholder": "​",
            "style": "IPY_MODEL_feec9e04fc55473294d51e22247516e7",
            "value": "deepencoder.py: "
          }
        },
        "133791e2a24f4fbba105ea9b5f4e01ce": {
          "model_module": "@jupyter-widgets/controls",
          "model_name": "FloatProgressModel",
          "model_module_version": "1.5.0",
          "state": {
            "_dom_classes": [],
            "_model_module": "@jupyter-widgets/controls",
            "_model_module_version": "1.5.0",
            "_model_name": "FloatProgressModel",
            "_view_count": null,
            "_view_module": "@jupyter-widgets/controls",
            "_view_module_version": "1.5.0",
            "_view_name": "ProgressView",
            "bar_style": "success",
            "description": "",
            "description_tooltip": null,
            "layout": "IPY_MODEL_013ff2c6b6554f1396eac136d1a497c7",
            "max": 1,
            "min": 0,
            "orientation": "horizontal",
            "style": "IPY_MODEL_bbb86b62c17e48038639f51739ba9467",
            "value": 1
          }
        },
        "2f804dd90c8e4fd39e5d7daca43588a5": {
          "model_module": "@jupyter-widgets/controls",
          "model_name": "HTMLModel",
          "model_module_version": "1.5.0",
          "state": {
            "_dom_classes": [],
            "_model_module": "@jupyter-widgets/controls",
            "_model_module_version": "1.5.0",
            "_model_name": "HTMLModel",
            "_view_count": null,
            "_view_module": "@jupyter-widgets/controls",
            "_view_module_version": "1.5.0",
            "_view_name": "HTMLView",
            "description": "",
            "description_tooltip": null,
            "layout": "IPY_MODEL_ade5b03fa36947cca719fac306268524",
            "placeholder": "​",
            "style": "IPY_MODEL_adce4aa8c12e42e78b55b653e7c26f8d",
            "value": " 38.0k/? [00:00&lt;00:00, 4.38MB/s]"
          }
        },
        "0b459f4751ca40079fdee2d323aa89af": {
          "model_module": "@jupyter-widgets/base",
          "model_name": "LayoutModel",
          "model_module_version": "1.2.0",
          "state": {
            "_model_module": "@jupyter-widgets/base",
            "_model_module_version": "1.2.0",
            "_model_name": "LayoutModel",
            "_view_count": null,
            "_view_module": "@jupyter-widgets/base",
            "_view_module_version": "1.2.0",
            "_view_name": "LayoutView",
            "align_content": null,
            "align_items": null,
            "align_self": null,
            "border": null,
            "bottom": null,
            "display": null,
            "flex": null,
            "flex_flow": null,
            "grid_area": null,
            "grid_auto_columns": null,
            "grid_auto_flow": null,
            "grid_auto_rows": null,
            "grid_column": null,
            "grid_gap": null,
            "grid_row": null,
            "grid_template_areas": null,
            "grid_template_columns": null,
            "grid_template_rows": null,
            "height": null,
            "justify_content": null,
            "justify_items": null,
            "left": null,
            "margin": null,
            "max_height": null,
            "max_width": null,
            "min_height": null,
            "min_width": null,
            "object_fit": null,
            "object_position": null,
            "order": null,
            "overflow": null,
            "overflow_x": null,
            "overflow_y": null,
            "padding": null,
            "right": null,
            "top": null,
            "visibility": null,
            "width": null
          }
        },
        "bcb50368269749e4b0a4d87ddfbdb448": {
          "model_module": "@jupyter-widgets/base",
          "model_name": "LayoutModel",
          "model_module_version": "1.2.0",
          "state": {
            "_model_module": "@jupyter-widgets/base",
            "_model_module_version": "1.2.0",
            "_model_name": "LayoutModel",
            "_view_count": null,
            "_view_module": "@jupyter-widgets/base",
            "_view_module_version": "1.2.0",
            "_view_name": "LayoutView",
            "align_content": null,
            "align_items": null,
            "align_self": null,
            "border": null,
            "bottom": null,
            "display": null,
            "flex": null,
            "flex_flow": null,
            "grid_area": null,
            "grid_auto_columns": null,
            "grid_auto_flow": null,
            "grid_auto_rows": null,
            "grid_column": null,
            "grid_gap": null,
            "grid_row": null,
            "grid_template_areas": null,
            "grid_template_columns": null,
            "grid_template_rows": null,
            "height": null,
            "justify_content": null,
            "justify_items": null,
            "left": null,
            "margin": null,
            "max_height": null,
            "max_width": null,
            "min_height": null,
            "min_width": null,
            "object_fit": null,
            "object_position": null,
            "order": null,
            "overflow": null,
            "overflow_x": null,
            "overflow_y": null,
            "padding": null,
            "right": null,
            "top": null,
            "visibility": null,
            "width": null
          }
        },
        "feec9e04fc55473294d51e22247516e7": {
          "model_module": "@jupyter-widgets/controls",
          "model_name": "DescriptionStyleModel",
          "model_module_version": "1.5.0",
          "state": {
            "_model_module": "@jupyter-widgets/controls",
            "_model_module_version": "1.5.0",
            "_model_name": "DescriptionStyleModel",
            "_view_count": null,
            "_view_module": "@jupyter-widgets/base",
            "_view_module_version": "1.2.0",
            "_view_name": "StyleView",
            "description_width": ""
          }
        },
        "013ff2c6b6554f1396eac136d1a497c7": {
          "model_module": "@jupyter-widgets/base",
          "model_name": "LayoutModel",
          "model_module_version": "1.2.0",
          "state": {
            "_model_module": "@jupyter-widgets/base",
            "_model_module_version": "1.2.0",
            "_model_name": "LayoutModel",
            "_view_count": null,
            "_view_module": "@jupyter-widgets/base",
            "_view_module_version": "1.2.0",
            "_view_name": "LayoutView",
            "align_content": null,
            "align_items": null,
            "align_self": null,
            "border": null,
            "bottom": null,
            "display": null,
            "flex": null,
            "flex_flow": null,
            "grid_area": null,
            "grid_auto_columns": null,
            "grid_auto_flow": null,
            "grid_auto_rows": null,
            "grid_column": null,
            "grid_gap": null,
            "grid_row": null,
            "grid_template_areas": null,
            "grid_template_columns": null,
            "grid_template_rows": null,
            "height": null,
            "justify_content": null,
            "justify_items": null,
            "left": null,
            "margin": null,
            "max_height": null,
            "max_width": null,
            "min_height": null,
            "min_width": null,
            "object_fit": null,
            "object_position": null,
            "order": null,
            "overflow": null,
            "overflow_x": null,
            "overflow_y": null,
            "padding": null,
            "right": null,
            "top": null,
            "visibility": null,
            "width": "20px"
          }
        },
        "bbb86b62c17e48038639f51739ba9467": {
          "model_module": "@jupyter-widgets/controls",
          "model_name": "ProgressStyleModel",
          "model_module_version": "1.5.0",
          "state": {
            "_model_module": "@jupyter-widgets/controls",
            "_model_module_version": "1.5.0",
            "_model_name": "ProgressStyleModel",
            "_view_count": null,
            "_view_module": "@jupyter-widgets/base",
            "_view_module_version": "1.2.0",
            "_view_name": "StyleView",
            "bar_color": null,
            "description_width": ""
          }
        },
        "ade5b03fa36947cca719fac306268524": {
          "model_module": "@jupyter-widgets/base",
          "model_name": "LayoutModel",
          "model_module_version": "1.2.0",
          "state": {
            "_model_module": "@jupyter-widgets/base",
            "_model_module_version": "1.2.0",
            "_model_name": "LayoutModel",
            "_view_count": null,
            "_view_module": "@jupyter-widgets/base",
            "_view_module_version": "1.2.0",
            "_view_name": "LayoutView",
            "align_content": null,
            "align_items": null,
            "align_self": null,
            "border": null,
            "bottom": null,
            "display": null,
            "flex": null,
            "flex_flow": null,
            "grid_area": null,
            "grid_auto_columns": null,
            "grid_auto_flow": null,
            "grid_auto_rows": null,
            "grid_column": null,
            "grid_gap": null,
            "grid_row": null,
            "grid_template_areas": null,
            "grid_template_columns": null,
            "grid_template_rows": null,
            "height": null,
            "justify_content": null,
            "justify_items": null,
            "left": null,
            "margin": null,
            "max_height": null,
            "max_width": null,
            "min_height": null,
            "min_width": null,
            "object_fit": null,
            "object_position": null,
            "order": null,
            "overflow": null,
            "overflow_x": null,
            "overflow_y": null,
            "padding": null,
            "right": null,
            "top": null,
            "visibility": null,
            "width": null
          }
        },
        "adce4aa8c12e42e78b55b653e7c26f8d": {
          "model_module": "@jupyter-widgets/controls",
          "model_name": "DescriptionStyleModel",
          "model_module_version": "1.5.0",
          "state": {
            "_model_module": "@jupyter-widgets/controls",
            "_model_module_version": "1.5.0",
            "_model_name": "DescriptionStyleModel",
            "_view_count": null,
            "_view_module": "@jupyter-widgets/base",
            "_view_module_version": "1.2.0",
            "_view_name": "StyleView",
            "description_width": ""
          }
        },
        "c96383ed5fc24230a97b3a7d14f9f13d": {
          "model_module": "@jupyter-widgets/controls",
          "model_name": "HBoxModel",
          "model_module_version": "1.5.0",
          "state": {
            "_dom_classes": [],
            "_model_module": "@jupyter-widgets/controls",
            "_model_module_version": "1.5.0",
            "_model_name": "HBoxModel",
            "_view_count": null,
            "_view_module": "@jupyter-widgets/controls",
            "_view_module_version": "1.5.0",
            "_view_name": "HBoxView",
            "box_style": "",
            "children": [
              "IPY_MODEL_95238ed767df40ce80c9f31caaabd024",
              "IPY_MODEL_dec69b8171aa4d87a081975ee2aee5ba",
              "IPY_MODEL_82451843cdb6429ca88d2f90abfd3cdb"
            ],
            "layout": "IPY_MODEL_14b1ebf2d8504733bf48ebd72ab9ce3d"
          }
        },
        "95238ed767df40ce80c9f31caaabd024": {
          "model_module": "@jupyter-widgets/controls",
          "model_name": "HTMLModel",
          "model_module_version": "1.5.0",
          "state": {
            "_dom_classes": [],
            "_model_module": "@jupyter-widgets/controls",
            "_model_module_version": "1.5.0",
            "_model_name": "HTMLModel",
            "_view_count": null,
            "_view_module": "@jupyter-widgets/controls",
            "_view_module_version": "1.5.0",
            "_view_name": "HTMLView",
            "description": "",
            "description_tooltip": null,
            "layout": "IPY_MODEL_2359820471d4471ab2e4e85db1a30f73",
            "placeholder": "​",
            "style": "IPY_MODEL_1997e11a64fb4950a5bb3eabf14855a7",
            "value": "conversation.py: "
          }
        },
        "dec69b8171aa4d87a081975ee2aee5ba": {
          "model_module": "@jupyter-widgets/controls",
          "model_name": "FloatProgressModel",
          "model_module_version": "1.5.0",
          "state": {
            "_dom_classes": [],
            "_model_module": "@jupyter-widgets/controls",
            "_model_module_version": "1.5.0",
            "_model_name": "FloatProgressModel",
            "_view_count": null,
            "_view_module": "@jupyter-widgets/controls",
            "_view_module_version": "1.5.0",
            "_view_name": "ProgressView",
            "bar_style": "success",
            "description": "",
            "description_tooltip": null,
            "layout": "IPY_MODEL_115a86ed2cfe411f953a4c9f7fc84f60",
            "max": 1,
            "min": 0,
            "orientation": "horizontal",
            "style": "IPY_MODEL_091624d9919e4da1a1e9e3fe39703b08",
            "value": 1
          }
        },
        "82451843cdb6429ca88d2f90abfd3cdb": {
          "model_module": "@jupyter-widgets/controls",
          "model_name": "HTMLModel",
          "model_module_version": "1.5.0",
          "state": {
            "_dom_classes": [],
            "_model_module": "@jupyter-widgets/controls",
            "_model_module_version": "1.5.0",
            "_model_name": "HTMLModel",
            "_view_count": null,
            "_view_module": "@jupyter-widgets/controls",
            "_view_module_version": "1.5.0",
            "_view_name": "HTMLView",
            "description": "",
            "description_tooltip": null,
            "layout": "IPY_MODEL_b7b5ed51d00d47c9a1cd73cf6f1ee102",
            "placeholder": "​",
            "style": "IPY_MODEL_ac044eb48c2f4b609dae6f7bf41796e1",
            "value": " 9.25k/? [00:00&lt;00:00, 1.16MB/s]"
          }
        },
        "14b1ebf2d8504733bf48ebd72ab9ce3d": {
          "model_module": "@jupyter-widgets/base",
          "model_name": "LayoutModel",
          "model_module_version": "1.2.0",
          "state": {
            "_model_module": "@jupyter-widgets/base",
            "_model_module_version": "1.2.0",
            "_model_name": "LayoutModel",
            "_view_count": null,
            "_view_module": "@jupyter-widgets/base",
            "_view_module_version": "1.2.0",
            "_view_name": "LayoutView",
            "align_content": null,
            "align_items": null,
            "align_self": null,
            "border": null,
            "bottom": null,
            "display": null,
            "flex": null,
            "flex_flow": null,
            "grid_area": null,
            "grid_auto_columns": null,
            "grid_auto_flow": null,
            "grid_auto_rows": null,
            "grid_column": null,
            "grid_gap": null,
            "grid_row": null,
            "grid_template_areas": null,
            "grid_template_columns": null,
            "grid_template_rows": null,
            "height": null,
            "justify_content": null,
            "justify_items": null,
            "left": null,
            "margin": null,
            "max_height": null,
            "max_width": null,
            "min_height": null,
            "min_width": null,
            "object_fit": null,
            "object_position": null,
            "order": null,
            "overflow": null,
            "overflow_x": null,
            "overflow_y": null,
            "padding": null,
            "right": null,
            "top": null,
            "visibility": null,
            "width": null
          }
        },
        "2359820471d4471ab2e4e85db1a30f73": {
          "model_module": "@jupyter-widgets/base",
          "model_name": "LayoutModel",
          "model_module_version": "1.2.0",
          "state": {
            "_model_module": "@jupyter-widgets/base",
            "_model_module_version": "1.2.0",
            "_model_name": "LayoutModel",
            "_view_count": null,
            "_view_module": "@jupyter-widgets/base",
            "_view_module_version": "1.2.0",
            "_view_name": "LayoutView",
            "align_content": null,
            "align_items": null,
            "align_self": null,
            "border": null,
            "bottom": null,
            "display": null,
            "flex": null,
            "flex_flow": null,
            "grid_area": null,
            "grid_auto_columns": null,
            "grid_auto_flow": null,
            "grid_auto_rows": null,
            "grid_column": null,
            "grid_gap": null,
            "grid_row": null,
            "grid_template_areas": null,
            "grid_template_columns": null,
            "grid_template_rows": null,
            "height": null,
            "justify_content": null,
            "justify_items": null,
            "left": null,
            "margin": null,
            "max_height": null,
            "max_width": null,
            "min_height": null,
            "min_width": null,
            "object_fit": null,
            "object_position": null,
            "order": null,
            "overflow": null,
            "overflow_x": null,
            "overflow_y": null,
            "padding": null,
            "right": null,
            "top": null,
            "visibility": null,
            "width": null
          }
        },
        "1997e11a64fb4950a5bb3eabf14855a7": {
          "model_module": "@jupyter-widgets/controls",
          "model_name": "DescriptionStyleModel",
          "model_module_version": "1.5.0",
          "state": {
            "_model_module": "@jupyter-widgets/controls",
            "_model_module_version": "1.5.0",
            "_model_name": "DescriptionStyleModel",
            "_view_count": null,
            "_view_module": "@jupyter-widgets/base",
            "_view_module_version": "1.2.0",
            "_view_name": "StyleView",
            "description_width": ""
          }
        },
        "115a86ed2cfe411f953a4c9f7fc84f60": {
          "model_module": "@jupyter-widgets/base",
          "model_name": "LayoutModel",
          "model_module_version": "1.2.0",
          "state": {
            "_model_module": "@jupyter-widgets/base",
            "_model_module_version": "1.2.0",
            "_model_name": "LayoutModel",
            "_view_count": null,
            "_view_module": "@jupyter-widgets/base",
            "_view_module_version": "1.2.0",
            "_view_name": "LayoutView",
            "align_content": null,
            "align_items": null,
            "align_self": null,
            "border": null,
            "bottom": null,
            "display": null,
            "flex": null,
            "flex_flow": null,
            "grid_area": null,
            "grid_auto_columns": null,
            "grid_auto_flow": null,
            "grid_auto_rows": null,
            "grid_column": null,
            "grid_gap": null,
            "grid_row": null,
            "grid_template_areas": null,
            "grid_template_columns": null,
            "grid_template_rows": null,
            "height": null,
            "justify_content": null,
            "justify_items": null,
            "left": null,
            "margin": null,
            "max_height": null,
            "max_width": null,
            "min_height": null,
            "min_width": null,
            "object_fit": null,
            "object_position": null,
            "order": null,
            "overflow": null,
            "overflow_x": null,
            "overflow_y": null,
            "padding": null,
            "right": null,
            "top": null,
            "visibility": null,
            "width": "20px"
          }
        },
        "091624d9919e4da1a1e9e3fe39703b08": {
          "model_module": "@jupyter-widgets/controls",
          "model_name": "ProgressStyleModel",
          "model_module_version": "1.5.0",
          "state": {
            "_model_module": "@jupyter-widgets/controls",
            "_model_module_version": "1.5.0",
            "_model_name": "ProgressStyleModel",
            "_view_count": null,
            "_view_module": "@jupyter-widgets/base",
            "_view_module_version": "1.2.0",
            "_view_name": "StyleView",
            "bar_color": null,
            "description_width": ""
          }
        },
        "b7b5ed51d00d47c9a1cd73cf6f1ee102": {
          "model_module": "@jupyter-widgets/base",
          "model_name": "LayoutModel",
          "model_module_version": "1.2.0",
          "state": {
            "_model_module": "@jupyter-widgets/base",
            "_model_module_version": "1.2.0",
            "_model_name": "LayoutModel",
            "_view_count": null,
            "_view_module": "@jupyter-widgets/base",
            "_view_module_version": "1.2.0",
            "_view_name": "LayoutView",
            "align_content": null,
            "align_items": null,
            "align_self": null,
            "border": null,
            "bottom": null,
            "display": null,
            "flex": null,
            "flex_flow": null,
            "grid_area": null,
            "grid_auto_columns": null,
            "grid_auto_flow": null,
            "grid_auto_rows": null,
            "grid_column": null,
            "grid_gap": null,
            "grid_row": null,
            "grid_template_areas": null,
            "grid_template_columns": null,
            "grid_template_rows": null,
            "height": null,
            "justify_content": null,
            "justify_items": null,
            "left": null,
            "margin": null,
            "max_height": null,
            "max_width": null,
            "min_height": null,
            "min_width": null,
            "object_fit": null,
            "object_position": null,
            "order": null,
            "overflow": null,
            "overflow_x": null,
            "overflow_y": null,
            "padding": null,
            "right": null,
            "top": null,
            "visibility": null,
            "width": null
          }
        },
        "ac044eb48c2f4b609dae6f7bf41796e1": {
          "model_module": "@jupyter-widgets/controls",
          "model_name": "DescriptionStyleModel",
          "model_module_version": "1.5.0",
          "state": {
            "_model_module": "@jupyter-widgets/controls",
            "_model_module_version": "1.5.0",
            "_model_name": "DescriptionStyleModel",
            "_view_count": null,
            "_view_module": "@jupyter-widgets/base",
            "_view_module_version": "1.2.0",
            "_view_name": "StyleView",
            "description_width": ""
          }
        },
        "ffc06eb8aa71485aafbba7726c86f94e": {
          "model_module": "@jupyter-widgets/controls",
          "model_name": "HBoxModel",
          "model_module_version": "1.5.0",
          "state": {
            "_dom_classes": [],
            "_model_module": "@jupyter-widgets/controls",
            "_model_module_version": "1.5.0",
            "_model_name": "HBoxModel",
            "_view_count": null,
            "_view_module": "@jupyter-widgets/controls",
            "_view_module_version": "1.5.0",
            "_view_name": "HBoxView",
            "box_style": "",
            "children": [
              "IPY_MODEL_39ae7680389f4044ad0a89dcfed67ace",
              "IPY_MODEL_382cb3ac644d43acbbf5478ea92388d7",
              "IPY_MODEL_f079539839664583ac4cbd99c90bc0d6"
            ],
            "layout": "IPY_MODEL_15169a6117c041cd98e553a0bb58174b"
          }
        },
        "39ae7680389f4044ad0a89dcfed67ace": {
          "model_module": "@jupyter-widgets/controls",
          "model_name": "HTMLModel",
          "model_module_version": "1.5.0",
          "state": {
            "_dom_classes": [],
            "_model_module": "@jupyter-widgets/controls",
            "_model_module_version": "1.5.0",
            "_model_name": "HTMLModel",
            "_view_count": null,
            "_view_module": "@jupyter-widgets/controls",
            "_view_module_version": "1.5.0",
            "_view_name": "HTMLView",
            "description": "",
            "description_tooltip": null,
            "layout": "IPY_MODEL_e7fddc60d10944a48ac868fecc0c2dbb",
            "placeholder": "​",
            "style": "IPY_MODEL_1e59e3654a3a4b02beb140bb49b441e8",
            "value": "modeling_deepseekv2.py: "
          }
        },
        "382cb3ac644d43acbbf5478ea92388d7": {
          "model_module": "@jupyter-widgets/controls",
          "model_name": "FloatProgressModel",
          "model_module_version": "1.5.0",
          "state": {
            "_dom_classes": [],
            "_model_module": "@jupyter-widgets/controls",
            "_model_module_version": "1.5.0",
            "_model_name": "FloatProgressModel",
            "_view_count": null,
            "_view_module": "@jupyter-widgets/controls",
            "_view_module_version": "1.5.0",
            "_view_name": "ProgressView",
            "bar_style": "success",
            "description": "",
            "description_tooltip": null,
            "layout": "IPY_MODEL_38bf0da5680c4355a1da771235d32a62",
            "max": 1,
            "min": 0,
            "orientation": "horizontal",
            "style": "IPY_MODEL_c0105231f08248a1b623483496784c1e",
            "value": 1
          }
        },
        "f079539839664583ac4cbd99c90bc0d6": {
          "model_module": "@jupyter-widgets/controls",
          "model_name": "HTMLModel",
          "model_module_version": "1.5.0",
          "state": {
            "_dom_classes": [],
            "_model_module": "@jupyter-widgets/controls",
            "_model_module_version": "1.5.0",
            "_model_name": "HTMLModel",
            "_view_count": null,
            "_view_module": "@jupyter-widgets/controls",
            "_view_module_version": "1.5.0",
            "_view_name": "HTMLView",
            "description": "",
            "description_tooltip": null,
            "layout": "IPY_MODEL_bc2ab1f3a2854a7cbb01e27b403675a3",
            "placeholder": "​",
            "style": "IPY_MODEL_0a27d9a690204d95890b64d0d7f361fa",
            "value": " 82.2k/? [00:00&lt;00:00, 8.19MB/s]"
          }
        },
        "15169a6117c041cd98e553a0bb58174b": {
          "model_module": "@jupyter-widgets/base",
          "model_name": "LayoutModel",
          "model_module_version": "1.2.0",
          "state": {
            "_model_module": "@jupyter-widgets/base",
            "_model_module_version": "1.2.0",
            "_model_name": "LayoutModel",
            "_view_count": null,
            "_view_module": "@jupyter-widgets/base",
            "_view_module_version": "1.2.0",
            "_view_name": "LayoutView",
            "align_content": null,
            "align_items": null,
            "align_self": null,
            "border": null,
            "bottom": null,
            "display": null,
            "flex": null,
            "flex_flow": null,
            "grid_area": null,
            "grid_auto_columns": null,
            "grid_auto_flow": null,
            "grid_auto_rows": null,
            "grid_column": null,
            "grid_gap": null,
            "grid_row": null,
            "grid_template_areas": null,
            "grid_template_columns": null,
            "grid_template_rows": null,
            "height": null,
            "justify_content": null,
            "justify_items": null,
            "left": null,
            "margin": null,
            "max_height": null,
            "max_width": null,
            "min_height": null,
            "min_width": null,
            "object_fit": null,
            "object_position": null,
            "order": null,
            "overflow": null,
            "overflow_x": null,
            "overflow_y": null,
            "padding": null,
            "right": null,
            "top": null,
            "visibility": null,
            "width": null
          }
        },
        "e7fddc60d10944a48ac868fecc0c2dbb": {
          "model_module": "@jupyter-widgets/base",
          "model_name": "LayoutModel",
          "model_module_version": "1.2.0",
          "state": {
            "_model_module": "@jupyter-widgets/base",
            "_model_module_version": "1.2.0",
            "_model_name": "LayoutModel",
            "_view_count": null,
            "_view_module": "@jupyter-widgets/base",
            "_view_module_version": "1.2.0",
            "_view_name": "LayoutView",
            "align_content": null,
            "align_items": null,
            "align_self": null,
            "border": null,
            "bottom": null,
            "display": null,
            "flex": null,
            "flex_flow": null,
            "grid_area": null,
            "grid_auto_columns": null,
            "grid_auto_flow": null,
            "grid_auto_rows": null,
            "grid_column": null,
            "grid_gap": null,
            "grid_row": null,
            "grid_template_areas": null,
            "grid_template_columns": null,
            "grid_template_rows": null,
            "height": null,
            "justify_content": null,
            "justify_items": null,
            "left": null,
            "margin": null,
            "max_height": null,
            "max_width": null,
            "min_height": null,
            "min_width": null,
            "object_fit": null,
            "object_position": null,
            "order": null,
            "overflow": null,
            "overflow_x": null,
            "overflow_y": null,
            "padding": null,
            "right": null,
            "top": null,
            "visibility": null,
            "width": null
          }
        },
        "1e59e3654a3a4b02beb140bb49b441e8": {
          "model_module": "@jupyter-widgets/controls",
          "model_name": "DescriptionStyleModel",
          "model_module_version": "1.5.0",
          "state": {
            "_model_module": "@jupyter-widgets/controls",
            "_model_module_version": "1.5.0",
            "_model_name": "DescriptionStyleModel",
            "_view_count": null,
            "_view_module": "@jupyter-widgets/base",
            "_view_module_version": "1.2.0",
            "_view_name": "StyleView",
            "description_width": ""
          }
        },
        "38bf0da5680c4355a1da771235d32a62": {
          "model_module": "@jupyter-widgets/base",
          "model_name": "LayoutModel",
          "model_module_version": "1.2.0",
          "state": {
            "_model_module": "@jupyter-widgets/base",
            "_model_module_version": "1.2.0",
            "_model_name": "LayoutModel",
            "_view_count": null,
            "_view_module": "@jupyter-widgets/base",
            "_view_module_version": "1.2.0",
            "_view_name": "LayoutView",
            "align_content": null,
            "align_items": null,
            "align_self": null,
            "border": null,
            "bottom": null,
            "display": null,
            "flex": null,
            "flex_flow": null,
            "grid_area": null,
            "grid_auto_columns": null,
            "grid_auto_flow": null,
            "grid_auto_rows": null,
            "grid_column": null,
            "grid_gap": null,
            "grid_row": null,
            "grid_template_areas": null,
            "grid_template_columns": null,
            "grid_template_rows": null,
            "height": null,
            "justify_content": null,
            "justify_items": null,
            "left": null,
            "margin": null,
            "max_height": null,
            "max_width": null,
            "min_height": null,
            "min_width": null,
            "object_fit": null,
            "object_position": null,
            "order": null,
            "overflow": null,
            "overflow_x": null,
            "overflow_y": null,
            "padding": null,
            "right": null,
            "top": null,
            "visibility": null,
            "width": "20px"
          }
        },
        "c0105231f08248a1b623483496784c1e": {
          "model_module": "@jupyter-widgets/controls",
          "model_name": "ProgressStyleModel",
          "model_module_version": "1.5.0",
          "state": {
            "_model_module": "@jupyter-widgets/controls",
            "_model_module_version": "1.5.0",
            "_model_name": "ProgressStyleModel",
            "_view_count": null,
            "_view_module": "@jupyter-widgets/base",
            "_view_module_version": "1.2.0",
            "_view_name": "StyleView",
            "bar_color": null,
            "description_width": ""
          }
        },
        "bc2ab1f3a2854a7cbb01e27b403675a3": {
          "model_module": "@jupyter-widgets/base",
          "model_name": "LayoutModel",
          "model_module_version": "1.2.0",
          "state": {
            "_model_module": "@jupyter-widgets/base",
            "_model_module_version": "1.2.0",
            "_model_name": "LayoutModel",
            "_view_count": null,
            "_view_module": "@jupyter-widgets/base",
            "_view_module_version": "1.2.0",
            "_view_name": "LayoutView",
            "align_content": null,
            "align_items": null,
            "align_self": null,
            "border": null,
            "bottom": null,
            "display": null,
            "flex": null,
            "flex_flow": null,
            "grid_area": null,
            "grid_auto_columns": null,
            "grid_auto_flow": null,
            "grid_auto_rows": null,
            "grid_column": null,
            "grid_gap": null,
            "grid_row": null,
            "grid_template_areas": null,
            "grid_template_columns": null,
            "grid_template_rows": null,
            "height": null,
            "justify_content": null,
            "justify_items": null,
            "left": null,
            "margin": null,
            "max_height": null,
            "max_width": null,
            "min_height": null,
            "min_width": null,
            "object_fit": null,
            "object_position": null,
            "order": null,
            "overflow": null,
            "overflow_x": null,
            "overflow_y": null,
            "padding": null,
            "right": null,
            "top": null,
            "visibility": null,
            "width": null
          }
        },
        "0a27d9a690204d95890b64d0d7f361fa": {
          "model_module": "@jupyter-widgets/controls",
          "model_name": "DescriptionStyleModel",
          "model_module_version": "1.5.0",
          "state": {
            "_model_module": "@jupyter-widgets/controls",
            "_model_module_version": "1.5.0",
            "_model_name": "DescriptionStyleModel",
            "_view_count": null,
            "_view_module": "@jupyter-widgets/base",
            "_view_module_version": "1.2.0",
            "_view_name": "StyleView",
            "description_width": ""
          }
        },
        "d604f0d3cbc74541aacbd72b02fd3dd3": {
          "model_module": "@jupyter-widgets/controls",
          "model_name": "HBoxModel",
          "model_module_version": "1.5.0",
          "state": {
            "_dom_classes": [],
            "_model_module": "@jupyter-widgets/controls",
            "_model_module_version": "1.5.0",
            "_model_name": "HBoxModel",
            "_view_count": null,
            "_view_module": "@jupyter-widgets/controls",
            "_view_module_version": "1.5.0",
            "_view_name": "HBoxView",
            "box_style": "",
            "children": [
              "IPY_MODEL_77b5622d0b174a2ab54b5d908a7edb4d",
              "IPY_MODEL_47152bee35464e7cba23740b08569c0f",
              "IPY_MODEL_d6080779ab63485a93827cc27c4da39b"
            ],
            "layout": "IPY_MODEL_a9f3399c1dc74da188d7d8ae5db9ed22"
          }
        },
        "77b5622d0b174a2ab54b5d908a7edb4d": {
          "model_module": "@jupyter-widgets/controls",
          "model_name": "HTMLModel",
          "model_module_version": "1.5.0",
          "state": {
            "_dom_classes": [],
            "_model_module": "@jupyter-widgets/controls",
            "_model_module_version": "1.5.0",
            "_model_name": "HTMLModel",
            "_view_count": null,
            "_view_module": "@jupyter-widgets/controls",
            "_view_module_version": "1.5.0",
            "_view_name": "HTMLView",
            "description": "",
            "description_tooltip": null,
            "layout": "IPY_MODEL_155bc0b09ba74a62b86a95ef7591fb10",
            "placeholder": "​",
            "style": "IPY_MODEL_fba00375ad22494b88fe19dc578bc5f8",
            "value": "configuration_deepseek_v2.py: "
          }
        },
        "47152bee35464e7cba23740b08569c0f": {
          "model_module": "@jupyter-widgets/controls",
          "model_name": "FloatProgressModel",
          "model_module_version": "1.5.0",
          "state": {
            "_dom_classes": [],
            "_model_module": "@jupyter-widgets/controls",
            "_model_module_version": "1.5.0",
            "_model_name": "FloatProgressModel",
            "_view_count": null,
            "_view_module": "@jupyter-widgets/controls",
            "_view_module_version": "1.5.0",
            "_view_name": "ProgressView",
            "bar_style": "success",
            "description": "",
            "description_tooltip": null,
            "layout": "IPY_MODEL_929919a95c01467f9a3c294887e692e7",
            "max": 1,
            "min": 0,
            "orientation": "horizontal",
            "style": "IPY_MODEL_816a911720e444c3a9eb0dc57a8b1bc9",
            "value": 1
          }
        },
        "d6080779ab63485a93827cc27c4da39b": {
          "model_module": "@jupyter-widgets/controls",
          "model_name": "HTMLModel",
          "model_module_version": "1.5.0",
          "state": {
            "_dom_classes": [],
            "_model_module": "@jupyter-widgets/controls",
            "_model_module_version": "1.5.0",
            "_model_name": "HTMLModel",
            "_view_count": null,
            "_view_module": "@jupyter-widgets/controls",
            "_view_module_version": "1.5.0",
            "_view_name": "HTMLView",
            "description": "",
            "description_tooltip": null,
            "layout": "IPY_MODEL_aaf56b49b3bf41ccaf483440c82bb023",
            "placeholder": "​",
            "style": "IPY_MODEL_df3cd661d6fc4f4d983ccffa3f6164cb",
            "value": " 10.6k/? [00:00&lt;00:00, 1.15MB/s]"
          }
        },
        "a9f3399c1dc74da188d7d8ae5db9ed22": {
          "model_module": "@jupyter-widgets/base",
          "model_name": "LayoutModel",
          "model_module_version": "1.2.0",
          "state": {
            "_model_module": "@jupyter-widgets/base",
            "_model_module_version": "1.2.0",
            "_model_name": "LayoutModel",
            "_view_count": null,
            "_view_module": "@jupyter-widgets/base",
            "_view_module_version": "1.2.0",
            "_view_name": "LayoutView",
            "align_content": null,
            "align_items": null,
            "align_self": null,
            "border": null,
            "bottom": null,
            "display": null,
            "flex": null,
            "flex_flow": null,
            "grid_area": null,
            "grid_auto_columns": null,
            "grid_auto_flow": null,
            "grid_auto_rows": null,
            "grid_column": null,
            "grid_gap": null,
            "grid_row": null,
            "grid_template_areas": null,
            "grid_template_columns": null,
            "grid_template_rows": null,
            "height": null,
            "justify_content": null,
            "justify_items": null,
            "left": null,
            "margin": null,
            "max_height": null,
            "max_width": null,
            "min_height": null,
            "min_width": null,
            "object_fit": null,
            "object_position": null,
            "order": null,
            "overflow": null,
            "overflow_x": null,
            "overflow_y": null,
            "padding": null,
            "right": null,
            "top": null,
            "visibility": null,
            "width": null
          }
        },
        "155bc0b09ba74a62b86a95ef7591fb10": {
          "model_module": "@jupyter-widgets/base",
          "model_name": "LayoutModel",
          "model_module_version": "1.2.0",
          "state": {
            "_model_module": "@jupyter-widgets/base",
            "_model_module_version": "1.2.0",
            "_model_name": "LayoutModel",
            "_view_count": null,
            "_view_module": "@jupyter-widgets/base",
            "_view_module_version": "1.2.0",
            "_view_name": "LayoutView",
            "align_content": null,
            "align_items": null,
            "align_self": null,
            "border": null,
            "bottom": null,
            "display": null,
            "flex": null,
            "flex_flow": null,
            "grid_area": null,
            "grid_auto_columns": null,
            "grid_auto_flow": null,
            "grid_auto_rows": null,
            "grid_column": null,
            "grid_gap": null,
            "grid_row": null,
            "grid_template_areas": null,
            "grid_template_columns": null,
            "grid_template_rows": null,
            "height": null,
            "justify_content": null,
            "justify_items": null,
            "left": null,
            "margin": null,
            "max_height": null,
            "max_width": null,
            "min_height": null,
            "min_width": null,
            "object_fit": null,
            "object_position": null,
            "order": null,
            "overflow": null,
            "overflow_x": null,
            "overflow_y": null,
            "padding": null,
            "right": null,
            "top": null,
            "visibility": null,
            "width": null
          }
        },
        "fba00375ad22494b88fe19dc578bc5f8": {
          "model_module": "@jupyter-widgets/controls",
          "model_name": "DescriptionStyleModel",
          "model_module_version": "1.5.0",
          "state": {
            "_model_module": "@jupyter-widgets/controls",
            "_model_module_version": "1.5.0",
            "_model_name": "DescriptionStyleModel",
            "_view_count": null,
            "_view_module": "@jupyter-widgets/base",
            "_view_module_version": "1.2.0",
            "_view_name": "StyleView",
            "description_width": ""
          }
        },
        "929919a95c01467f9a3c294887e692e7": {
          "model_module": "@jupyter-widgets/base",
          "model_name": "LayoutModel",
          "model_module_version": "1.2.0",
          "state": {
            "_model_module": "@jupyter-widgets/base",
            "_model_module_version": "1.2.0",
            "_model_name": "LayoutModel",
            "_view_count": null,
            "_view_module": "@jupyter-widgets/base",
            "_view_module_version": "1.2.0",
            "_view_name": "LayoutView",
            "align_content": null,
            "align_items": null,
            "align_self": null,
            "border": null,
            "bottom": null,
            "display": null,
            "flex": null,
            "flex_flow": null,
            "grid_area": null,
            "grid_auto_columns": null,
            "grid_auto_flow": null,
            "grid_auto_rows": null,
            "grid_column": null,
            "grid_gap": null,
            "grid_row": null,
            "grid_template_areas": null,
            "grid_template_columns": null,
            "grid_template_rows": null,
            "height": null,
            "justify_content": null,
            "justify_items": null,
            "left": null,
            "margin": null,
            "max_height": null,
            "max_width": null,
            "min_height": null,
            "min_width": null,
            "object_fit": null,
            "object_position": null,
            "order": null,
            "overflow": null,
            "overflow_x": null,
            "overflow_y": null,
            "padding": null,
            "right": null,
            "top": null,
            "visibility": null,
            "width": "20px"
          }
        },
        "816a911720e444c3a9eb0dc57a8b1bc9": {
          "model_module": "@jupyter-widgets/controls",
          "model_name": "ProgressStyleModel",
          "model_module_version": "1.5.0",
          "state": {
            "_model_module": "@jupyter-widgets/controls",
            "_model_module_version": "1.5.0",
            "_model_name": "ProgressStyleModel",
            "_view_count": null,
            "_view_module": "@jupyter-widgets/base",
            "_view_module_version": "1.2.0",
            "_view_name": "StyleView",
            "bar_color": null,
            "description_width": ""
          }
        },
        "aaf56b49b3bf41ccaf483440c82bb023": {
          "model_module": "@jupyter-widgets/base",
          "model_name": "LayoutModel",
          "model_module_version": "1.2.0",
          "state": {
            "_model_module": "@jupyter-widgets/base",
            "_model_module_version": "1.2.0",
            "_model_name": "LayoutModel",
            "_view_count": null,
            "_view_module": "@jupyter-widgets/base",
            "_view_module_version": "1.2.0",
            "_view_name": "LayoutView",
            "align_content": null,
            "align_items": null,
            "align_self": null,
            "border": null,
            "bottom": null,
            "display": null,
            "flex": null,
            "flex_flow": null,
            "grid_area": null,
            "grid_auto_columns": null,
            "grid_auto_flow": null,
            "grid_auto_rows": null,
            "grid_column": null,
            "grid_gap": null,
            "grid_row": null,
            "grid_template_areas": null,
            "grid_template_columns": null,
            "grid_template_rows": null,
            "height": null,
            "justify_content": null,
            "justify_items": null,
            "left": null,
            "margin": null,
            "max_height": null,
            "max_width": null,
            "min_height": null,
            "min_width": null,
            "object_fit": null,
            "object_position": null,
            "order": null,
            "overflow": null,
            "overflow_x": null,
            "overflow_y": null,
            "padding": null,
            "right": null,
            "top": null,
            "visibility": null,
            "width": null
          }
        },
        "df3cd661d6fc4f4d983ccffa3f6164cb": {
          "model_module": "@jupyter-widgets/controls",
          "model_name": "DescriptionStyleModel",
          "model_module_version": "1.5.0",
          "state": {
            "_model_module": "@jupyter-widgets/controls",
            "_model_module_version": "1.5.0",
            "_model_name": "DescriptionStyleModel",
            "_view_count": null,
            "_view_module": "@jupyter-widgets/base",
            "_view_module_version": "1.2.0",
            "_view_name": "StyleView",
            "description_width": ""
          }
        },
        "657074f2cc2941f5a5117be561c79189": {
          "model_module": "@jupyter-widgets/controls",
          "model_name": "HBoxModel",
          "model_module_version": "1.5.0",
          "state": {
            "_dom_classes": [],
            "_model_module": "@jupyter-widgets/controls",
            "_model_module_version": "1.5.0",
            "_model_name": "HBoxModel",
            "_view_count": null,
            "_view_module": "@jupyter-widgets/controls",
            "_view_module_version": "1.5.0",
            "_view_name": "HBoxView",
            "box_style": "",
            "children": [
              "IPY_MODEL_42ad0a9a899045ee93909b81483b6e30",
              "IPY_MODEL_f4df6d8f3d854a22899ee3e53842fe59",
              "IPY_MODEL_7e373ff96bef464f95c1697a4ee23721"
            ],
            "layout": "IPY_MODEL_0db076a41275418393acb55c964b467b"
          }
        },
        "42ad0a9a899045ee93909b81483b6e30": {
          "model_module": "@jupyter-widgets/controls",
          "model_name": "HTMLModel",
          "model_module_version": "1.5.0",
          "state": {
            "_dom_classes": [],
            "_model_module": "@jupyter-widgets/controls",
            "_model_module_version": "1.5.0",
            "_model_name": "HTMLModel",
            "_view_count": null,
            "_view_module": "@jupyter-widgets/controls",
            "_view_module_version": "1.5.0",
            "_view_name": "HTMLView",
            "description": "",
            "description_tooltip": null,
            "layout": "IPY_MODEL_05508774bc974648b2c6a149dabff746",
            "placeholder": "​",
            "style": "IPY_MODEL_6f0a0e856a2f4c418a4b2cedbaf152c4",
            "value": "model.safetensors.index.json: "
          }
        },
        "f4df6d8f3d854a22899ee3e53842fe59": {
          "model_module": "@jupyter-widgets/controls",
          "model_name": "FloatProgressModel",
          "model_module_version": "1.5.0",
          "state": {
            "_dom_classes": [],
            "_model_module": "@jupyter-widgets/controls",
            "_model_module_version": "1.5.0",
            "_model_name": "FloatProgressModel",
            "_view_count": null,
            "_view_module": "@jupyter-widgets/controls",
            "_view_module_version": "1.5.0",
            "_view_name": "ProgressView",
            "bar_style": "success",
            "description": "",
            "description_tooltip": null,
            "layout": "IPY_MODEL_497ec3ddc32b4d70af6ba079d792e533",
            "max": 1,
            "min": 0,
            "orientation": "horizontal",
            "style": "IPY_MODEL_c847c994d39b48f2ae7e7b381aab7cc5",
            "value": 1
          }
        },
        "7e373ff96bef464f95c1697a4ee23721": {
          "model_module": "@jupyter-widgets/controls",
          "model_name": "HTMLModel",
          "model_module_version": "1.5.0",
          "state": {
            "_dom_classes": [],
            "_model_module": "@jupyter-widgets/controls",
            "_model_module_version": "1.5.0",
            "_model_name": "HTMLModel",
            "_view_count": null,
            "_view_module": "@jupyter-widgets/controls",
            "_view_module_version": "1.5.0",
            "_view_name": "HTMLView",
            "description": "",
            "description_tooltip": null,
            "layout": "IPY_MODEL_9e65032874ed47c4aa9ce5c992c490bf",
            "placeholder": "​",
            "style": "IPY_MODEL_6e7e4863bdaf42f4985125c737b72168",
            "value": " 247k/? [00:00&lt;00:00, 27.1MB/s]"
          }
        },
        "0db076a41275418393acb55c964b467b": {
          "model_module": "@jupyter-widgets/base",
          "model_name": "LayoutModel",
          "model_module_version": "1.2.0",
          "state": {
            "_model_module": "@jupyter-widgets/base",
            "_model_module_version": "1.2.0",
            "_model_name": "LayoutModel",
            "_view_count": null,
            "_view_module": "@jupyter-widgets/base",
            "_view_module_version": "1.2.0",
            "_view_name": "LayoutView",
            "align_content": null,
            "align_items": null,
            "align_self": null,
            "border": null,
            "bottom": null,
            "display": null,
            "flex": null,
            "flex_flow": null,
            "grid_area": null,
            "grid_auto_columns": null,
            "grid_auto_flow": null,
            "grid_auto_rows": null,
            "grid_column": null,
            "grid_gap": null,
            "grid_row": null,
            "grid_template_areas": null,
            "grid_template_columns": null,
            "grid_template_rows": null,
            "height": null,
            "justify_content": null,
            "justify_items": null,
            "left": null,
            "margin": null,
            "max_height": null,
            "max_width": null,
            "min_height": null,
            "min_width": null,
            "object_fit": null,
            "object_position": null,
            "order": null,
            "overflow": null,
            "overflow_x": null,
            "overflow_y": null,
            "padding": null,
            "right": null,
            "top": null,
            "visibility": null,
            "width": null
          }
        },
        "05508774bc974648b2c6a149dabff746": {
          "model_module": "@jupyter-widgets/base",
          "model_name": "LayoutModel",
          "model_module_version": "1.2.0",
          "state": {
            "_model_module": "@jupyter-widgets/base",
            "_model_module_version": "1.2.0",
            "_model_name": "LayoutModel",
            "_view_count": null,
            "_view_module": "@jupyter-widgets/base",
            "_view_module_version": "1.2.0",
            "_view_name": "LayoutView",
            "align_content": null,
            "align_items": null,
            "align_self": null,
            "border": null,
            "bottom": null,
            "display": null,
            "flex": null,
            "flex_flow": null,
            "grid_area": null,
            "grid_auto_columns": null,
            "grid_auto_flow": null,
            "grid_auto_rows": null,
            "grid_column": null,
            "grid_gap": null,
            "grid_row": null,
            "grid_template_areas": null,
            "grid_template_columns": null,
            "grid_template_rows": null,
            "height": null,
            "justify_content": null,
            "justify_items": null,
            "left": null,
            "margin": null,
            "max_height": null,
            "max_width": null,
            "min_height": null,
            "min_width": null,
            "object_fit": null,
            "object_position": null,
            "order": null,
            "overflow": null,
            "overflow_x": null,
            "overflow_y": null,
            "padding": null,
            "right": null,
            "top": null,
            "visibility": null,
            "width": null
          }
        },
        "6f0a0e856a2f4c418a4b2cedbaf152c4": {
          "model_module": "@jupyter-widgets/controls",
          "model_name": "DescriptionStyleModel",
          "model_module_version": "1.5.0",
          "state": {
            "_model_module": "@jupyter-widgets/controls",
            "_model_module_version": "1.5.0",
            "_model_name": "DescriptionStyleModel",
            "_view_count": null,
            "_view_module": "@jupyter-widgets/base",
            "_view_module_version": "1.2.0",
            "_view_name": "StyleView",
            "description_width": ""
          }
        },
        "497ec3ddc32b4d70af6ba079d792e533": {
          "model_module": "@jupyter-widgets/base",
          "model_name": "LayoutModel",
          "model_module_version": "1.2.0",
          "state": {
            "_model_module": "@jupyter-widgets/base",
            "_model_module_version": "1.2.0",
            "_model_name": "LayoutModel",
            "_view_count": null,
            "_view_module": "@jupyter-widgets/base",
            "_view_module_version": "1.2.0",
            "_view_name": "LayoutView",
            "align_content": null,
            "align_items": null,
            "align_self": null,
            "border": null,
            "bottom": null,
            "display": null,
            "flex": null,
            "flex_flow": null,
            "grid_area": null,
            "grid_auto_columns": null,
            "grid_auto_flow": null,
            "grid_auto_rows": null,
            "grid_column": null,
            "grid_gap": null,
            "grid_row": null,
            "grid_template_areas": null,
            "grid_template_columns": null,
            "grid_template_rows": null,
            "height": null,
            "justify_content": null,
            "justify_items": null,
            "left": null,
            "margin": null,
            "max_height": null,
            "max_width": null,
            "min_height": null,
            "min_width": null,
            "object_fit": null,
            "object_position": null,
            "order": null,
            "overflow": null,
            "overflow_x": null,
            "overflow_y": null,
            "padding": null,
            "right": null,
            "top": null,
            "visibility": null,
            "width": "20px"
          }
        },
        "c847c994d39b48f2ae7e7b381aab7cc5": {
          "model_module": "@jupyter-widgets/controls",
          "model_name": "ProgressStyleModel",
          "model_module_version": "1.5.0",
          "state": {
            "_model_module": "@jupyter-widgets/controls",
            "_model_module_version": "1.5.0",
            "_model_name": "ProgressStyleModel",
            "_view_count": null,
            "_view_module": "@jupyter-widgets/base",
            "_view_module_version": "1.2.0",
            "_view_name": "StyleView",
            "bar_color": null,
            "description_width": ""
          }
        },
        "9e65032874ed47c4aa9ce5c992c490bf": {
          "model_module": "@jupyter-widgets/base",
          "model_name": "LayoutModel",
          "model_module_version": "1.2.0",
          "state": {
            "_model_module": "@jupyter-widgets/base",
            "_model_module_version": "1.2.0",
            "_model_name": "LayoutModel",
            "_view_count": null,
            "_view_module": "@jupyter-widgets/base",
            "_view_module_version": "1.2.0",
            "_view_name": "LayoutView",
            "align_content": null,
            "align_items": null,
            "align_self": null,
            "border": null,
            "bottom": null,
            "display": null,
            "flex": null,
            "flex_flow": null,
            "grid_area": null,
            "grid_auto_columns": null,
            "grid_auto_flow": null,
            "grid_auto_rows": null,
            "grid_column": null,
            "grid_gap": null,
            "grid_row": null,
            "grid_template_areas": null,
            "grid_template_columns": null,
            "grid_template_rows": null,
            "height": null,
            "justify_content": null,
            "justify_items": null,
            "left": null,
            "margin": null,
            "max_height": null,
            "max_width": null,
            "min_height": null,
            "min_width": null,
            "object_fit": null,
            "object_position": null,
            "order": null,
            "overflow": null,
            "overflow_x": null,
            "overflow_y": null,
            "padding": null,
            "right": null,
            "top": null,
            "visibility": null,
            "width": null
          }
        },
        "6e7e4863bdaf42f4985125c737b72168": {
          "model_module": "@jupyter-widgets/controls",
          "model_name": "DescriptionStyleModel",
          "model_module_version": "1.5.0",
          "state": {
            "_model_module": "@jupyter-widgets/controls",
            "_model_module_version": "1.5.0",
            "_model_name": "DescriptionStyleModel",
            "_view_count": null,
            "_view_module": "@jupyter-widgets/base",
            "_view_module_version": "1.2.0",
            "_view_name": "StyleView",
            "description_width": ""
          }
        },
        "ac7597f87082425d98972aad99f1684d": {
          "model_module": "@jupyter-widgets/controls",
          "model_name": "HBoxModel",
          "model_module_version": "1.5.0",
          "state": {
            "_dom_classes": [],
            "_model_module": "@jupyter-widgets/controls",
            "_model_module_version": "1.5.0",
            "_model_name": "HBoxModel",
            "_view_count": null,
            "_view_module": "@jupyter-widgets/controls",
            "_view_module_version": "1.5.0",
            "_view_name": "HBoxView",
            "box_style": "",
            "children": [
              "IPY_MODEL_ddd199078fbd4b969e063f209ee99d55",
              "IPY_MODEL_5fd65bc3b6144ce9b56ace23aed24f7e",
              "IPY_MODEL_6de69a6c85d3414891339706f378a254"
            ],
            "layout": "IPY_MODEL_d13a393217ee47f7a2e54bb04f9b054a"
          }
        },
        "ddd199078fbd4b969e063f209ee99d55": {
          "model_module": "@jupyter-widgets/controls",
          "model_name": "HTMLModel",
          "model_module_version": "1.5.0",
          "state": {
            "_dom_classes": [],
            "_model_module": "@jupyter-widgets/controls",
            "_model_module_version": "1.5.0",
            "_model_name": "HTMLModel",
            "_view_count": null,
            "_view_module": "@jupyter-widgets/controls",
            "_view_module_version": "1.5.0",
            "_view_name": "HTMLView",
            "description": "",
            "description_tooltip": null,
            "layout": "IPY_MODEL_92f39b2727ce4b90908566afbb681fca",
            "placeholder": "​",
            "style": "IPY_MODEL_532d1e9f66ca47ada5489af396d570b2",
            "value": "Downloading shards: 100%"
          }
        },
        "5fd65bc3b6144ce9b56ace23aed24f7e": {
          "model_module": "@jupyter-widgets/controls",
          "model_name": "FloatProgressModel",
          "model_module_version": "1.5.0",
          "state": {
            "_dom_classes": [],
            "_model_module": "@jupyter-widgets/controls",
            "_model_module_version": "1.5.0",
            "_model_name": "FloatProgressModel",
            "_view_count": null,
            "_view_module": "@jupyter-widgets/controls",
            "_view_module_version": "1.5.0",
            "_view_name": "ProgressView",
            "bar_style": "success",
            "description": "",
            "description_tooltip": null,
            "layout": "IPY_MODEL_54d422bcb5b448998ae037685b1cb05b",
            "max": 1,
            "min": 0,
            "orientation": "horizontal",
            "style": "IPY_MODEL_b694b14aeedd4f6291be89be6cf92eec",
            "value": 1
          }
        },
        "6de69a6c85d3414891339706f378a254": {
          "model_module": "@jupyter-widgets/controls",
          "model_name": "HTMLModel",
          "model_module_version": "1.5.0",
          "state": {
            "_dom_classes": [],
            "_model_module": "@jupyter-widgets/controls",
            "_model_module_version": "1.5.0",
            "_model_name": "HTMLModel",
            "_view_count": null,
            "_view_module": "@jupyter-widgets/controls",
            "_view_module_version": "1.5.0",
            "_view_name": "HTMLView",
            "description": "",
            "description_tooltip": null,
            "layout": "IPY_MODEL_ba6df47b58cb49b68e1f3d57a6bb30e2",
            "placeholder": "​",
            "style": "IPY_MODEL_c20c09f16a7c4e3abe4ebefde6bcc2ab",
            "value": " 1/1 [00:19&lt;00:00, 19.16s/it]"
          }
        },
        "d13a393217ee47f7a2e54bb04f9b054a": {
          "model_module": "@jupyter-widgets/base",
          "model_name": "LayoutModel",
          "model_module_version": "1.2.0",
          "state": {
            "_model_module": "@jupyter-widgets/base",
            "_model_module_version": "1.2.0",
            "_model_name": "LayoutModel",
            "_view_count": null,
            "_view_module": "@jupyter-widgets/base",
            "_view_module_version": "1.2.0",
            "_view_name": "LayoutView",
            "align_content": null,
            "align_items": null,
            "align_self": null,
            "border": null,
            "bottom": null,
            "display": null,
            "flex": null,
            "flex_flow": null,
            "grid_area": null,
            "grid_auto_columns": null,
            "grid_auto_flow": null,
            "grid_auto_rows": null,
            "grid_column": null,
            "grid_gap": null,
            "grid_row": null,
            "grid_template_areas": null,
            "grid_template_columns": null,
            "grid_template_rows": null,
            "height": null,
            "justify_content": null,
            "justify_items": null,
            "left": null,
            "margin": null,
            "max_height": null,
            "max_width": null,
            "min_height": null,
            "min_width": null,
            "object_fit": null,
            "object_position": null,
            "order": null,
            "overflow": null,
            "overflow_x": null,
            "overflow_y": null,
            "padding": null,
            "right": null,
            "top": null,
            "visibility": null,
            "width": null
          }
        },
        "92f39b2727ce4b90908566afbb681fca": {
          "model_module": "@jupyter-widgets/base",
          "model_name": "LayoutModel",
          "model_module_version": "1.2.0",
          "state": {
            "_model_module": "@jupyter-widgets/base",
            "_model_module_version": "1.2.0",
            "_model_name": "LayoutModel",
            "_view_count": null,
            "_view_module": "@jupyter-widgets/base",
            "_view_module_version": "1.2.0",
            "_view_name": "LayoutView",
            "align_content": null,
            "align_items": null,
            "align_self": null,
            "border": null,
            "bottom": null,
            "display": null,
            "flex": null,
            "flex_flow": null,
            "grid_area": null,
            "grid_auto_columns": null,
            "grid_auto_flow": null,
            "grid_auto_rows": null,
            "grid_column": null,
            "grid_gap": null,
            "grid_row": null,
            "grid_template_areas": null,
            "grid_template_columns": null,
            "grid_template_rows": null,
            "height": null,
            "justify_content": null,
            "justify_items": null,
            "left": null,
            "margin": null,
            "max_height": null,
            "max_width": null,
            "min_height": null,
            "min_width": null,
            "object_fit": null,
            "object_position": null,
            "order": null,
            "overflow": null,
            "overflow_x": null,
            "overflow_y": null,
            "padding": null,
            "right": null,
            "top": null,
            "visibility": null,
            "width": null
          }
        },
        "532d1e9f66ca47ada5489af396d570b2": {
          "model_module": "@jupyter-widgets/controls",
          "model_name": "DescriptionStyleModel",
          "model_module_version": "1.5.0",
          "state": {
            "_model_module": "@jupyter-widgets/controls",
            "_model_module_version": "1.5.0",
            "_model_name": "DescriptionStyleModel",
            "_view_count": null,
            "_view_module": "@jupyter-widgets/base",
            "_view_module_version": "1.2.0",
            "_view_name": "StyleView",
            "description_width": ""
          }
        },
        "54d422bcb5b448998ae037685b1cb05b": {
          "model_module": "@jupyter-widgets/base",
          "model_name": "LayoutModel",
          "model_module_version": "1.2.0",
          "state": {
            "_model_module": "@jupyter-widgets/base",
            "_model_module_version": "1.2.0",
            "_model_name": "LayoutModel",
            "_view_count": null,
            "_view_module": "@jupyter-widgets/base",
            "_view_module_version": "1.2.0",
            "_view_name": "LayoutView",
            "align_content": null,
            "align_items": null,
            "align_self": null,
            "border": null,
            "bottom": null,
            "display": null,
            "flex": null,
            "flex_flow": null,
            "grid_area": null,
            "grid_auto_columns": null,
            "grid_auto_flow": null,
            "grid_auto_rows": null,
            "grid_column": null,
            "grid_gap": null,
            "grid_row": null,
            "grid_template_areas": null,
            "grid_template_columns": null,
            "grid_template_rows": null,
            "height": null,
            "justify_content": null,
            "justify_items": null,
            "left": null,
            "margin": null,
            "max_height": null,
            "max_width": null,
            "min_height": null,
            "min_width": null,
            "object_fit": null,
            "object_position": null,
            "order": null,
            "overflow": null,
            "overflow_x": null,
            "overflow_y": null,
            "padding": null,
            "right": null,
            "top": null,
            "visibility": null,
            "width": null
          }
        },
        "b694b14aeedd4f6291be89be6cf92eec": {
          "model_module": "@jupyter-widgets/controls",
          "model_name": "ProgressStyleModel",
          "model_module_version": "1.5.0",
          "state": {
            "_model_module": "@jupyter-widgets/controls",
            "_model_module_version": "1.5.0",
            "_model_name": "ProgressStyleModel",
            "_view_count": null,
            "_view_module": "@jupyter-widgets/base",
            "_view_module_version": "1.2.0",
            "_view_name": "StyleView",
            "bar_color": null,
            "description_width": ""
          }
        },
        "ba6df47b58cb49b68e1f3d57a6bb30e2": {
          "model_module": "@jupyter-widgets/base",
          "model_name": "LayoutModel",
          "model_module_version": "1.2.0",
          "state": {
            "_model_module": "@jupyter-widgets/base",
            "_model_module_version": "1.2.0",
            "_model_name": "LayoutModel",
            "_view_count": null,
            "_view_module": "@jupyter-widgets/base",
            "_view_module_version": "1.2.0",
            "_view_name": "LayoutView",
            "align_content": null,
            "align_items": null,
            "align_self": null,
            "border": null,
            "bottom": null,
            "display": null,
            "flex": null,
            "flex_flow": null,
            "grid_area": null,
            "grid_auto_columns": null,
            "grid_auto_flow": null,
            "grid_auto_rows": null,
            "grid_column": null,
            "grid_gap": null,
            "grid_row": null,
            "grid_template_areas": null,
            "grid_template_columns": null,
            "grid_template_rows": null,
            "height": null,
            "justify_content": null,
            "justify_items": null,
            "left": null,
            "margin": null,
            "max_height": null,
            "max_width": null,
            "min_height": null,
            "min_width": null,
            "object_fit": null,
            "object_position": null,
            "order": null,
            "overflow": null,
            "overflow_x": null,
            "overflow_y": null,
            "padding": null,
            "right": null,
            "top": null,
            "visibility": null,
            "width": null
          }
        },
        "c20c09f16a7c4e3abe4ebefde6bcc2ab": {
          "model_module": "@jupyter-widgets/controls",
          "model_name": "DescriptionStyleModel",
          "model_module_version": "1.5.0",
          "state": {
            "_model_module": "@jupyter-widgets/controls",
            "_model_module_version": "1.5.0",
            "_model_name": "DescriptionStyleModel",
            "_view_count": null,
            "_view_module": "@jupyter-widgets/base",
            "_view_module_version": "1.2.0",
            "_view_name": "StyleView",
            "description_width": ""
          }
        },
        "a5c3c3ecf84f43db8ca0ba0981b2121f": {
          "model_module": "@jupyter-widgets/controls",
          "model_name": "HBoxModel",
          "model_module_version": "1.5.0",
          "state": {
            "_dom_classes": [],
            "_model_module": "@jupyter-widgets/controls",
            "_model_module_version": "1.5.0",
            "_model_name": "HBoxModel",
            "_view_count": null,
            "_view_module": "@jupyter-widgets/controls",
            "_view_module_version": "1.5.0",
            "_view_name": "HBoxView",
            "box_style": "",
            "children": [
              "IPY_MODEL_f1599fabc87141acbb701507eef43f9b",
              "IPY_MODEL_df54b19e049d4a15a1454d162dd03df3",
              "IPY_MODEL_d94348ece2434109be49b0a8b1ff3514"
            ],
            "layout": "IPY_MODEL_58f21eeb21ed490a9310759782990b75"
          }
        },
        "f1599fabc87141acbb701507eef43f9b": {
          "model_module": "@jupyter-widgets/controls",
          "model_name": "HTMLModel",
          "model_module_version": "1.5.0",
          "state": {
            "_dom_classes": [],
            "_model_module": "@jupyter-widgets/controls",
            "_model_module_version": "1.5.0",
            "_model_name": "HTMLModel",
            "_view_count": null,
            "_view_module": "@jupyter-widgets/controls",
            "_view_module_version": "1.5.0",
            "_view_name": "HTMLView",
            "description": "",
            "description_tooltip": null,
            "layout": "IPY_MODEL_198cece5366446baa13c3bd4c3e732d3",
            "placeholder": "​",
            "style": "IPY_MODEL_467cfbb54ca746bcb9408557ff9bf245",
            "value": "model-00001-of-000001.safetensors: 100%"
          }
        },
        "df54b19e049d4a15a1454d162dd03df3": {
          "model_module": "@jupyter-widgets/controls",
          "model_name": "FloatProgressModel",
          "model_module_version": "1.5.0",
          "state": {
            "_dom_classes": [],
            "_model_module": "@jupyter-widgets/controls",
            "_model_module_version": "1.5.0",
            "_model_name": "FloatProgressModel",
            "_view_count": null,
            "_view_module": "@jupyter-widgets/controls",
            "_view_module_version": "1.5.0",
            "_view_name": "ProgressView",
            "bar_style": "success",
            "description": "",
            "description_tooltip": null,
            "layout": "IPY_MODEL_eef5b015d62246c7b86176642e2a4bf5",
            "max": 6672547120,
            "min": 0,
            "orientation": "horizontal",
            "style": "IPY_MODEL_d85cb75a53a84be5b36fc4fd29dfde29",
            "value": 6672547120
          }
        },
        "d94348ece2434109be49b0a8b1ff3514": {
          "model_module": "@jupyter-widgets/controls",
          "model_name": "HTMLModel",
          "model_module_version": "1.5.0",
          "state": {
            "_dom_classes": [],
            "_model_module": "@jupyter-widgets/controls",
            "_model_module_version": "1.5.0",
            "_model_name": "HTMLModel",
            "_view_count": null,
            "_view_module": "@jupyter-widgets/controls",
            "_view_module_version": "1.5.0",
            "_view_name": "HTMLView",
            "description": "",
            "description_tooltip": null,
            "layout": "IPY_MODEL_f7adb0dc5fe047dca40202e8eb34c440",
            "placeholder": "​",
            "style": "IPY_MODEL_7ea5ddd39fd64131887f4f2ee9a82613",
            "value": " 6.67G/6.67G [00:18&lt;00:00, 383MB/s]"
          }
        },
        "58f21eeb21ed490a9310759782990b75": {
          "model_module": "@jupyter-widgets/base",
          "model_name": "LayoutModel",
          "model_module_version": "1.2.0",
          "state": {
            "_model_module": "@jupyter-widgets/base",
            "_model_module_version": "1.2.0",
            "_model_name": "LayoutModel",
            "_view_count": null,
            "_view_module": "@jupyter-widgets/base",
            "_view_module_version": "1.2.0",
            "_view_name": "LayoutView",
            "align_content": null,
            "align_items": null,
            "align_self": null,
            "border": null,
            "bottom": null,
            "display": null,
            "flex": null,
            "flex_flow": null,
            "grid_area": null,
            "grid_auto_columns": null,
            "grid_auto_flow": null,
            "grid_auto_rows": null,
            "grid_column": null,
            "grid_gap": null,
            "grid_row": null,
            "grid_template_areas": null,
            "grid_template_columns": null,
            "grid_template_rows": null,
            "height": null,
            "justify_content": null,
            "justify_items": null,
            "left": null,
            "margin": null,
            "max_height": null,
            "max_width": null,
            "min_height": null,
            "min_width": null,
            "object_fit": null,
            "object_position": null,
            "order": null,
            "overflow": null,
            "overflow_x": null,
            "overflow_y": null,
            "padding": null,
            "right": null,
            "top": null,
            "visibility": null,
            "width": null
          }
        },
        "198cece5366446baa13c3bd4c3e732d3": {
          "model_module": "@jupyter-widgets/base",
          "model_name": "LayoutModel",
          "model_module_version": "1.2.0",
          "state": {
            "_model_module": "@jupyter-widgets/base",
            "_model_module_version": "1.2.0",
            "_model_name": "LayoutModel",
            "_view_count": null,
            "_view_module": "@jupyter-widgets/base",
            "_view_module_version": "1.2.0",
            "_view_name": "LayoutView",
            "align_content": null,
            "align_items": null,
            "align_self": null,
            "border": null,
            "bottom": null,
            "display": null,
            "flex": null,
            "flex_flow": null,
            "grid_area": null,
            "grid_auto_columns": null,
            "grid_auto_flow": null,
            "grid_auto_rows": null,
            "grid_column": null,
            "grid_gap": null,
            "grid_row": null,
            "grid_template_areas": null,
            "grid_template_columns": null,
            "grid_template_rows": null,
            "height": null,
            "justify_content": null,
            "justify_items": null,
            "left": null,
            "margin": null,
            "max_height": null,
            "max_width": null,
            "min_height": null,
            "min_width": null,
            "object_fit": null,
            "object_position": null,
            "order": null,
            "overflow": null,
            "overflow_x": null,
            "overflow_y": null,
            "padding": null,
            "right": null,
            "top": null,
            "visibility": null,
            "width": null
          }
        },
        "467cfbb54ca746bcb9408557ff9bf245": {
          "model_module": "@jupyter-widgets/controls",
          "model_name": "DescriptionStyleModel",
          "model_module_version": "1.5.0",
          "state": {
            "_model_module": "@jupyter-widgets/controls",
            "_model_module_version": "1.5.0",
            "_model_name": "DescriptionStyleModel",
            "_view_count": null,
            "_view_module": "@jupyter-widgets/base",
            "_view_module_version": "1.2.0",
            "_view_name": "StyleView",
            "description_width": ""
          }
        },
        "eef5b015d62246c7b86176642e2a4bf5": {
          "model_module": "@jupyter-widgets/base",
          "model_name": "LayoutModel",
          "model_module_version": "1.2.0",
          "state": {
            "_model_module": "@jupyter-widgets/base",
            "_model_module_version": "1.2.0",
            "_model_name": "LayoutModel",
            "_view_count": null,
            "_view_module": "@jupyter-widgets/base",
            "_view_module_version": "1.2.0",
            "_view_name": "LayoutView",
            "align_content": null,
            "align_items": null,
            "align_self": null,
            "border": null,
            "bottom": null,
            "display": null,
            "flex": null,
            "flex_flow": null,
            "grid_area": null,
            "grid_auto_columns": null,
            "grid_auto_flow": null,
            "grid_auto_rows": null,
            "grid_column": null,
            "grid_gap": null,
            "grid_row": null,
            "grid_template_areas": null,
            "grid_template_columns": null,
            "grid_template_rows": null,
            "height": null,
            "justify_content": null,
            "justify_items": null,
            "left": null,
            "margin": null,
            "max_height": null,
            "max_width": null,
            "min_height": null,
            "min_width": null,
            "object_fit": null,
            "object_position": null,
            "order": null,
            "overflow": null,
            "overflow_x": null,
            "overflow_y": null,
            "padding": null,
            "right": null,
            "top": null,
            "visibility": null,
            "width": null
          }
        },
        "d85cb75a53a84be5b36fc4fd29dfde29": {
          "model_module": "@jupyter-widgets/controls",
          "model_name": "ProgressStyleModel",
          "model_module_version": "1.5.0",
          "state": {
            "_model_module": "@jupyter-widgets/controls",
            "_model_module_version": "1.5.0",
            "_model_name": "ProgressStyleModel",
            "_view_count": null,
            "_view_module": "@jupyter-widgets/base",
            "_view_module_version": "1.2.0",
            "_view_name": "StyleView",
            "bar_color": null,
            "description_width": ""
          }
        },
        "f7adb0dc5fe047dca40202e8eb34c440": {
          "model_module": "@jupyter-widgets/base",
          "model_name": "LayoutModel",
          "model_module_version": "1.2.0",
          "state": {
            "_model_module": "@jupyter-widgets/base",
            "_model_module_version": "1.2.0",
            "_model_name": "LayoutModel",
            "_view_count": null,
            "_view_module": "@jupyter-widgets/base",
            "_view_module_version": "1.2.0",
            "_view_name": "LayoutView",
            "align_content": null,
            "align_items": null,
            "align_self": null,
            "border": null,
            "bottom": null,
            "display": null,
            "flex": null,
            "flex_flow": null,
            "grid_area": null,
            "grid_auto_columns": null,
            "grid_auto_flow": null,
            "grid_auto_rows": null,
            "grid_column": null,
            "grid_gap": null,
            "grid_row": null,
            "grid_template_areas": null,
            "grid_template_columns": null,
            "grid_template_rows": null,
            "height": null,
            "justify_content": null,
            "justify_items": null,
            "left": null,
            "margin": null,
            "max_height": null,
            "max_width": null,
            "min_height": null,
            "min_width": null,
            "object_fit": null,
            "object_position": null,
            "order": null,
            "overflow": null,
            "overflow_x": null,
            "overflow_y": null,
            "padding": null,
            "right": null,
            "top": null,
            "visibility": null,
            "width": null
          }
        },
        "7ea5ddd39fd64131887f4f2ee9a82613": {
          "model_module": "@jupyter-widgets/controls",
          "model_name": "DescriptionStyleModel",
          "model_module_version": "1.5.0",
          "state": {
            "_model_module": "@jupyter-widgets/controls",
            "_model_module_version": "1.5.0",
            "_model_name": "DescriptionStyleModel",
            "_view_count": null,
            "_view_module": "@jupyter-widgets/base",
            "_view_module_version": "1.2.0",
            "_view_name": "StyleView",
            "description_width": ""
          }
        }
      }
    }
  },
  "cells": [
    {
      "cell_type": "code",
      "execution_count": 1,
      "metadata": {
        "colab": {
          "base_uri": "https://localhost:8080/"
        },
        "collapsed": true,
        "id": "KfXhrizWnKMB",
        "outputId": "32a1cf16-0bb8-4f21-a7cf-d7893eba0265"
      },
      "outputs": [
        {
          "output_type": "stream",
          "name": "stdout",
          "text": [
            "Collecting addict\n",
            "  Downloading addict-2.4.0-py3-none-any.whl.metadata (1.0 kB)\n",
            "Downloading addict-2.4.0-py3-none-any.whl (3.8 kB)\n",
            "Installing collected packages: addict\n",
            "Successfully installed addict-2.4.0\n",
            "Collecting transformers==4.46.3\n",
            "  Downloading transformers-4.46.3-py3-none-any.whl.metadata (44 kB)\n",
            "\u001b[2K     \u001b[90m━━━━━━━━━━━━━━━━━━━━━━━━━━━━━━━━━━━━━━━━\u001b[0m \u001b[32m44.1/44.1 kB\u001b[0m \u001b[31m3.3 MB/s\u001b[0m eta \u001b[36m0:00:00\u001b[0m\n",
            "\u001b[?25hRequirement already satisfied: filelock in /usr/local/lib/python3.12/dist-packages (from transformers==4.46.3) (3.20.0)\n",
            "Requirement already satisfied: huggingface-hub<1.0,>=0.23.2 in /usr/local/lib/python3.12/dist-packages (from transformers==4.46.3) (0.36.0)\n",
            "Requirement already satisfied: numpy>=1.17 in /usr/local/lib/python3.12/dist-packages (from transformers==4.46.3) (2.0.2)\n",
            "Requirement already satisfied: packaging>=20.0 in /usr/local/lib/python3.12/dist-packages (from transformers==4.46.3) (25.0)\n",
            "Requirement already satisfied: pyyaml>=5.1 in /usr/local/lib/python3.12/dist-packages (from transformers==4.46.3) (6.0.3)\n",
            "Requirement already satisfied: regex!=2019.12.17 in /usr/local/lib/python3.12/dist-packages (from transformers==4.46.3) (2024.11.6)\n",
            "Requirement already satisfied: requests in /usr/local/lib/python3.12/dist-packages (from transformers==4.46.3) (2.32.4)\n",
            "Collecting tokenizers<0.21,>=0.20 (from transformers==4.46.3)\n",
            "  Downloading tokenizers-0.20.3-cp312-cp312-manylinux_2_17_x86_64.manylinux2014_x86_64.whl.metadata (6.7 kB)\n",
            "Requirement already satisfied: safetensors>=0.4.1 in /usr/local/lib/python3.12/dist-packages (from transformers==4.46.3) (0.6.2)\n",
            "Requirement already satisfied: tqdm>=4.27 in /usr/local/lib/python3.12/dist-packages (from transformers==4.46.3) (4.67.1)\n",
            "Requirement already satisfied: fsspec>=2023.5.0 in /usr/local/lib/python3.12/dist-packages (from huggingface-hub<1.0,>=0.23.2->transformers==4.46.3) (2025.3.0)\n",
            "Requirement already satisfied: typing-extensions>=3.7.4.3 in /usr/local/lib/python3.12/dist-packages (from huggingface-hub<1.0,>=0.23.2->transformers==4.46.3) (4.15.0)\n",
            "Requirement already satisfied: hf-xet<2.0.0,>=1.1.3 in /usr/local/lib/python3.12/dist-packages (from huggingface-hub<1.0,>=0.23.2->transformers==4.46.3) (1.2.0)\n",
            "Requirement already satisfied: charset_normalizer<4,>=2 in /usr/local/lib/python3.12/dist-packages (from requests->transformers==4.46.3) (3.4.4)\n",
            "Requirement already satisfied: idna<4,>=2.5 in /usr/local/lib/python3.12/dist-packages (from requests->transformers==4.46.3) (3.11)\n",
            "Requirement already satisfied: urllib3<3,>=1.21.1 in /usr/local/lib/python3.12/dist-packages (from requests->transformers==4.46.3) (2.5.0)\n",
            "Requirement already satisfied: certifi>=2017.4.17 in /usr/local/lib/python3.12/dist-packages (from requests->transformers==4.46.3) (2025.10.5)\n",
            "Downloading transformers-4.46.3-py3-none-any.whl (10.0 MB)\n",
            "\u001b[2K   \u001b[90m━━━━━━━━━━━━━━━━━━━━━━━━━━━━━━━━━━━━━━━━\u001b[0m \u001b[32m10.0/10.0 MB\u001b[0m \u001b[31m102.0 MB/s\u001b[0m eta \u001b[36m0:00:00\u001b[0m\n",
            "\u001b[?25hDownloading tokenizers-0.20.3-cp312-cp312-manylinux_2_17_x86_64.manylinux2014_x86_64.whl (3.0 MB)\n",
            "\u001b[2K   \u001b[90m━━━━━━━━━━━━━━━━━━━━━━━━━━━━━━━━━━━━━━━━\u001b[0m \u001b[32m3.0/3.0 MB\u001b[0m \u001b[31m129.6 MB/s\u001b[0m eta \u001b[36m0:00:00\u001b[0m\n",
            "\u001b[?25hInstalling collected packages: tokenizers, transformers\n",
            "  Attempting uninstall: tokenizers\n",
            "    Found existing installation: tokenizers 0.22.1\n",
            "    Uninstalling tokenizers-0.22.1:\n",
            "      Successfully uninstalled tokenizers-0.22.1\n",
            "  Attempting uninstall: transformers\n",
            "    Found existing installation: transformers 4.57.1\n",
            "    Uninstalling transformers-4.57.1:\n",
            "      Successfully uninstalled transformers-4.57.1\n",
            "Successfully installed tokenizers-0.20.3 transformers-4.46.3\n",
            "Requirement already satisfied: tokenizers==0.20.3 in /usr/local/lib/python3.12/dist-packages (0.20.3)\n",
            "Requirement already satisfied: huggingface-hub<1.0,>=0.16.4 in /usr/local/lib/python3.12/dist-packages (from tokenizers==0.20.3) (0.36.0)\n",
            "Requirement already satisfied: filelock in /usr/local/lib/python3.12/dist-packages (from huggingface-hub<1.0,>=0.16.4->tokenizers==0.20.3) (3.20.0)\n",
            "Requirement already satisfied: fsspec>=2023.5.0 in /usr/local/lib/python3.12/dist-packages (from huggingface-hub<1.0,>=0.16.4->tokenizers==0.20.3) (2025.3.0)\n",
            "Requirement already satisfied: packaging>=20.9 in /usr/local/lib/python3.12/dist-packages (from huggingface-hub<1.0,>=0.16.4->tokenizers==0.20.3) (25.0)\n",
            "Requirement already satisfied: pyyaml>=5.1 in /usr/local/lib/python3.12/dist-packages (from huggingface-hub<1.0,>=0.16.4->tokenizers==0.20.3) (6.0.3)\n",
            "Requirement already satisfied: requests in /usr/local/lib/python3.12/dist-packages (from huggingface-hub<1.0,>=0.16.4->tokenizers==0.20.3) (2.32.4)\n",
            "Requirement already satisfied: tqdm>=4.42.1 in /usr/local/lib/python3.12/dist-packages (from huggingface-hub<1.0,>=0.16.4->tokenizers==0.20.3) (4.67.1)\n",
            "Requirement already satisfied: typing-extensions>=3.7.4.3 in /usr/local/lib/python3.12/dist-packages (from huggingface-hub<1.0,>=0.16.4->tokenizers==0.20.3) (4.15.0)\n",
            "Requirement already satisfied: hf-xet<2.0.0,>=1.1.3 in /usr/local/lib/python3.12/dist-packages (from huggingface-hub<1.0,>=0.16.4->tokenizers==0.20.3) (1.2.0)\n",
            "Requirement already satisfied: charset_normalizer<4,>=2 in /usr/local/lib/python3.12/dist-packages (from requests->huggingface-hub<1.0,>=0.16.4->tokenizers==0.20.3) (3.4.4)\n",
            "Requirement already satisfied: idna<4,>=2.5 in /usr/local/lib/python3.12/dist-packages (from requests->huggingface-hub<1.0,>=0.16.4->tokenizers==0.20.3) (3.11)\n",
            "Requirement already satisfied: urllib3<3,>=1.21.1 in /usr/local/lib/python3.12/dist-packages (from requests->huggingface-hub<1.0,>=0.16.4->tokenizers==0.20.3) (2.5.0)\n",
            "Requirement already satisfied: certifi>=2017.4.17 in /usr/local/lib/python3.12/dist-packages (from requests->huggingface-hub<1.0,>=0.16.4->tokenizers==0.20.3) (2025.10.5)\n",
            "Collecting PyMuPDF\n",
            "  Downloading pymupdf-1.26.5-cp39-abi3-manylinux_2_28_x86_64.whl.metadata (3.4 kB)\n",
            "Downloading pymupdf-1.26.5-cp39-abi3-manylinux_2_28_x86_64.whl (24.1 MB)\n",
            "\u001b[2K   \u001b[90m━━━━━━━━━━━━━━━━━━━━━━━━━━━━━━━━━━━━━━━━\u001b[0m \u001b[32m24.1/24.1 MB\u001b[0m \u001b[31m95.2 MB/s\u001b[0m eta \u001b[36m0:00:00\u001b[0m\n",
            "\u001b[?25hInstalling collected packages: PyMuPDF\n",
            "Successfully installed PyMuPDF-1.26.5\n",
            "Collecting img2pdf\n",
            "  Downloading img2pdf-0.6.1.tar.gz (106 kB)\n",
            "\u001b[2K     \u001b[90m━━━━━━━━━━━━━━━━━━━━━━━━━━━━━━━━━━━━━━\u001b[0m \u001b[32m106.5/106.5 kB\u001b[0m \u001b[31m10.1 MB/s\u001b[0m eta \u001b[36m0:00:00\u001b[0m\n",
            "\u001b[?25h  Preparing metadata (setup.py) ... \u001b[?25l\u001b[?25hdone\n",
            "Requirement already satisfied: Pillow in /usr/local/lib/python3.12/dist-packages (from img2pdf) (11.3.0)\n",
            "Collecting pikepdf (from img2pdf)\n",
            "  Downloading pikepdf-10.0.0-cp312-cp312-manylinux_2_27_x86_64.manylinux_2_28_x86_64.whl.metadata (8.3 kB)\n",
            "Collecting Deprecated (from pikepdf->img2pdf)\n",
            "  Downloading deprecated-1.3.1-py2.py3-none-any.whl.metadata (5.9 kB)\n",
            "Requirement already satisfied: lxml>=4.8 in /usr/local/lib/python3.12/dist-packages (from pikepdf->img2pdf) (5.4.0)\n",
            "Requirement already satisfied: packaging in /usr/local/lib/python3.12/dist-packages (from pikepdf->img2pdf) (25.0)\n",
            "Requirement already satisfied: wrapt<3,>=1.10 in /usr/local/lib/python3.12/dist-packages (from Deprecated->pikepdf->img2pdf) (2.0.0)\n",
            "Downloading pikepdf-10.0.0-cp312-cp312-manylinux_2_27_x86_64.manylinux_2_28_x86_64.whl (2.6 MB)\n",
            "\u001b[2K   \u001b[90m━━━━━━━━━━━━━━━━━━━━━━━━━━━━━━━━━━━━━━━━\u001b[0m \u001b[32m2.6/2.6 MB\u001b[0m \u001b[31m114.9 MB/s\u001b[0m eta \u001b[36m0:00:00\u001b[0m\n",
            "\u001b[?25hDownloading deprecated-1.3.1-py2.py3-none-any.whl (11 kB)\n",
            "Building wheels for collected packages: img2pdf\n",
            "  Building wheel for img2pdf (setup.py) ... \u001b[?25l\u001b[?25hdone\n",
            "  Created wheel for img2pdf: filename=img2pdf-0.6.1-py3-none-any.whl size=51001 sha256=e0f620c5d55f0f1df6b41e7dc643af7d8279529f6552011fabbc0940420dae4f\n",
            "  Stored in directory: /root/.cache/pip/wheels/a5/05/56/c05447973db749cd2178b8f95e36f007f0af5f5dce2c6197a5\n",
            "Successfully built img2pdf\n",
            "Installing collected packages: Deprecated, pikepdf, img2pdf\n",
            "Successfully installed Deprecated-1.3.1 img2pdf-0.6.1 pikepdf-10.0.0\n",
            "Requirement already satisfied: einops in /usr/local/lib/python3.12/dist-packages (0.8.1)\n",
            "Requirement already satisfied: easydict in /usr/local/lib/python3.12/dist-packages (1.13)\n",
            "Requirement already satisfied: addict in /usr/local/lib/python3.12/dist-packages (2.4.0)\n",
            "Requirement already satisfied: Pillow in /usr/local/lib/python3.12/dist-packages (11.3.0)\n",
            "Collecting flash-attn==2.7.3\n",
            "  Downloading flash_attn-2.7.3.tar.gz (3.2 MB)\n",
            "\u001b[2K     \u001b[90m━━━━━━━━━━━━━━━━━━━━━━━━━━━━━━━━━━━━━━━━\u001b[0m \u001b[32m3.2/3.2 MB\u001b[0m \u001b[31m122.4 MB/s\u001b[0m eta \u001b[36m0:00:00\u001b[0m\n",
            "\u001b[?25h  Preparing metadata (setup.py) ... \u001b[?25l\u001b[?25hdone\n",
            "Requirement already satisfied: torch in /usr/local/lib/python3.12/dist-packages (from flash-attn==2.7.3) (2.8.0+cu126)\n",
            "Requirement already satisfied: einops in /usr/local/lib/python3.12/dist-packages (from flash-attn==2.7.3) (0.8.1)\n",
            "Requirement already satisfied: filelock in /usr/local/lib/python3.12/dist-packages (from torch->flash-attn==2.7.3) (3.20.0)\n",
            "Requirement already satisfied: typing-extensions>=4.10.0 in /usr/local/lib/python3.12/dist-packages (from torch->flash-attn==2.7.3) (4.15.0)\n",
            "Requirement already satisfied: setuptools in /usr/local/lib/python3.12/dist-packages (from torch->flash-attn==2.7.3) (75.2.0)\n",
            "Requirement already satisfied: sympy>=1.13.3 in /usr/local/lib/python3.12/dist-packages (from torch->flash-attn==2.7.3) (1.13.3)\n",
            "Requirement already satisfied: networkx in /usr/local/lib/python3.12/dist-packages (from torch->flash-attn==2.7.3) (3.5)\n",
            "Requirement already satisfied: jinja2 in /usr/local/lib/python3.12/dist-packages (from torch->flash-attn==2.7.3) (3.1.6)\n",
            "Requirement already satisfied: fsspec in /usr/local/lib/python3.12/dist-packages (from torch->flash-attn==2.7.3) (2025.3.0)\n",
            "Requirement already satisfied: nvidia-cuda-nvrtc-cu12==12.6.77 in /usr/local/lib/python3.12/dist-packages (from torch->flash-attn==2.7.3) (12.6.77)\n",
            "Requirement already satisfied: nvidia-cuda-runtime-cu12==12.6.77 in /usr/local/lib/python3.12/dist-packages (from torch->flash-attn==2.7.3) (12.6.77)\n",
            "Requirement already satisfied: nvidia-cuda-cupti-cu12==12.6.80 in /usr/local/lib/python3.12/dist-packages (from torch->flash-attn==2.7.3) (12.6.80)\n",
            "Requirement already satisfied: nvidia-cudnn-cu12==9.10.2.21 in /usr/local/lib/python3.12/dist-packages (from torch->flash-attn==2.7.3) (9.10.2.21)\n",
            "Requirement already satisfied: nvidia-cublas-cu12==12.6.4.1 in /usr/local/lib/python3.12/dist-packages (from torch->flash-attn==2.7.3) (12.6.4.1)\n",
            "Requirement already satisfied: nvidia-cufft-cu12==11.3.0.4 in /usr/local/lib/python3.12/dist-packages (from torch->flash-attn==2.7.3) (11.3.0.4)\n",
            "Requirement already satisfied: nvidia-curand-cu12==10.3.7.77 in /usr/local/lib/python3.12/dist-packages (from torch->flash-attn==2.7.3) (10.3.7.77)\n",
            "Requirement already satisfied: nvidia-cusolver-cu12==11.7.1.2 in /usr/local/lib/python3.12/dist-packages (from torch->flash-attn==2.7.3) (11.7.1.2)\n",
            "Requirement already satisfied: nvidia-cusparse-cu12==12.5.4.2 in /usr/local/lib/python3.12/dist-packages (from torch->flash-attn==2.7.3) (12.5.4.2)\n",
            "Requirement already satisfied: nvidia-cusparselt-cu12==0.7.1 in /usr/local/lib/python3.12/dist-packages (from torch->flash-attn==2.7.3) (0.7.1)\n",
            "Requirement already satisfied: nvidia-nccl-cu12==2.27.3 in /usr/local/lib/python3.12/dist-packages (from torch->flash-attn==2.7.3) (2.27.3)\n",
            "Requirement already satisfied: nvidia-nvtx-cu12==12.6.77 in /usr/local/lib/python3.12/dist-packages (from torch->flash-attn==2.7.3) (12.6.77)\n",
            "Requirement already satisfied: nvidia-nvjitlink-cu12==12.6.85 in /usr/local/lib/python3.12/dist-packages (from torch->flash-attn==2.7.3) (12.6.85)\n",
            "Requirement already satisfied: nvidia-cufile-cu12==1.11.1.6 in /usr/local/lib/python3.12/dist-packages (from torch->flash-attn==2.7.3) (1.11.1.6)\n",
            "Requirement already satisfied: triton==3.4.0 in /usr/local/lib/python3.12/dist-packages (from torch->flash-attn==2.7.3) (3.4.0)\n",
            "Requirement already satisfied: mpmath<1.4,>=1.1.0 in /usr/local/lib/python3.12/dist-packages (from sympy>=1.13.3->torch->flash-attn==2.7.3) (1.3.0)\n",
            "Requirement already satisfied: MarkupSafe>=2.0 in /usr/local/lib/python3.12/dist-packages (from jinja2->torch->flash-attn==2.7.3) (3.0.3)\n",
            "Building wheels for collected packages: flash-attn\n",
            "  Building wheel for flash-attn (setup.py) ... \u001b[?25l\u001b[?25hdone\n",
            "  Created wheel for flash-attn: filename=flash_attn-2.7.3-cp312-cp312-linux_x86_64.whl size=414494788 sha256=567bddcae6f7c133fd964bed9988926fe7aabaddb58bf62a744b2f782a7d4269\n",
            "  Stored in directory: /root/.cache/pip/wheels/f6/ba/3a/e5622e4a21e0735b65d5f7a0aca41c83467aaf2122031d214e\n",
            "Successfully built flash-attn\n",
            "Installing collected packages: flash-attn\n",
            "Successfully installed flash-attn-2.7.3\n",
            "Collecting pdf2image\n",
            "  Downloading pdf2image-1.17.0-py3-none-any.whl.metadata (6.2 kB)\n",
            "Requirement already satisfied: pillow in /usr/local/lib/python3.12/dist-packages (from pdf2image) (11.3.0)\n",
            "Downloading pdf2image-1.17.0-py3-none-any.whl (11 kB)\n",
            "Installing collected packages: pdf2image\n",
            "Successfully installed pdf2image-1.17.0\n",
            "Reading package lists... Done\n",
            "Building dependency tree... Done\n",
            "Reading state information... Done\n",
            "The following NEW packages will be installed:\n",
            "  poppler-utils\n",
            "0 upgraded, 1 newly installed, 0 to remove and 41 not upgraded.\n",
            "Need to get 186 kB of archives.\n",
            "After this operation, 697 kB of additional disk space will be used.\n",
            "Get:1 http://archive.ubuntu.com/ubuntu jammy-updates/main amd64 poppler-utils amd64 22.02.0-2ubuntu0.11 [186 kB]\n",
            "Fetched 186 kB in 1s (140 kB/s)\n",
            "Selecting previously unselected package poppler-utils.\n",
            "(Reading database ... 125080 files and directories currently installed.)\n",
            "Preparing to unpack .../poppler-utils_22.02.0-2ubuntu0.11_amd64.deb ...\n",
            "Unpacking poppler-utils (22.02.0-2ubuntu0.11) ...\n",
            "Setting up poppler-utils (22.02.0-2ubuntu0.11) ...\n",
            "Processing triggers for man-db (2.10.2-1) ...\n"
          ]
        }
      ],
      "source": [
        "%pip install addict\n",
        "%pip install transformers==4.46.3\n",
        "%pip install tokenizers==0.20.3\n",
        "%pip install PyMuPDF\n",
        "%pip install img2pdf\n",
        "%pip install einops\n",
        "%pip install easydict\n",
        "%pip install addict\n",
        "%pip install Pillow\n",
        "%pip install flash-attn==2.7.3 --no-build-isolation\n",
        "%pip install pdf2image\n",
        "!apt-get install poppler-utils"
      ]
    },
    {
      "cell_type": "code",
      "source": [
        "from transformers import AutoModel, AutoTokenizer\n",
        "import torch\n",
        "import os\n",
        "os.environ[\"CUDA_VISIBLE_DEVICES\"] = '0'\n",
        "model_name = 'deepseek-ai/DeepSeek-OCR'\n",
        "\n",
        "tokenizer = AutoTokenizer.from_pretrained(model_name, trust_remote_code=True)\n",
        "model = AutoModel.from_pretrained(model_name, _attn_implementation='flash_attention_2', trust_remote_code=True, use_safetensors=True)\n",
        "model = model.eval().cuda().to(torch.bfloat16)"
      ],
      "metadata": {
        "colab": {
          "base_uri": "https://localhost:8080/",
          "height": 942,
          "referenced_widgets": [
            "c04c8d231fdc4053a3d6030a1e47a6f3",
            "4c0683ecbe804c86b8f2661d61ad84db",
            "b42c67c4de214305baac135152e4d616",
            "ad29e3427d5143f286a3257b08dc9c77",
            "89307bc6369844b7b6c7eaaa072b29cb",
            "8b4436c63a68455db5565c991e09eba7",
            "d421e15796cf4a3fa1857a2bca34a07d",
            "1086a867a4af4bc5988b79c75f8042a7",
            "2d0bca5045a7479db3d04c6694bb68e7",
            "338f2a1ddedb477bb69f76c360964825",
            "1d28d7e7e7db4f6e818c4d3fdafe9898",
            "fbb8828c49984cc39cb550072c0130b4",
            "5700dffc119542b3b018b44342c584fc",
            "06744c98e8574a0f8e51fd4de1ab34f0",
            "54e66d1624354081b0204aa348028b77",
            "29eb63975411450bb5562558d54796ad",
            "8ef15d7630654d5ba6eb944bb656344f",
            "502a9cdd53c0427084128e88ac074692",
            "e94ae2654f2847058ac807ba15a4760a",
            "4e3c28b8e2c44da08c104e93c8b3aadf",
            "f615b6d85cc445568a2d4431dc59d8a3",
            "f7d1cd2710a74707b03cad4fe4e92e76",
            "735db1af3f304321a9103c8620012a49",
            "15760a52c2874223b42a1f27e276ed70",
            "1009deaaf4554c4ab12727ba1ff4d5fb",
            "9a918b03113142c99f13c76bef3c5492",
            "93aefd9fd9534f8487ff5ed7be62d8a9",
            "d78b93414b4d46ad84074ab584e47ac2",
            "a00e89e045744f6cb337939aae312c57",
            "1424439b537341acafa58e4a5a8d6549",
            "51b3b7eeda4d4b5ebce7c6f43cdd9b1a",
            "f322ed9f9988401bb0357928d044c4c0",
            "5b3785c32adf43b3955e9d94dde14f4f",
            "263bd8e95d4440d4840071b5c6332462",
            "f032a9e046064e318ba343a8ad0b1795",
            "8d62eff825924e338b6933dd3427bbc2",
            "1a9f2afaed0745148ef9bd0af7c1b56c",
            "c94286845569444ea99f5d4fd55ab792",
            "fe42959684584a97a983c638a97812c7",
            "18f83d08bb6249b1803e09e2c4054a86",
            "579be87a1f484bf4bc921ff14eb56b83",
            "b67018a5254b4c47a3dceab2a486c17f",
            "64d7c5fc4e0c4b4a87daf18e8527cc94",
            "3be79cd8edf046d0b8d40c7acaaa6234",
            "9b5222892ec141899e29f675d24b8e65",
            "e15319ff6fe24dcdb3c6f521bc8c87cc",
            "7a55f1ec76134330ba1e2ca7227d8775",
            "0ae41146392a4a1198888ee95faf93cf",
            "569beae46c8347869af91d7dbbcde99f",
            "44ce4c1d45e2460abdfeb57768f73679",
            "5214250c9b1048839006fed26b6717a0",
            "0778ab6659f945df95de88fac8149fd7",
            "b1bed774d3714f0aa3aa7b9f062ab62a",
            "a0c2cb53c1944bdf933d3df4956c20a2",
            "c69ecbff78a64b1d873c7bfab1370896",
            "b3db2ecaf8f34774aa6cf7fe29e1b4a7",
            "0dd4505fa8f24683b72ffdd9c2efe872",
            "133791e2a24f4fbba105ea9b5f4e01ce",
            "2f804dd90c8e4fd39e5d7daca43588a5",
            "0b459f4751ca40079fdee2d323aa89af",
            "bcb50368269749e4b0a4d87ddfbdb448",
            "feec9e04fc55473294d51e22247516e7",
            "013ff2c6b6554f1396eac136d1a497c7",
            "bbb86b62c17e48038639f51739ba9467",
            "ade5b03fa36947cca719fac306268524",
            "adce4aa8c12e42e78b55b653e7c26f8d",
            "c96383ed5fc24230a97b3a7d14f9f13d",
            "95238ed767df40ce80c9f31caaabd024",
            "dec69b8171aa4d87a081975ee2aee5ba",
            "82451843cdb6429ca88d2f90abfd3cdb",
            "14b1ebf2d8504733bf48ebd72ab9ce3d",
            "2359820471d4471ab2e4e85db1a30f73",
            "1997e11a64fb4950a5bb3eabf14855a7",
            "115a86ed2cfe411f953a4c9f7fc84f60",
            "091624d9919e4da1a1e9e3fe39703b08",
            "b7b5ed51d00d47c9a1cd73cf6f1ee102",
            "ac044eb48c2f4b609dae6f7bf41796e1",
            "ffc06eb8aa71485aafbba7726c86f94e",
            "39ae7680389f4044ad0a89dcfed67ace",
            "382cb3ac644d43acbbf5478ea92388d7",
            "f079539839664583ac4cbd99c90bc0d6",
            "15169a6117c041cd98e553a0bb58174b",
            "e7fddc60d10944a48ac868fecc0c2dbb",
            "1e59e3654a3a4b02beb140bb49b441e8",
            "38bf0da5680c4355a1da771235d32a62",
            "c0105231f08248a1b623483496784c1e",
            "bc2ab1f3a2854a7cbb01e27b403675a3",
            "0a27d9a690204d95890b64d0d7f361fa",
            "d604f0d3cbc74541aacbd72b02fd3dd3",
            "77b5622d0b174a2ab54b5d908a7edb4d",
            "47152bee35464e7cba23740b08569c0f",
            "d6080779ab63485a93827cc27c4da39b",
            "a9f3399c1dc74da188d7d8ae5db9ed22",
            "155bc0b09ba74a62b86a95ef7591fb10",
            "fba00375ad22494b88fe19dc578bc5f8",
            "929919a95c01467f9a3c294887e692e7",
            "816a911720e444c3a9eb0dc57a8b1bc9",
            "aaf56b49b3bf41ccaf483440c82bb023",
            "df3cd661d6fc4f4d983ccffa3f6164cb",
            "657074f2cc2941f5a5117be561c79189",
            "42ad0a9a899045ee93909b81483b6e30",
            "f4df6d8f3d854a22899ee3e53842fe59",
            "7e373ff96bef464f95c1697a4ee23721",
            "0db076a41275418393acb55c964b467b",
            "05508774bc974648b2c6a149dabff746",
            "6f0a0e856a2f4c418a4b2cedbaf152c4",
            "497ec3ddc32b4d70af6ba079d792e533",
            "c847c994d39b48f2ae7e7b381aab7cc5",
            "9e65032874ed47c4aa9ce5c992c490bf",
            "6e7e4863bdaf42f4985125c737b72168",
            "ac7597f87082425d98972aad99f1684d",
            "ddd199078fbd4b969e063f209ee99d55",
            "5fd65bc3b6144ce9b56ace23aed24f7e",
            "6de69a6c85d3414891339706f378a254",
            "d13a393217ee47f7a2e54bb04f9b054a",
            "92f39b2727ce4b90908566afbb681fca",
            "532d1e9f66ca47ada5489af396d570b2",
            "54d422bcb5b448998ae037685b1cb05b",
            "b694b14aeedd4f6291be89be6cf92eec",
            "ba6df47b58cb49b68e1f3d57a6bb30e2",
            "c20c09f16a7c4e3abe4ebefde6bcc2ab",
            "a5c3c3ecf84f43db8ca0ba0981b2121f",
            "f1599fabc87141acbb701507eef43f9b",
            "df54b19e049d4a15a1454d162dd03df3",
            "d94348ece2434109be49b0a8b1ff3514",
            "58f21eeb21ed490a9310759782990b75",
            "198cece5366446baa13c3bd4c3e732d3",
            "467cfbb54ca746bcb9408557ff9bf245",
            "eef5b015d62246c7b86176642e2a4bf5",
            "d85cb75a53a84be5b36fc4fd29dfde29",
            "f7adb0dc5fe047dca40202e8eb34c440",
            "7ea5ddd39fd64131887f4f2ee9a82613"
          ]
        },
        "id": "w_La2VYdnYfD",
        "outputId": "eff12f52-f0f5-40d5-e2a3-da0c8389840a"
      },
      "execution_count": null,
      "outputs": [
        {
          "output_type": "stream",
          "name": "stderr",
          "text": [
            "/usr/local/lib/python3.12/dist-packages/huggingface_hub/utils/_auth.py:94: UserWarning: \n",
            "The secret `HF_TOKEN` does not exist in your Colab secrets.\n",
            "To authenticate with the Hugging Face Hub, create a token in your settings tab (https://huggingface.co/settings/tokens), set it as secret in your Google Colab and restart your session.\n",
            "You will be able to reuse this secret in all of your notebooks.\n",
            "Please note that authentication is recommended but still optional to access public models or datasets.\n",
            "  warnings.warn(\n"
          ]
        },
        {
          "output_type": "display_data",
          "data": {
            "text/plain": [
              "tokenizer_config.json: 0.00B [00:00, ?B/s]"
            ],
            "application/vnd.jupyter.widget-view+json": {
              "version_major": 2,
              "version_minor": 0,
              "model_id": "c04c8d231fdc4053a3d6030a1e47a6f3"
            }
          },
          "metadata": {}
        },
        {
          "output_type": "display_data",
          "data": {
            "text/plain": [
              "tokenizer.json: 0.00B [00:00, ?B/s]"
            ],
            "application/vnd.jupyter.widget-view+json": {
              "version_major": 2,
              "version_minor": 0,
              "model_id": "fbb8828c49984cc39cb550072c0130b4"
            }
          },
          "metadata": {}
        },
        {
          "output_type": "display_data",
          "data": {
            "text/plain": [
              "special_tokens_map.json:   0%|          | 0.00/801 [00:00<?, ?B/s]"
            ],
            "application/vnd.jupyter.widget-view+json": {
              "version_major": 2,
              "version_minor": 0,
              "model_id": "735db1af3f304321a9103c8620012a49"
            }
          },
          "metadata": {}
        },
        {
          "output_type": "display_data",
          "data": {
            "text/plain": [
              "config.json: 0.00B [00:00, ?B/s]"
            ],
            "application/vnd.jupyter.widget-view+json": {
              "version_major": 2,
              "version_minor": 0,
              "model_id": "263bd8e95d4440d4840071b5c6332462"
            }
          },
          "metadata": {}
        },
        {
          "output_type": "display_data",
          "data": {
            "text/plain": [
              "modeling_deepseekocr.py: 0.00B [00:00, ?B/s]"
            ],
            "application/vnd.jupyter.widget-view+json": {
              "version_major": 2,
              "version_minor": 0,
              "model_id": "9b5222892ec141899e29f675d24b8e65"
            }
          },
          "metadata": {}
        },
        {
          "output_type": "display_data",
          "data": {
            "text/plain": [
              "deepencoder.py: 0.00B [00:00, ?B/s]"
            ],
            "application/vnd.jupyter.widget-view+json": {
              "version_major": 2,
              "version_minor": 0,
              "model_id": "b3db2ecaf8f34774aa6cf7fe29e1b4a7"
            }
          },
          "metadata": {}
        },
        {
          "output_type": "stream",
          "name": "stderr",
          "text": [
            "A new version of the following files was downloaded from https://huggingface.co/deepseek-ai/DeepSeek-OCR:\n",
            "- deepencoder.py\n",
            ". Make sure to double-check they do not contain any added malicious code. To avoid downloading new versions of the code file, you can pin a revision.\n"
          ]
        },
        {
          "output_type": "display_data",
          "data": {
            "text/plain": [
              "conversation.py: 0.00B [00:00, ?B/s]"
            ],
            "application/vnd.jupyter.widget-view+json": {
              "version_major": 2,
              "version_minor": 0,
              "model_id": "c96383ed5fc24230a97b3a7d14f9f13d"
            }
          },
          "metadata": {}
        },
        {
          "output_type": "stream",
          "name": "stderr",
          "text": [
            "A new version of the following files was downloaded from https://huggingface.co/deepseek-ai/DeepSeek-OCR:\n",
            "- conversation.py\n",
            ". Make sure to double-check they do not contain any added malicious code. To avoid downloading new versions of the code file, you can pin a revision.\n"
          ]
        },
        {
          "output_type": "display_data",
          "data": {
            "text/plain": [
              "modeling_deepseekv2.py: 0.00B [00:00, ?B/s]"
            ],
            "application/vnd.jupyter.widget-view+json": {
              "version_major": 2,
              "version_minor": 0,
              "model_id": "ffc06eb8aa71485aafbba7726c86f94e"
            }
          },
          "metadata": {}
        },
        {
          "output_type": "display_data",
          "data": {
            "text/plain": [
              "configuration_deepseek_v2.py: 0.00B [00:00, ?B/s]"
            ],
            "application/vnd.jupyter.widget-view+json": {
              "version_major": 2,
              "version_minor": 0,
              "model_id": "d604f0d3cbc74541aacbd72b02fd3dd3"
            }
          },
          "metadata": {}
        },
        {
          "output_type": "stream",
          "name": "stderr",
          "text": [
            "A new version of the following files was downloaded from https://huggingface.co/deepseek-ai/DeepSeek-OCR:\n",
            "- configuration_deepseek_v2.py\n",
            ". Make sure to double-check they do not contain any added malicious code. To avoid downloading new versions of the code file, you can pin a revision.\n",
            "A new version of the following files was downloaded from https://huggingface.co/deepseek-ai/DeepSeek-OCR:\n",
            "- modeling_deepseekv2.py\n",
            "- configuration_deepseek_v2.py\n",
            ". Make sure to double-check they do not contain any added malicious code. To avoid downloading new versions of the code file, you can pin a revision.\n",
            "A new version of the following files was downloaded from https://huggingface.co/deepseek-ai/DeepSeek-OCR:\n",
            "- modeling_deepseekocr.py\n",
            "- deepencoder.py\n",
            "- conversation.py\n",
            "- modeling_deepseekv2.py\n",
            ". Make sure to double-check they do not contain any added malicious code. To avoid downloading new versions of the code file, you can pin a revision.\n",
            "You are using a model of type deepseek_vl_v2 to instantiate a model of type DeepseekOCR. This is not supported for all configurations of models and can yield errors.\n"
          ]
        },
        {
          "output_type": "display_data",
          "data": {
            "text/plain": [
              "model.safetensors.index.json: 0.00B [00:00, ?B/s]"
            ],
            "application/vnd.jupyter.widget-view+json": {
              "version_major": 2,
              "version_minor": 0,
              "model_id": "657074f2cc2941f5a5117be561c79189"
            }
          },
          "metadata": {}
        },
        {
          "output_type": "display_data",
          "data": {
            "text/plain": [
              "Downloading shards:   0%|          | 0/1 [00:00<?, ?it/s]"
            ],
            "application/vnd.jupyter.widget-view+json": {
              "version_major": 2,
              "version_minor": 0,
              "model_id": "ac7597f87082425d98972aad99f1684d"
            }
          },
          "metadata": {}
        },
        {
          "output_type": "display_data",
          "data": {
            "text/plain": [
              "model-00001-of-000001.safetensors:   0%|          | 0.00/6.67G [00:00<?, ?B/s]"
            ],
            "application/vnd.jupyter.widget-view+json": {
              "version_major": 2,
              "version_minor": 0,
              "model_id": "a5c3c3ecf84f43db8ca0ba0981b2121f"
            }
          },
          "metadata": {}
        },
        {
          "output_type": "stream",
          "name": "stderr",
          "text": [
            "You are attempting to use Flash Attention 2.0 without specifying a torch dtype. This might lead to unexpected behaviour\n",
            "You are attempting to use Flash Attention 2.0 with a model not initialized on GPU. Make sure to move the model to GPU after initializing it on CPU with `model.to('cuda')`.\n",
            "Some weights of DeepseekOCRForCausalLM were not initialized from the model checkpoint at deepseek-ai/DeepSeek-OCR and are newly initialized: ['model.vision_model.embeddings.position_ids']\n",
            "You should probably TRAIN this model on a down-stream task to be able to use it for predictions and inference.\n"
          ]
        }
      ]
    },
    {
      "cell_type": "code",
      "source": [
        "from pdf2image import convert_from_path\n",
        "from PIL import Image\n",
        "import os\n",
        "import google.generativeai as genai\n",
        "\n",
        "pdf_path = os.path.join(\"48.pdf\")\n",
        "\n",
        "# The poppler_path argument is not needed when poppler is installed via apt-get\n",
        "images = convert_from_path(pdf_path)\n",
        "\n",
        "image_files = []\n",
        "for i, img in enumerate(images):\n",
        "    output_image_path = f\"page_{i+1}.jpg\"\n",
        "    img.save(output_image_path)\n",
        "    image_files.append(output_image_path)\n",
        "\n",
        "# The rest of the processing will be done in the next cell."
      ],
      "metadata": {
        "id": "6XJKQ_S9HOdQ"
      },
      "execution_count": null,
      "outputs": []
    },
    {
      "cell_type": "code",
      "source": [
        "# Save the combined image to a file\n",
        "output_image_path = \"combined_load_confirmation.jpg\"\n",
        "combined_image.save(output_image_path)\n",
        "\n",
        "print(f\"Combined image saved as {output_image_path}\")"
      ],
      "metadata": {
        "id": "Ia0Nsw--nknY",
        "colab": {
          "base_uri": "https://localhost:8080/",
          "height": 211
        },
        "outputId": "6bbc1819-ad51-495f-983f-35b3a056b58e"
      },
      "execution_count": null,
      "outputs": [
        {
          "output_type": "error",
          "ename": "NameError",
          "evalue": "name 'combined_image' is not defined",
          "traceback": [
            "\u001b[0;31m---------------------------------------------------------------------------\u001b[0m",
            "\u001b[0;31mNameError\u001b[0m                                 Traceback (most recent call last)",
            "\u001b[0;32m/tmp/ipython-input-3797034137.py\u001b[0m in \u001b[0;36m<cell line: 0>\u001b[0;34m()\u001b[0m\n\u001b[1;32m      1\u001b[0m \u001b[0;31m# Save the combined image to a file\u001b[0m\u001b[0;34m\u001b[0m\u001b[0;34m\u001b[0m\u001b[0m\n\u001b[1;32m      2\u001b[0m \u001b[0moutput_image_path\u001b[0m \u001b[0;34m=\u001b[0m \u001b[0;34m\"combined_load_confirmation.jpg\"\u001b[0m\u001b[0;34m\u001b[0m\u001b[0;34m\u001b[0m\u001b[0m\n\u001b[0;32m----> 3\u001b[0;31m \u001b[0mcombined_image\u001b[0m\u001b[0;34m.\u001b[0m\u001b[0msave\u001b[0m\u001b[0;34m(\u001b[0m\u001b[0moutput_image_path\u001b[0m\u001b[0;34m)\u001b[0m\u001b[0;34m\u001b[0m\u001b[0;34m\u001b[0m\u001b[0m\n\u001b[0m\u001b[1;32m      4\u001b[0m \u001b[0;34m\u001b[0m\u001b[0m\n\u001b[1;32m      5\u001b[0m \u001b[0mprint\u001b[0m\u001b[0;34m(\u001b[0m\u001b[0;34mf\"Combined image saved as {output_image_path}\"\u001b[0m\u001b[0;34m)\u001b[0m\u001b[0;34m\u001b[0m\u001b[0;34m\u001b[0m\u001b[0m\n",
            "\u001b[0;31mNameError\u001b[0m: name 'combined_image' is not defined"
          ]
        }
      ]
    },
    {
      "cell_type": "code",
      "source": [
        "# prompt = \"<image>\\nFree OCR. \"\n",
        "prompt = \"<image>\\n<|grounding|>Convert the document to markdown. \"\n",
        "output_path = '/content/'\n",
        "\n",
        "res = \"\"\n",
        "for image_file in image_files:\n",
        "    page_res = model.infer(tokenizer, prompt=prompt, image_file=image_file, output_path = output_path, base_size = 1024, image_size = 640, crop_mode=True, save_results = False,eval_mode = True, test_compress = True)\n",
        "    res += page_res"
      ],
      "metadata": {
        "id": "iv4jHyupngci",
        "colab": {
          "base_uri": "https://localhost:8080/"
        },
        "outputId": "64f2cd46-5f20-4494-e854-7019efb7e7e2"
      },
      "execution_count": null,
      "outputs": [
        {
          "output_type": "stream",
          "name": "stderr",
          "text": [
            "/usr/local/lib/python3.12/dist-packages/transformers/generation/configuration_utils.py:590: UserWarning: `do_sample` is set to `False`. However, `temperature` is set to `0.0` -- this flag is only used in sample-based generation modes. You should set `do_sample=True` or unset `temperature`.\n",
            "  warnings.warn(\n",
            "The attention mask and the pad token id were not set. As a consequence, you may observe unexpected behavior. Please pass your input's `attention_mask` to obtain reliable results.\n",
            "Setting `pad_token_id` to `eos_token_id`:None for open-end generation.\n",
            "The attention mask is not set and cannot be inferred from input because pad token is same as eos token. As a consequence, you may observe unexpected behavior. Please pass your input's `attention_mask` to obtain reliable results.\n",
            "The `seen_tokens` attribute is deprecated and will be removed in v4.41. Use the `cache_position` model input instead.\n",
            "`get_max_cache()` is deprecated for all Cache classes. Use `get_max_cache_shape()` instead. Calling `get_max_cache()` will raise error from v4.48\n",
            "The attention layers in this model are transitioning from computing the RoPE embeddings internally through `position_ids` (2D tensor with the indexes of the tokens), to using externally computed `position_embeddings` (Tuple of tensors, containing cos and sin). In v4.46 `position_ids` will be removed and `position_embeddings` will be mandatory.\n"
          ]
        },
        {
          "output_type": "stream",
          "name": "stdout",
          "text": [
            "=====================\n",
            "BASE:  torch.Size([1, 256, 1280])\n",
            "PATCHES:  torch.Size([6, 100, 1280])\n",
            "=====================\n"
          ]
        },
        {
          "output_type": "stream",
          "name": "stderr",
          "text": [
            "The attention mask and the pad token id were not set. As a consequence, you may observe unexpected behavior. Please pass your input's `attention_mask` to obtain reliable results.\n",
            "Setting `pad_token_id` to `eos_token_id`:None for open-end generation.\n"
          ]
        },
        {
          "output_type": "stream",
          "name": "stdout",
          "text": [
            "=====================\n",
            "BASE:  torch.Size([1, 256, 1280])\n",
            "PATCHES:  torch.Size([6, 100, 1280])\n",
            "=====================\n"
          ]
        },
        {
          "output_type": "stream",
          "name": "stderr",
          "text": [
            "The attention mask and the pad token id were not set. As a consequence, you may observe unexpected behavior. Please pass your input's `attention_mask` to obtain reliable results.\n",
            "Setting `pad_token_id` to `eos_token_id`:None for open-end generation.\n"
          ]
        },
        {
          "output_type": "stream",
          "name": "stdout",
          "text": [
            "=====================\n",
            "BASE:  torch.Size([1, 256, 1280])\n",
            "PATCHES:  torch.Size([6, 100, 1280])\n",
            "=====================\n"
          ]
        },
        {
          "output_type": "stream",
          "name": "stderr",
          "text": [
            "The attention mask and the pad token id were not set. As a consequence, you may observe unexpected behavior. Please pass your input's `attention_mask` to obtain reliable results.\n",
            "Setting `pad_token_id` to `eos_token_id`:None for open-end generation.\n"
          ]
        },
        {
          "output_type": "stream",
          "name": "stdout",
          "text": [
            "=====================\n",
            "BASE:  torch.Size([1, 256, 1280])\n",
            "PATCHES:  torch.Size([6, 100, 1280])\n",
            "=====================\n"
          ]
        },
        {
          "output_type": "stream",
          "name": "stderr",
          "text": [
            "The attention mask and the pad token id were not set. As a consequence, you may observe unexpected behavior. Please pass your input's `attention_mask` to obtain reliable results.\n",
            "Setting `pad_token_id` to `eos_token_id`:None for open-end generation.\n"
          ]
        },
        {
          "output_type": "stream",
          "name": "stdout",
          "text": [
            "=====================\n",
            "BASE:  torch.Size([1, 256, 1280])\n",
            "PATCHES:  torch.Size([6, 100, 1280])\n",
            "=====================\n"
          ]
        },
        {
          "output_type": "stream",
          "name": "stderr",
          "text": [
            "The attention mask and the pad token id were not set. As a consequence, you may observe unexpected behavior. Please pass your input's `attention_mask` to obtain reliable results.\n",
            "Setting `pad_token_id` to `eos_token_id`:None for open-end generation.\n"
          ]
        },
        {
          "output_type": "stream",
          "name": "stdout",
          "text": [
            "=====================\n",
            "BASE:  torch.Size([1, 256, 1280])\n",
            "PATCHES:  torch.Size([6, 100, 1280])\n",
            "=====================\n"
          ]
        }
      ]
    },
    {
      "cell_type": "code",
      "source": [
        "print(res)"
      ],
      "metadata": {
        "colab": {
          "base_uri": "https://localhost:8080/"
        },
        "id": "y4lyIt7M_nvs",
        "outputId": "44288123-7931-471e-8e42-70d553264850"
      },
      "execution_count": null,
      "outputs": [
        {
          "output_type": "stream",
          "name": "stdout",
          "text": [
            "<|ref|>title<|/ref|><|det|>[[62, 82, 670, 105]]<|/det|>\n",
            "# Your Response to this Confirmation is Required  \n",
            "\n",
            "<|ref|>text<|/ref|><|det|>[[61, 118, 372, 149]]<|/det|>\n",
            "RYAN TRANSPORTATION SERVICE, INC MC# 196502  \n",
            "\n",
            "<|ref|>text<|/ref|><|det|>[[61, 152, 876, 231]]<|/det|>\n",
            "www.ryantrans.com Broker Phone and Fax (913) 421- 4941 For after- hours support between 5pm and 7am CST please contact our After Hours Team at 913- 310- 2241 or support- afterhours@ryantrans.com Email freight bill to carrierbilling@ryantrans.com or fax to 913- 890- 6643  \n",
            "\n",
            "<|ref|>text<|/ref|><|det|>[[797, 211, 925, 237]]<|/det|>\n",
            "5264192  \n",
            "\n",
            "<|ref|>text<|/ref|><|det|>[[61, 258, 325, 308]]<|/det|>\n",
            "Carrier: Sapient Logistics Inc Philadelphia 08/28/2025  \n",
            "\n",
            "<|ref|>text<|/ref|><|det|>[[61, 312, 105, 325]]<|/det|>\n",
            "Date:  \n",
            "\n",
            "<|ref|>text<|/ref|><|det|>[[61, 333, 771, 350]]<|/det|>\n",
            "Eric Schultz (913) 421- 4941 AT RYAN TRANSPORTATION SERVICE, INC.  \n",
            "\n",
            "<|ref|>text<|/ref|><|det|>[[61, 353, 960, 370]]<|/det|>\n",
            "CARRIER PLEASE HAVE YOUR DRIVER CALL RYAN TRANSPORTATION FOR ADDITIONAL SHIPMENT INFORMATION  \n",
            "\n",
            "<|ref|>text<|/ref|><|det|>[[61, 373, 866, 415]]<|/det|>\n",
            "REFER TO RYAN TRANSPORTATION SERVICE, INC. LOAD #: 5264192This agreement is for exclusive use of truck, unless otherwise stated. Shipper may add or subtract freight/weight as long as shipment complies with DOT requirements.  \n",
            "\n",
            "<|ref|>text<|/ref|><|det|>[[61, 416, 512, 432]]<|/det|>\n",
            "Carrier has a duty to weigh shipment at first available scale  \n",
            "\n",
            "<|ref|>text<|/ref|><|det|>[[61, 443, 111, 458]]<|/det|>\n",
            "Order  \n",
            "\n",
            "<|ref|>text<|/ref|><|det|>[[163, 443, 321, 537]]<|/det|>\n",
            "Order: 5264192 Temp: 32.0 BOL: LD41416 Hazmat: N Pieces: 1 Length:  \n",
            "\n",
            "<|ref|>text<|/ref|><|det|>[[562, 443, 790, 537]]<|/det|>\n",
            "Commodity: Food Products Weight: 43000.0 Trailer: Reefer (DAT) Reference: Hazmat UN: Height:  \n",
            "\n",
            "<|ref|>text<|/ref|><|det|>[[159, 570, 820, 603]]<|/det|>\n",
            "PU 1 Name: Rich Holdings Inc. - MCDONOUGH, GADate: 09/01/2025 1900 Address: 200 King Mill Road  \n",
            "\n",
            "<|ref|>text<|/ref|><|det|>[[214, 617, 718, 744]]<|/det|>\n",
            "McDonough GA 30253 Contact: Phone: Driver Load: N Reference number: BM LD41416 Reference number: CN LD41416 Reference number: P8 C/O FOOD WASTE Reference number: SI SBSN33462 Reference number: SO 2531846 Reference number: SO 2531846<|ref|>title<|/ref|><|det|>[[62, 81, 670, 105]]<|/det|>\n",
            "# Your Response to this Confirmation is Required  \n",
            "\n",
            "<|ref|>text<|/ref|><|det|>[[61, 117, 373, 133]]<|/det|>\n",
            "RYAN TRANSPORTATION SERVICE, INC  \n",
            "\n",
            "<|ref|>text<|/ref|><|det|>[[61, 135, 152, 148]]<|/det|>\n",
            "MC# 196502  \n",
            "\n",
            "<|ref|>text<|/ref|><|det|>[[61, 152, 212, 165]]<|/det|>\n",
            "www.ryantrans.com  \n",
            "\n",
            "<|ref|>text<|/ref|><|det|>[[61, 165, 437, 179]]<|/det|>\n",
            "Broker Phone and Fax (913) 421- 4941  \n",
            "\n",
            "<|ref|>text<|/ref|><|det|>[[61, 180, 875, 196]]<|/det|>\n",
            "For after- hours support between 5pm and 7am CST please contact our After Hours Team at 913- 310- 2241 or  \n",
            "\n",
            "<|ref|>text<|/ref|><|det|>[[61, 201, 339, 215]]<|/det|>\n",
            "support- afterhours@ryantrans.com  \n",
            "\n",
            "<|ref|>text<|/ref|><|det|>[[61, 215, 601, 230]]<|/det|>\n",
            "Email freight bill to carrierbilling@ryantrans.com or fax to 913- 890- 6643  \n",
            "\n",
            "<|ref|>text<|/ref|><|det|>[[795, 212, 925, 237]]<|/det|>\n",
            "5264192  \n",
            "\n",
            "<|ref|>text<|/ref|><|det|>[[61, 256, 325, 306]]<|/det|>\n",
            "Carrier: Sapient Logistics Inc Philadelphia 08/28/2025  \n",
            "\n",
            "<|ref|>text<|/ref|><|det|>[[562, 257, 775, 306]]<|/det|>\n",
            "Contact: Sam Phone: 347- 296- 6690 Fax:  \n",
            "\n",
            "<|ref|>text<|/ref|><|det|>[[61, 310, 105, 323]]<|/det|>\n",
            "Date:  \n",
            "\n",
            "<|ref|>text<|/ref|><|det|>[[61, 333, 770, 350]]<|/det|>\n",
            "Eric Schultz (913) 421- 4941 AT RYAN TRANSPORTATION SERVICE, INC.  \n",
            "\n",
            "<|ref|>text<|/ref|><|det|>[[61, 353, 960, 370]]<|/det|>\n",
            "CARRIER PLEASE HAVE YOUR DRIVER CALL RYAN TRANSPORTATION FOR ADDITIONAL SHIPMENT INFORMATION  \n",
            "\n",
            "<|ref|>text<|/ref|><|det|>[[61, 373, 880, 415]]<|/det|>\n",
            "REFER TO RYAN TRANSPORTATION SERVICE, INC. LOAD #: 5264192This agreement is for exclusive use of truck, unless otherwise stated. Shipper may add or subtract freight/weight as long as shipment complies with DOT requirements.  \n",
            "\n",
            "<|ref|>text<|/ref|><|det|>[[61, 416, 520, 432]]<|/det|>\n",
            "Carrier has a duty to weigh shipment at first available scale  \n",
            "\n",
            "<|ref|>text<|/ref|><|det|>[[155, 450, 820, 484]]<|/det|>\n",
            "SO2 Name: SEVIER SOLID WASTE INC - PRIMARYADDRESS 09/02/2025 0930 Address: 1831 Ridge Road  \n",
            "\n",
            "<|ref|>text<|/ref|><|det|>[[210, 499, 718, 532]]<|/det|>\n",
            "Pigeon Forge TN 37863 Contact: Phone: Driver Load: N  \n",
            "\n",
            "<|ref|>text<|/ref|><|det|>[[210, 536, 614, 589]]<|/det|>\n",
            "Reference number: P8 C/O FOOD WASTE Reference number: SI SBSN33462 Reference number: SO 2531846  \n",
            "\n",
            "<|ref|>text<|/ref|><|det|>[[61, 599, 125, 614]]<|/det|>\n",
            "Payment  \n",
            "\n",
            "<|ref|>text<|/ref|><|det|>[[210, 600, 364, 650]]<|/det|>\n",
            "Carrier Freight Pay: Tracking Hold Total Carrier Pay:  \n",
            "\n",
            "<|ref|>text<|/ref|><|det|>[[482, 600, 561, 650]]<|/det|>\n",
            "\\(\\) 1,100.00\\(\\) - 100.00 \\(\\) 1,000.00\\$ Billing/Payment inquiries call 1- 877- 519- 1984  \n",
            "\n",
            "<|ref|>text<|/ref|><|det|>[[87, 761, 184, 777]]<|/det|>\n",
            "Please Sign:  \n",
            "\n",
            "<|ref|>text<|/ref|><|det|>[[541, 761, 629, 825]]<|/det|>\n",
            "Driver Name: Driver Cell #: Tractor #: Trailer #:  \n",
            "\n",
            "<|ref|>text<|/ref|><|det|>[[87, 904, 130, 917]]<|/det|>\n",
            "User:  \n",
            "\n",
            "<|ref|>text<|/ref|><|det|>[[87, 923, 198, 953]]<|/det|>\n",
            "Eric Schultz (913) 421- 4941<|ref|>sub_title<|/ref|><|det|>[[61, 57, 155, 70]]<|/det|>\n",
            "## Instructions  \n",
            "\n",
            "<|ref|>text<|/ref|><|det|>[[58, 71, 905, 336]]<|/det|>\n",
            "Rich Holdings Inc. - MCDONOUGH, GA - NORTEAMA: Accessorials: For applicable accessorial charges, Carrier agrees to the below accessorial charges and MUST notify Ryan Transportation within 24- 48 business hours after delivery unless stated differently. a. Detention - \\(40 USD per hour in excess of 2 free hours of loading and unloading time following the scheduled appointment or arrival time if the location has an open window - Must notify nfountain@ryantrans.com or their rep 1 hour prior to the start of detention for reimbursement\\* b. Truck Order Not Used - \\(150 per load c. Layover -\\) 200 per load Rich Holdings Inc. - MCDONOUGH, GA - NORTEAMA: ALL COVANTA LOCATIONS - - CARRIER MUST DELIVER ON- TIME. \\(500 FINE FOR MISSED APPOINTMENT, NO EXCEPTIONS. CARRIER IS TO NOTIFY THEIR REP OR NORTHSTAR@RYANTRANS.COM IN CASE THEY ARE TO MISS THE APPOINTMENT. CARRIER MUST HAVE NON- HAZ CERTIFICATION FOR DELIVERY ALONG WITH BOL AND PRESHIPMENT NOTIFICATION. PLEASE CONTACT YOUR REP IF YOU DO NOT HAVE THEM. Rich Holdings Inc. - MCDONOUGH, GA - NORTEAMA: MUST GET EMPTY AND LOADED SCALE TICKET (INCLUDED IN RATE OF ALL LOADS, SO WILL NOT REIMBURSE) Rich Holdings Inc. - MCDONOUGH, GA - NORTEAMA: MUST USE TRUCKER TOOLS TRACKING, OTHERWISE \\(\\) 100\\(HOLD DENTENTION TIME WILL NOT BE PAID UNLESS DISPATCH IS NOTIFIED AT THE ONSET OF DENTENTION (After the first 1.5 hours)  \n",
            "\n",
            "<|ref|>text<|/ref|><|det|>[[86, 761, 275, 780]]<|/det|>\n",
            "Please Sign: Sammy  \n",
            "\n",
            "<|ref|>text<|/ref|><|det|>[[541, 760, 721, 825]]<|/det|>\n",
            "Driver Name: Greg Driver Cell #: 305- 491- 8642 Tractor #: 1010 Trailer #: tbd<|ref|>sub_title<|/ref|><|det|>[[401, 91, 595, 108]]<|/det|>\n",
            "## Carrier Rate Agreement  \n",
            "\n",
            "<|ref|>text<|/ref|><|det|>[[114, 150, 882, 268]]<|/det|>\n",
            "CARRIER agrees to compensate, indemnify, defend and hold BROKER and Broker's Customer harmless, including attorney fees and costs for enforcing this agreement, for any and all loss or damage to cargo on each shipment tendered to CARRIER. Carrier further agrees to indemnify, defend and hold BROKER and Broker's Customer harmless from all and any liability, costs and damages to persons and/or property arising out of CARRIER'S operations hereunder, including but not limited to all road fuel, and other taxes, fees or permits related to the shipments transported by CARRIER as arranged by BROKER.  \n",
            "\n",
            "<|ref|>text<|/ref|><|det|>[[114, 278, 880, 377]]<|/det|>\n",
            "By accepting this shipment, CARRIER hereby certifies that it will use, furnish or provide Transportation Refrigeration Unit (TRU) equipment that is in compliance with all requirements of the State of California TRU regulations. Carrier further agrees to defend, indemnify and hold Ryan Transportation and its customer harmless from any failure regarding non- compliant equipment. For more information go to www.arb.ca.gov/diesel/tru/documents/template notice to carriers.pdf  \n",
            "\n",
            "<|ref|>text<|/ref|><|det|>[[113, 386, 881, 641]]<|/det|>\n",
            "CARRIER warrants that its equipment shall be clean, in good working order, properly licensed, identified and insured and suitable for the transportation requested, and that no trailer or other vehicle which transports commodities shall ever have been used to transport refuse, garbage, trash or solid or liquid waste of any kind whatsoever, whether hazardous or non- hazardous. CARRIER will only offer to Broker and Broker's customers equipment which is in full compliance with the Sanitary Food Transportation Act and any similar or successor act. CARRIER warrants that the equipment to be used under this Agreement shall be clean, odor free, dry, leakproof, free of contamination or infestation and suitable for transportation of foodstuff for human consumption. If Carrier has hauled fertilizer, manure, compost, animals, uncooked meat, eggs, or dairy products, Carrier must clean all equipment with a sanitizing agent and provide documentation of the prior shipments and cleanings to shipper/loader at next pickup, and Consignor, Consignee or Government Agent upon request. CARRIER must keep such records for at least 12 months from shipment. If the loader determines that the equipment does not meet its reasonable standards of acceptability, Carrier shall clean or replace the equipment at its own cost.  \n",
            "\n",
            "<|ref|>text<|/ref|><|det|>[[114, 651, 884, 770]]<|/det|>\n",
            "When required by BROKER, the shipper or the consignor, CARRIER shall secure shipments with a serialized seal. CARRIER shall ensure that the serialized seal number appears on the bill of lading or other form of manifest or receipt. CARRIER shall be solely responsible for maintaining seal integrity during transportation of the shipment. Except as is required by law enforcement personnel, under no circumstances shall CARRIER or any of its personnel break any seal without the express consent of BROKER. CARRIER shall immediately notify BROKER to report a missing or broken seal.  \n",
            "\n",
            "<|ref|>text<|/ref|><|det|>[[114, 780, 875, 877]]<|/det|>\n",
            "CARRIER agrees that food that has been transported or offered for transport under conditions that are not in compliance with the load handling instructions, as provided to CARRIER, including loads delivered with a broken, missing, or unreadable seal, may be considered \"adulterated\" within the meaning of the Federal Food, Drug and Cosmetic Act, 21 U.S.C. § 342(i), and its implementing regulations. CARRIER understands and agrees that adulterated shipments may be refused by the consignee or receiver, upon<|ref|>text<|/ref|><|det|>[[115, 90, 879, 127]]<|/det|>\n",
            "their delivery, at destination and CARRIER shall bear sole risk of rejection of cargo arising from or related to broken, missing or unreadable seals or failure to comply with load handling instructions.  \n",
            "\n",
            "<|ref|>sub_title<|/ref|><|det|>[[116, 170, 325, 187]]<|/det|>\n",
            "## For Refrigerated Shipments:  \n",
            "\n",
            "<|ref|>text<|/ref|><|det|>[[114, 198, 883, 295]]<|/det|>\n",
            "CARRIER must meet defined set temperature instructions as provided in documentation and on shipping documents provided to CARRIER. Temperature settings for certain materials/products and mixes of these products on loads and time of year will determine the required set temperature for these loads. CARRIER'S must provide a fresh protect setting with a temperature delta of no more than 4 degrees from set point in the continuous operating mode for perishable loads.  \n",
            "\n",
            "<|ref|>text<|/ref|><|det|>[[115, 336, 835, 374]]<|/det|>\n",
            "If CARRIER receives contradictory or confusing instructions regarding any shipment, CARRIER must resolve the contradictory or confusing instructions prior to accepting the shipment for transport.  \n",
            "\n",
            "<|ref|>text<|/ref|><|det|>[[114, 385, 882, 483]]<|/det|>\n",
            "Carrier acknowledges that Shipper's insertion of Ryan Transportation Service name on the bill of lading, freight tender or any other document shall be for Shipper's convenience only and shall not change Ryan Transportation Service's status as a transportation broker. In the event Broker's name is listed on the bill of lading, shipping manifest or other similar document, as the carrier, Carrier shall cross- out or otherwise remove Broker's name and enter Carrier's name as applicable.  \n",
            "\n",
            "<|ref|>sub_title<|/ref|><|det|>[[115, 494, 645, 512]]<|/det|>\n",
            "## Carrier agrees to follow CDC Guidelines to prevent spread of COVID-19.  \n",
            "\n",
            "<|ref|>text<|/ref|><|det|>[[114, 522, 857, 600]]<|/det|>\n",
            "Trucker Tools tracking is required. Driver agrees to accept tracking before departing shipping location. Driver agrees for tracking to be active throughout transit until delivery is confirmed. In order to verify detention, driver must use the dwell feature inside the Trucker Tools phone applications or provide a signed BOL with clearly defined in and out time.  \n",
            "\n",
            "<|ref|>text<|/ref|><|det|>[[115, 613, 882, 650]]<|/det|>\n",
            "Please contact your Ryan Transportation representative for step- by- step instructions for downloading the app and executing its trucking functions.  \n",
            "\n",
            "<|ref|>text<|/ref|><|det|>[[113, 661, 880, 896]]<|/det|>\n",
            "Carrier on behalf of its drivers, independent contractors or any third party assisting them with this load hereby acknowledges and agrees as follows: (i) while using Trucker Tools and other tracking software or communications with Broker or its shipper they may receive certain text messages or calls while the equipment is in operation, (ii) looking at text messages, taking calls or any other distractions while operating the equipment is illegal and may lead to serious injury, death and property damage to you or others (iii) they will not read, answer or respond to any messages until the equipment is stationary and parked, (iv) they will comply with all applicable federal, state, and local laws including, but not limited to, laws relating to the receipt, review or sending of messages or phone calls while the equipment is in operation, (v) they will assume all liability associated with any failure to comply with these provisions, and (vi) they jointly and severally agree to indemnify, defend and hold broker harmless to the fullest extent permitted by law for any and all claims relating to a breach of these provisions by Carrier, its drivers, independent contractors or any third party assisting them with this load.<|ref|>text<|/ref|><|det|>[[113, 118, 884, 234]]<|/det|>\n",
            "Any directions given by Ryan Transportation Service or its Customers, whether orally and/or electronically, are for informational purposes only. It is the Carrier's sole responsibility to confirm that it may lawfully and safely operate its vehicle, equipment and its contents over any road, highway, bridge and/or route. Carrier shall be solely responsible for any fines, penalties, or citations that may be levied as a result of operation its vehicle equipment and its content in any way that may be found to be in violation of any regulation, law or ordinance.  \n",
            "\n",
            "<|ref|>text<|/ref|><|det|>[[115, 247, 380, 264]]<|/det|>\n",
            "Detention Policy and Requirements:  \n",
            "\n",
            "<|ref|>text<|/ref|><|det|>[[142, 277, 863, 457]]<|/det|>\n",
            "- Trucker Tools tracking must be used for the entirety of the load- 2 hours free for loading and unloading, \\(50 / \\text{hour thereafter}\\) — billable detention allowed is 4 hours- Layovers are paid at a rate of \\(250 / \\text{day},\\) detention and layover are not eligible to be billed concurrently- Carrier must present BOL with signed IN/OUT times from valid shipping or receiving employee- Carrier must be on time for scheduled shipping and delivery appointments- Carrier must notify Ryan Transportation via email 1 hour prior to the start of detention- All detention requests must be made via written request within 24 hours of the occurrence  \n",
            "\n",
            "<|ref|>sub_title<|/ref|><|det|>[[274, 499, 723, 520]]<|/det|>\n",
            "## Truck Order Not Used Policy and Requirements  \n",
            "\n",
            "<|ref|>text<|/ref|><|det|>[[115, 532, 672, 551]]<|/det|>\n",
            "Truck Order Not Used of \\(\\) 150\\$ will be issued if the following criteria are met:  \n",
            "\n",
            "<|ref|>text<|/ref|><|det|>[[142, 562, 883, 640]]<|/det|>\n",
            "1. Load is canceled within 4 hours of the pick-up ETA or appointment time provided at the time of booking and or TruckerTools tracking has been accepted and started  \n",
            "2. The rate confirmation was issued more than 1 hour prior to the notice of cancellation for all loads booked on the same date as the planned ship date  \n",
            "\n",
            "<|ref|>image<|/ref|><|det|>[[152, 670, 840, 733]]<|/det|>  \n",
            "\n",
            "<|ref|>title<|/ref|><|det|>[[390, 763, 606, 784]]<|/det|>\n",
            "# Ryan Transportation  \n",
            "\n",
            "<|ref|>text<|/ref|><|det|>[[420, 795, 572, 812]]<|/det|>\n",
            "9350 Metcalf Ave.  \n",
            "\n",
            "<|ref|>text<|/ref|><|det|>[[399, 824, 598, 841]]<|/det|>\n",
            "Overland Park, KS 66212  \n",
            "\n",
            "<|ref|>text<|/ref|><|det|>[[435, 853, 561, 869]]<|/det|>\n",
            "(877) 519- 1984  \n",
            "\n",
            "<|ref|>text<|/ref|><|det|>[[422, 882, 574, 898]]<|/det|>\n",
            "www.ryantrans.com\n"
          ]
        }
      ]
    },
    {
      "cell_type": "code",
      "source": [
        "prompt = f\"\"\"\n",
        "You are an expert load confirmation analyst with over 10 years of experience as a dispatcher and broker in the trucking industry. You are thoroughly familiar with all possible terminologies used in load confirmation, dispatch, and rate agreement documents—including synonyms and alternate phrasing (for instance, \"commodity\" can also appear as \"goods\" or \"product\"; \"carrier pay\" as \"freight rate\" or \"total payment\"; etc.). Your role is to ensure that not a single piece of critical information is missed, regardless of wording, layout variation, or format.\n",
        "\n",
        "Your task is:\n",
        "\n",
        "Given the following Markdown-formatted text extracted from a load confirmation, rate confirmation, or dispatch document:\n",
        "\n",
        "Identify and extract every key data point required for carrier load execution and payment, even if fields are phrased differently or appear in varied order.\n",
        "\n",
        "Ensure you cross-reference synonymous terms and do not overlook information if it appears under a different label.\n",
        "\n",
        "Omit no critical details that would impact payment, scheduling, claims, compliance, or operational clarity.\n",
        "\n",
        "Strictly avoid inventing or hallucinating values. If a field is not present in the document, output an empty string, array, or object as appropriate.\n",
        "tip : Have total grasp of the whole extracted data, so try to understand what is what and correctly fit in the JSON structure even the text is far away from.\n",
        "\n",
        "Present the output exactly in the following JSON structure (and nothing else—no commentary, explanation, or extra text):\n",
        "\n",
        "{{\n",
        "  \"load_details\": {{\n",
        "    \"broker_name\": \"\",\n",
        "    \"broker_mc_number\": \"\",\n",
        "    \"load_confirmation_number\": \"\",\n",
        "    \"order_number\": \"\",\n",
        "    \"bol_number\": \"\",\n",
        "    \"reference_numbers\": [],\n",
        "    \"commodity\": \"\",\n",
        "    \"weight\": \"\",\n",
        "    \"piece_count\": \"\",\n",
        "    \"temperature_requirements\": \"\",\n",
        "    \"equipment_type\": \"\",\n",
        "    \"total_miles\": \"\"\n",
        "  }},\n",
        "  \"financial\": {{\n",
        "    \"base_rate\": \"\",\n",
        "    \"total_carrier_pay\": \"\",\n",
        "    \"accessorial_charges\": {{}},\n",
        "    \"detention_rate\": \"\",\n",
        "    \"detention_terms\": \"\",\n",
        "    \"payment_terms\": \"\"\n",
        "  }},\n",
        "  \"pickup\": {{\n",
        "    \"facility_name\": \"\",\n",
        "    \"address\": \"\",\n",
        "    \"city\": \"\",\n",
        "    \"state\": \"\",\n",
        "    \"zip\": \"\",\n",
        "    \"date\": \"\",\n",
        "    \"time_window\": \"\",\n",
        "    \"contact_information\": \"\",\n",
        "    \"reference_numbers\": [],\n",
        "    \"special_instructions\": \"\"\n",
        "  }},\n",
        "  \"delivery\": {{\n",
        "    \"facility_name\": \"\",\n",
        "    \"address\": \"\",\n",
        "    \"city\": \"\",\n",
        "    \"state\": \"\",\n",
        "    \"zip\": \"\",\n",
        "    \"date\": \"\",\n",
        "    \"time_window\": \"\",\n",
        "    \"contact_information\": \"\",\n",
        "    \"reference_numbers\": [],\n",
        "    \"special_instructions\": \"\"\n",
        "  }},\n",
        "  \"driver_equipment\": {{\n",
        "    \"driver_name\": \"\",\n",
        "    \"driver_phone\": \"\",\n",
        "    \"tractor_number\": \"\",\n",
        "    \"trailer_number\": \"\",\n",
        "    \"tractor_vin\": \"\"\n",
        "  }},\n",
        "  \"operational_requirements\": {{\n",
        "    \"tracking_requirements\": \"\",\n",
        "    \"communication_protocols\": \"\",\n",
        "    \"loading_responsibility\": \"\",\n",
        "    \"unloading_responsibility\": \"\"\n",
        "  }},\n",
        "  \"penalties_restrictions\": {{\n",
        "    \"cancellation_fee\": \"\",\n",
        "    \"rescheduling_fee\": \"\",\n",
        "    \"late_delivery_penalty\": \"\",\n",
        "    \"weekend_holiday_restrictions\": \"\"\n",
        "  }}\n",
        "}}\n",
        "\n",
        "Rules:\n",
        "\n",
        "Fill each field only if the information is explicitly listed, regardless of the label or location.\n",
        "\n",
        "Leave fields blank (empty string, array, or object) if not present.\n",
        "\n",
        "Do not output any extra text—only the JSON as specified above.\n",
        "\n",
        "Prioritize accuracy and completeness, accounting for all synonym variations and industry-specific language.\n",
        "\n",
        "This will ensure consistent, comprehensive, and error-free extraction of critical load information across any truckload document.\n",
        "\"\"\""
      ],
      "metadata": {
        "id": "9fRzfs-Arfg_"
      },
      "execution_count": null,
      "outputs": []
    },
    {
      "cell_type": "code",
      "source": [
        "from google.colab import userdata\n",
        "import google.generativeai as genai\n",
        "import json\n",
        "\n",
        "genai.configure(api_key=userdata.get('GOOGLE_API_KEY'))\n",
        "gemini = genai.GenerativeModel(\"gemini-2.5-flash\")\n",
        "\n",
        "response = gemini.generate_content(f\"{prompt}\\n\\nDocument:\\n{res}\")\n",
        "json_output = response.text.strip()\n",
        "\n",
        "if json_output.startswith(\"```json\"): json_output = json_output[7:]\n",
        "elif json_output.startswith(\"```\"): json_output = json_output[3:]\n",
        "if json_output.endswith(\"```\"): json_output = json_output[:-3]\n",
        "\n",
        "data = json.loads(json_output.strip())\n",
        "\n",
        "print(json.dumps(data, indent=2))\n",
        "\n",
        "with open('extracted_data.json', 'w') as f:\n",
        "    json.dump(data, f, indent=2)\n"
      ],
      "metadata": {
        "id": "rFUL05Xz5h6-",
        "colab": {
          "base_uri": "https://localhost:8080/",
          "height": 1000
        },
        "outputId": "721a5cd9-5e13-4cd7-b8f5-1f06027e6c98"
      },
      "execution_count": null,
      "outputs": [
        {
          "output_type": "stream",
          "name": "stdout",
          "text": [
            "{\n",
            "  \"load_details\": {\n",
            "    \"broker_name\": \"RYAN TRANSPORTATION SERVICE, INC\",\n",
            "    \"broker_mc_number\": \"196502\",\n",
            "    \"load_confirmation_number\": \"5264192\",\n",
            "    \"order_number\": \"5264192\",\n",
            "    \"bol_number\": \"LD41416\",\n",
            "    \"reference_numbers\": [\n",
            "      \"BM LD41416\",\n",
            "      \"CN LD41416\",\n",
            "      \"P8 C/O FOOD WASTE\",\n",
            "      \"SI SBSN33462\",\n",
            "      \"SO 2531846\"\n",
            "    ],\n",
            "    \"commodity\": \"Food Products\",\n",
            "    \"weight\": \"43000.0\",\n",
            "    \"piece_count\": \"1\",\n",
            "    \"temperature_requirements\": \"32.0. CARRIER'S must provide a fresh protect setting with a temperature delta of no more than 4 degrees from set point in the continuous operating mode for perishable loads.\",\n",
            "    \"equipment_type\": \"Reefer\",\n",
            "    \"total_miles\": \"\"\n",
            "  },\n",
            "  \"financial\": {\n",
            "    \"base_rate\": \"1100.00\",\n",
            "    \"total_carrier_pay\": \"1000.00\",\n",
            "    \"accessorial_charges\": {\n",
            "      \"Tracking Hold\": -100.0,\n",
            "      \"Truck Order Not Used\": 150.0,\n",
            "      \"Layover\": 200.0\n",
            "    },\n",
            "    \"detention_rate\": \"50 / hour\",\n",
            "    \"detention_terms\": \"2 hours free for loading and unloading, billable detention allowed is 4 hours, not eligible to be billed concurrently with layover. Carrier must present BOL with signed IN/OUT times from valid shipping or receiving employee. Carrier must be on time for scheduled shipping and delivery appointments. Carrier must notify Ryan Transportation via email 1 hour prior to the start of detention. All detention requests must be made via written request within 24 hours of the occurrence. DENTENTION TIME WILL NOT BE PAID UNLESS DISPATCH IS NOTIFIED AT THE ONSET OF DENTENTION (After the first 1.5 hours).\",\n",
            "    \"payment_terms\": \"Email freight bill to carrierbilling@ryantrans.com or fax to 913- 890- 6643. Billing/Payment inquiries call 1- 877- 519- 1984.\"\n",
            "  },\n",
            "  \"pickup\": {\n",
            "    \"facility_name\": \"Rich Holdings Inc. - MCDONOUGH, GA\",\n",
            "    \"address\": \"200 King Mill Road\",\n",
            "    \"city\": \"McDonough\",\n",
            "    \"state\": \"GA\",\n",
            "    \"zip\": \"30253\",\n",
            "    \"date\": \"09/01/2025\",\n",
            "    \"time_window\": \"1900\",\n",
            "    \"contact_information\": \"\",\n",
            "    \"reference_numbers\": [\n",
            "      \"BM LD41416\",\n",
            "      \"CN LD41416\",\n",
            "      \"P8 C/O FOOD WASTE\",\n",
            "      \"SI SBSN33462\",\n",
            "      \"SO 2531846\"\n",
            "    ],\n",
            "    \"special_instructions\": \"Driver Load: N. Accessorials: For applicable accessorial charges, Carrier agrees to the below accessorial charges and MUST notify Ryan Transportation within 24- 48 business hours after delivery unless stated differently. ALL COVANTA LOCATIONS - - CARRIER MUST DELIVER ON- TIME. MUST GET EMPTY AND LOADED SCALE TICKET (INCLUDED IN RATE OF ALL LOADS, SO WILL NOT REIMBURSE). MUST USE TRUCKER TOOLS TRACKING, OTHERWISE ( 100(HOLD DENTENTION TIME WILL NOT BE PAID UNLESS DISPATCH IS NOTIFIED AT THE ONSET OF DENTENTION (After the first 1.5 hours).\"\n",
            "  },\n",
            "  \"delivery\": {\n",
            "    \"facility_name\": \"SEVIER SOLID WASTE INC - PRIMARYADDRESS\",\n",
            "    \"address\": \"1831 Ridge Road\",\n",
            "    \"city\": \"Pigeon Forge\",\n",
            "    \"state\": \"TN\",\n",
            "    \"zip\": \"37863\",\n",
            "    \"date\": \"09/02/2025\",\n",
            "    \"time_window\": \"0930\",\n",
            "    \"contact_information\": \"\",\n",
            "    \"reference_numbers\": [\n",
            "      \"P8 C/O FOOD WASTE\",\n",
            "      \"SI SBSN33462\",\n",
            "      \"SO 2531846\"\n",
            "    ],\n",
            "    \"special_instructions\": \"Driver Load: N.\"\n",
            "  },\n",
            "  \"driver_equipment\": {\n",
            "    \"driver_name\": \"Greg\",\n",
            "    \"driver_phone\": \"305- 491- 8642\",\n",
            "    \"tractor_number\": \"1010\",\n",
            "    \"trailer_number\": \"tbd\",\n",
            "    \"tractor_vin\": \"\"\n",
            "  },\n",
            "  \"operational_requirements\": {\n",
            "    \"tracking_requirements\": \"Trucker Tools tracking is required. Driver agrees to accept tracking before departing shipping location. Driver agrees for tracking to be active throughout transit until delivery is confirmed. In order to verify detention, driver must use the dwell feature inside the Trucker Tools phone applications or provide a signed BOL with clearly defined in and out time. MUST USE TRUCKER TOOLS TRACKING, OTHERWISE ( 100(HOLD.\",\n",
            "    \"communication_protocols\": \"CARRIER PLEASE HAVE YOUR DRIVER CALL RYAN TRANSPORTATION FOR ADDITIONAL SHIPMENT INFORMATION. For after- hours support between 5pm and 7am CST please contact our After Hours Team at 913- 310- 2241 or support- afterhours@ryantrans.com. Must notify nfountain@ryantrans.com or their rep 1 hour prior to the start of detention for reimbursement*. CARRIER IS TO NOTIFY THEIR REP OR NORTHSTAR@RYANTRANS.COM IN CASE THEY ARE TO MISS THE APPOINTMENT.\",\n",
            "    \"loading_responsibility\": \"Carrier has a duty to weigh shipment at first available scale. MUST GET EMPTY AND LOADED SCALE TICKET (INCLUDED IN RATE OF ALL LOADS, SO WILL NOT REIMBURSE). Driver Load: N.\",\n",
            "    \"unloading_responsibility\": \"Driver Load: N.\"\n",
            "  },\n",
            "  \"penalties_restrictions\": {\n",
            "    \"cancellation_fee\": \"150 per load. Load is canceled within 4 hours of the pick-up ETA or appointment time provided at the time of booking and or TruckerTools tracking has been accepted and started. The rate confirmation was issued more than 1 hour prior to the notice of cancellation for all loads booked on the same date as the planned ship date.\",\n",
            "    \"rescheduling_fee\": \"\",\n",
            "    \"late_delivery_penalty\": \"500 FINE FOR MISSED APPOINTMENT, NO EXCEPTIONS. CARRIER IS TO NOTIFY THEIR REP OR NORTHSTAR@RYANTRANS.COM IN CASE THEY ARE TO MISS THE APPOINTMENT.\",\n",
            "    \"weekend_holiday_restrictions\": \"\"\n",
            "  }\n",
            "}\n"
          ]
        }
      ]
    },
    {
      "cell_type": "code",
      "source": [],
      "metadata": {
        "id": "Enx7lZnG0EJS"
      },
      "execution_count": null,
      "outputs": []
    },
    {
      "cell_type": "markdown",
      "source": [
        "# Framework code"
      ],
      "metadata": {
        "id": "9qFSwURuAiKP"
      }
    },
    {
      "cell_type": "code",
      "source": [
        "import pandas as pd\n",
        "import os\n",
        "import re\n",
        "import ast\n",
        "import json\n",
        "import time\n",
        "from difflib import SequenceMatcher\n",
        "from datetime import datetime\n",
        "from PIL import Image\n",
        "import pdf2image\n",
        "from transformers import AutoModel, AutoTokenizer\n",
        "import torch\n",
        "import google.generativeai as genai\n",
        "from google.colab import userdata\n",
        "\n",
        "\n",
        "os.environ[\"CUDA_VISIBLE_DEVICES\"] = '0'\n",
        "\n",
        "model_name = \"deepseek-ocr\"\n",
        "output_folder = f\"output_{model_name}\"\n",
        "pred_folder = os.path.join(output_folder, \"pred\")\n",
        "os.makedirs(pred_folder, exist_ok=True)\n",
        "\n",
        "gt_df = pd.read_csv('/content/groundtruth_cleaned.csv')\n",
        "\n",
        "field_map = {\n",
        "    'load_details.broker_company_name': 'BrokerName',\n",
        "    'load_details.broker_mc_number': 'BrokerMcNumber',\n",
        "    'load_details.load_confirmation_number': 'BookedLoadId',\n",
        "    'load_details.bol_number': 'BolNumber',\n",
        "    'load_details.commodity': 'Commodity',\n",
        "    'load_details.weight': 'Weight',\n",
        "    'load_details.piece_count': 'PieceCount',\n",
        "    'load_details.equipment_type': 'EquipmentType',\n",
        "    'load_details.total_miles': 'TotalMiles',\n",
        "    'financial.base_rate': 'OriginalRate',\n",
        "    'financial.total_carrier_pay': 'TotalAmount',\n",
        "    'financial.accessorial_charges': 'AccessorialCharges',\n",
        "    'financial.detention_rate': 'DetentionRate',\n",
        "    'financial.detention_terms': 'DetentionTerms',\n",
        "    'financial.payment_terms': 'PaymentTerms',\n",
        "    'pickup.facility_name': 'OriginFacilityName',\n",
        "    'pickup.address': 'OriginAddress',\n",
        "    'pickup.city': 'OriginCity',\n",
        "    'pickup.state': 'OriginState',\n",
        "    'pickup.zip': 'OriginZip',\n",
        "    'pickup.date': 'PickupDate',\n",
        "    'pickup.time_window': 'PickupTimeWindow',\n",
        "    'pickup.reference_numbers': 'PickupReferenceNumber',\n",
        "    'delivery.facility_name': 'DestinationFacilityName',\n",
        "    'delivery.address': 'DestinationAddress',\n",
        "    'delivery.city': 'DestinationCity',\n",
        "    'delivery.state': 'DestinationState',\n",
        "    'delivery.zip': 'DestinationZip',\n",
        "    'delivery.date': 'DeliveryDate',\n",
        "    'delivery.time_window': 'DeliveryTimeWindow',\n",
        "    'delivery.reference_numbers': 'DeliveryReferenceNumber',\n",
        "    'driver_equipment.tractor_number': 'TractorNumber',\n",
        "    'driver_equipment.trailer_number': 'TrailerNumber',\n",
        "    'operational_requirements.tracking_requirements': 'TrackingRequirements',\n",
        "    'load_details.reference_numbers': 'ReferenceNumbers'\n",
        "}\n",
        "\n",
        "all_map = field_map\n",
        "core_map = {k: v for k, v in all_map.items() if v not in ['AccessorialCharges', 'DetentionRate', 'DetentionTerms', 'PaymentTerms', 'TrackingRequirements']}\n",
        "\n",
        "def normalize(value, field_name):\n",
        "    if pd.isna(value) or value == '' or value == 'nan':\n",
        "        return ''\n",
        "    value = str(value).strip().upper()\n",
        "    value = re.sub(r'\\s+', ' ', value)\n",
        "    value = value.replace(',', ' ').replace('-', ' ').replace('.', '')\n",
        "    value = re.sub(r'\\s+', ' ', value).strip()\n",
        "\n",
        "    if 'Name' in field_name or 'Facility' in field_name:\n",
        "        value = re.sub(r'\\b(INC|LLC|CORP|CO|COMPANY|LTD)\\b', '', value)\n",
        "    elif 'Address' in field_name:\n",
        "        replacements = {'STREET': 'ST', 'AVENUE': 'AVE', 'ROAD': 'RD', 'BOULEVARD': 'BLVD',\n",
        "                        'DRIVE': 'DR', 'LANE': 'LN', 'NORTH': 'N', 'SOUTH': 'S', 'EAST': 'E', 'WEST': 'W'}\n",
        "        for full, abbr in replacements.items():\n",
        "            value = value.replace(full, abbr)\n",
        "    elif 'State' in field_name:\n",
        "        value = value[:2]\n",
        "    elif 'Zip' in field_name:\n",
        "        value = re.sub(r'[^0-9]', '', value)[:5]\n",
        "    elif field_name in ['OriginalRate', 'TotalAmount', 'Weight']:\n",
        "        value = re.sub(r'[^0-9.]', '', value)\n",
        "    elif 'Date' in field_name:\n",
        "        try:\n",
        "            value = datetime.strptime(value, '%m/%d/%Y').strftime('%m/%d/%Y')\n",
        "        except:\n",
        "            try:\n",
        "                value = datetime.strptime(value, '%m/%d/%y').strftime('%m/%d/%Y')\n",
        "            except:\n",
        "                pass\n",
        "    elif 'McNumber' in field_name:\n",
        "        value = re.sub(r'[^0-9]', '', value)\n",
        "    elif 'Reference' in field_name or 'Numbers' in field_name:\n",
        "        if isinstance(value, str) and (value.startswith('[') or value.startswith('{')):\n",
        "            try:\n",
        "                refs = ast.literal_eval(value)\n",
        "                if isinstance(refs, dict): refs = list(refs.values())\n",
        "                refs = [normalize(r, '') for r in refs if r.strip()]\n",
        "                return sorted(set(refs))\n",
        "            except:\n",
        "                refs = re.split(r'[;,|]', value)\n",
        "                refs = [r.strip() for r in refs if r.strip()]\n",
        "                return sorted(set(refs))\n",
        "        return sorted(set([value]))\n",
        "\n",
        "    return value.strip()\n",
        "\n",
        "def json_to_flat(json_data):\n",
        "    flat = {}\n",
        "    for json_path, csv_col in all_map.items():\n",
        "        parts = json_path.split('.')\n",
        "        value = json_data\n",
        "        for part in parts:\n",
        "            if isinstance(value, dict) and part in value:\n",
        "                value = value[part]\n",
        "            else:\n",
        "                value = ''\n",
        "                break\n",
        "        if isinstance(value, list):\n",
        "            value = ';'.join(str(v) for v in value if v)\n",
        "        flat[csv_col] = str(value).strip() if value else ''\n",
        "    return flat\n",
        "\n",
        "def similarity(gt_val, pred_val):\n",
        "    gt_empty = not gt_val\n",
        "    pred_empty = not pred_val\n",
        "    if gt_empty or pred_empty:\n",
        "        return 0.0 if gt_empty != pred_empty else 1.0\n",
        "\n",
        "    if isinstance(gt_val, list) and isinstance(pred_val, list):\n",
        "        gt_set = set(gt_val)\n",
        "        pred_set = set(pred_val)\n",
        "        intersection = len(gt_set & pred_set)\n",
        "        union = len(gt_set | pred_set)\n",
        "        return intersection / union if union else 1.0\n",
        "    else:\n",
        "        return SequenceMatcher(None, str(gt_val), str(pred_val)).ratio()\n",
        "\n",
        "def compare_fields(gt_row, pred_row):\n",
        "    gt_flat = gt_row\n",
        "    pred_flat = json_to_flat(pred_row)\n",
        "\n",
        "    exactly_matched = 0\n",
        "    exact_total = len(core_map)\n",
        "    halluc_all = 0\n",
        "    missed_all = 0\n",
        "    sim_scores = []\n",
        "\n",
        "    for csv_col in all_map.values():\n",
        "        gt_val = normalize(gt_flat.get(csv_col, ''), csv_col)\n",
        "        pred_val = normalize(pred_flat.get(csv_col, ''), csv_col)\n",
        "\n",
        "        gt_empty = not gt_val\n",
        "        pred_empty = not pred_val\n",
        "\n",
        "        if gt_empty and not pred_empty:\n",
        "            halluc_all += 1\n",
        "        if not gt_empty and pred_empty:\n",
        "            missed_all += 1\n",
        "\n",
        "        sim_scores.append(similarity(gt_val, pred_val))\n",
        "\n",
        "        if csv_col in [v for v in core_map.values()] and not gt_empty and not pred_empty and gt_val == pred_val:\n",
        "            exactly_matched += 1\n",
        "\n",
        "    acc = (exactly_matched / exact_total) * 100 if exact_total else 0\n",
        "    avg_sim = sum(sim_scores) / len(sim_scores) * 100 if sim_scores else 0\n",
        "\n",
        "    return {\n",
        "        'exactly_matched': exactly_matched,\n",
        "        'hallucinated_all': halluc_all,\n",
        "        'missed_all': missed_all,\n",
        "        'avg_similarity_all': avg_sim,\n",
        "        'accuracy': acc,\n",
        "        'total_fields_all': len(all_map)\n",
        "    }\n",
        "\n",
        "tokenizer = AutoTokenizer.from_pretrained('deepseek-ai/DeepSeek-OCR', trust_remote_code=True)\n",
        "deepseek_model = AutoModel.from_pretrained('deepseek-ai/DeepSeek-OCR', _attn_implementation='flash_attention_2', trust_remote_code=True, use_safetensors=True)\n",
        "deepseek_model = deepseek_model.eval().cuda().to(torch.bfloat16)\n",
        "\n",
        "genai.configure(api_key=userdata.get('GOOGLE_API_KEY'))\n",
        "gemini_model = genai.GenerativeModel('gemini-2.5-flash')\n",
        "\n",
        "gemini_prompt = \"\"\"You are an expert load confirmation analyst with over 10 years of experience as a dispatcher and broker in the trucking industry.\n",
        "\n",
        "Extract and structure the following load confirmation data into the exact JSON format below. Use the markdown content provided.\n",
        "\n",
        "Rules:\n",
        "- Extract only information present in the document\n",
        "- Use empty strings, arrays, or objects for missing fields\n",
        "- Do not invent or hallucinate any values\n",
        "- Understand synonyms (freight pay = carrier pay, consignor = pickup, consignee = delivery, BOL = bill of lading, PO = order number)\n",
        "- Output ONLY valid JSON, no additional text\n",
        "\n",
        "{\n",
        "  \"load_details\": {\n",
        "    \"broker_company_name\": \"\",\n",
        "    \"broker_mc_number\": \"\",\n",
        "    \"load_confirmation_number\": \"\",\n",
        "    \"order_number\": \"\",\n",
        "    \"bol_number\": \"\",\n",
        "    \"reference_numbers\": [],\n",
        "    \"commodity\": \"\",\n",
        "    \"weight\": \"\",\n",
        "    \"piece_count\": \"\",\n",
        "    \"temperature_requirements\": \"\",\n",
        "    \"equipment_type\": \"\",\n",
        "    \"total_miles\": \"\"\n",
        "  },\n",
        "  \"financial\": {\n",
        "    \"base_rate\": \"\",\n",
        "    \"total_carrier_pay\": \"\",\n",
        "    \"accessorial_charges\": {},\n",
        "    \"detention_rate\": \"\",\n",
        "    \"detention_terms\": \"\",\n",
        "    \"payment_terms\": \"\"\n",
        "  },\n",
        "  \"pickup\": {\n",
        "    \"facility_name\": \"\",\n",
        "    \"address\": \"\",\n",
        "    \"city\": \"\",\n",
        "    \"state\": \"\",\n",
        "    \"zip\": \"\",\n",
        "    \"date\": \"\",\n",
        "    \"time_window\": \"\",\n",
        "    \"contact_information\": \"\",\n",
        "    \"reference_numbers\": [],\n",
        "    \"special_instructions\": \"\"\n",
        "  },\n",
        "  \"delivery\": {\n",
        "    \"facility_name\": \"\",\n",
        "    \"address\": \"\",\n",
        "    \"city\": \"\",\n",
        "    \"state\": \"\",\n",
        "    \"zip\": \"\",\n",
        "    \"date\": \"\",\n",
        "    \"time_window\": \"\",\n",
        "    \"contact_information\": \"\",\n",
        "    \"reference_numbers\": [],\n",
        "    \"special_instructions\": \"\"\n",
        "  },\n",
        "  \"driver_equipment\": {\n",
        "    \"driver_name\": \"\",\n",
        "    \"driver_phone\": \"\",\n",
        "    \"tractor_number\": \"\",\n",
        "    \"trailer_number\": \"\",\n",
        "    \"tractor_vin\": \"\"\n",
        "  },\n",
        "  \"operational_requirements\": {\n",
        "    \"tracking_requirements\": \"\",\n",
        "    \"communication_protocols\": \"\",\n",
        "    \"loading_responsibility\": \"\",\n",
        "    \"unloading_responsibility\": \"\"\n",
        "  },\n",
        "  \"penalties_restrictions\": {\n",
        "    \"cancellation_fee\": \"\",\n",
        "    \"rescheduling_fee\": \"\",\n",
        "    \"late_delivery_penalty\": \"\",\n",
        "    \"weekend_holiday_restrictions\": \"\"\n",
        "  }\n",
        "}\n",
        "\n",
        "Markdown content:\n",
        "\"\"\"\n",
        "\n",
        "def process_with_gemini(markdown_text):\n",
        "    full_prompt = gemini_prompt + \"\\n\\n\" + markdown_text\n",
        "    response = gemini_model.generate_content(full_prompt)\n",
        "    json_text = response.text.strip().replace('```json\\n', '').replace('\\n```', '').replace('```', '')\n",
        "    return json.loads(json_text)\n",
        "\n",
        "metrics_list = []\n",
        "compare_rows = []\n",
        "\n",
        "pdf_folder = '/content/BrokerConfirmationPdf'\n",
        "all_pdf_files = sorted([f for f in os.listdir(pdf_folder) if f.endswith('.pdf')])\n",
        "\n",
        "target_numbers = [35 + (i * 3) for i in range(41)]\n",
        "target_set = set(target_numbers)\n",
        "\n",
        "pdf_files = [f for f in all_pdf_files if int(f.replace('.pdf', '')) in target_set]\n",
        "pdf_files = sorted(pdf_files, key=lambda x: int(x.replace('.pdf', '')))\n",
        "\n",
        "ocr_prompt = \"<image>\\n<|grounding|>Convert the document to markdown. \"\n",
        "output_path = '/content/'\n",
        "\n",
        "for idx, pdf_file in enumerate(pdf_files, 1):\n",
        "    print(f\"[{idx}/{len(pdf_files)}] Processing {pdf_file}...\")\n",
        "\n",
        "    pdf_path = os.path.join(pdf_folder, pdf_file)\n",
        "    extracted_data = None\n",
        "\n",
        "    try:\n",
        "        images = pdf2image.convert_from_path(pdf_path, dpi=200)\n",
        "\n",
        "        temp_image_files = []\n",
        "        for page_idx, image in enumerate(images):\n",
        "            temp_path = f\"/content/temp_page_{page_idx}.png\"\n",
        "            image.save(temp_path)\n",
        "            temp_image_files.append(temp_path)\n",
        "\n",
        "        res = \"\"\n",
        "        for image_file in temp_image_files:\n",
        "            page_res = deepseek_model.infer(tokenizer, prompt=ocr_prompt, image_file=image_file, output_path=output_path, base_size=1024, image_size=640, crop_mode=True, save_results=False, eval_mode=True, test_compress=True)\n",
        "            res += page_res\n",
        "\n",
        "        for temp_file in temp_image_files:\n",
        "            os.remove(temp_file)\n",
        "\n",
        "        extracted_data = process_with_gemini(res)\n",
        "\n",
        "        print(f\"  ✓ Successfully extracted data\")\n",
        "\n",
        "    except KeyboardInterrupt:\n",
        "        print(\"\\n\\nProcessing interrupted by user. Saving results so far...\")\n",
        "        break\n",
        "\n",
        "    except Exception as e:\n",
        "        print(f\"  ✗ Error: {str(e)[:100]}\")\n",
        "        extracted_data = {\n",
        "            \"load_details\": {\"broker_company_name\": \"\", \"broker_mc_number\": \"\", \"load_confirmation_number\": \"\", \"order_number\": \"\", \"bol_number\": \"\", \"reference_numbers\": [], \"commodity\": \"\", \"weight\": \"\", \"piece_count\": \"\", \"temperature_requirements\": \"\", \"equipment_type\": \"\", \"total_miles\": \"\"},\n",
        "            \"financial\": {\"base_rate\": \"\", \"total_carrier_pay\": \"\", \"accessorial_charges\": {}, \"detention_rate\": \"\", \"detention_terms\": \"\", \"payment_terms\": \"\"},\n",
        "            \"pickup\": {\"facility_name\": \"\", \"address\": \"\", \"city\": \"\", \"state\": \"\", \"zip\": \"\", \"date\": \"\", \"time_window\": \"\", \"contact_information\": \"\", \"reference_numbers\": [], \"special_instructions\": \"\"},\n",
        "            \"delivery\": {\"facility_name\": \"\", \"address\": \"\", \"city\": \"\", \"state\": \"\", \"zip\": \"\", \"date\": \"\", \"time_window\": \"\", \"contact_information\": \"\", \"reference_numbers\": [], \"special_instructions\": \"\"},\n",
        "            \"driver_equipment\": {\"driver_name\": \"\", \"driver_phone\": \"\", \"tractor_number\": \"\", \"trailer_number\": \"\", \"tractor_vin\": \"\"},\n",
        "            \"operational_requirements\": {\"tracking_requirements\": \"\", \"communication_protocols\": \"\", \"loading_responsibility\": \"\", \"unloading_responsibility\": \"\"},\n",
        "            \"penalties_restrictions\": {\"cancellation_fee\": \"\", \"rescheduling_fee\": \"\", \"late_delivery_penalty\": \"\", \"weekend_holiday_restrictions\": \"\"}\n",
        "        }\n",
        "\n",
        "    if extracted_data:\n",
        "        json_path = os.path.join(pred_folder, f\"{pdf_file.replace('.pdf', '_output.json')}\")\n",
        "        with open(json_path, 'w') as f:\n",
        "            json.dump(extracted_data, f, indent=2)\n",
        "\n",
        "        gt_row = gt_df[gt_df['BrokerConfirmationPdf'] == pdf_file].iloc[0].to_dict() if not gt_df[gt_df['BrokerConfirmationPdf'] == pdf_file].empty else {}\n",
        "\n",
        "        metrics = compare_fields(gt_row, extracted_data)\n",
        "        metrics['pdf_name'] = pdf_file\n",
        "        metrics_list.append(metrics)\n",
        "\n",
        "        gt_compare = {'pdf_name': pdf_file, 'type': 'ground_truth'}\n",
        "        for csv_col in all_map.values():\n",
        "            gt_compare[csv_col] = gt_row.get(csv_col, '')\n",
        "        compare_rows.append(gt_compare)\n",
        "\n",
        "        pred_compare = {'pdf_name': pdf_file, 'type': 'prediction'}\n",
        "        pred_compare.update(json_to_flat(extracted_data))\n",
        "        compare_rows.append(pred_compare)\n",
        "\n",
        "if metrics_list:\n",
        "    avg_metrics = {\n",
        "        'pdf_name': 'AVERAGE',\n",
        "        'exactly_matched': sum(m['exactly_matched'] for m in metrics_list) / len(metrics_list),\n",
        "        'hallucinated_all': sum(m['hallucinated_all'] for m in metrics_list) / len(metrics_list),\n",
        "        'missed_all': sum(m['missed_all'] for m in metrics_list) / len(metrics_list),\n",
        "        'avg_similarity_all': sum(m['avg_similarity_all'] for m in metrics_list) / len(metrics_list),\n",
        "        'accuracy': sum(m['accuracy'] for m in metrics_list) / len(metrics_list),\n",
        "        'total_fields_all': metrics_list[0]['total_fields_all'] if metrics_list else 0\n",
        "    }\n",
        "    metrics_list.append(avg_metrics)\n",
        "\n",
        "    metrics_df = pd.DataFrame(metrics_list)\n",
        "    metrics_df.to_csv(os.path.join(output_folder, 'metrics.csv'), index=False)\n",
        "\n",
        "    compare_df = pd.DataFrame(compare_rows)\n",
        "    compare_df.to_csv(os.path.join(output_folder, 'comparison.csv'), index=False)\n",
        "\n",
        "    print(f\"\\n✓ Done! Processed {len(metrics_list)-1} PDFs successfully.\")\n",
        "    print(f\"  Results saved to: {output_folder}\")\n",
        "else:\n",
        "    print(\"\\n✗ No PDFs were processed successfully. Check errors above.\")"
      ],
      "metadata": {
        "colab": {
          "base_uri": "https://localhost:8080/",
          "height": 1000
        },
        "id": "sliB04j2AlN9",
        "outputId": "86036da1-9429-477b-b0fc-5b28d745e67e"
      },
      "execution_count": null,
      "outputs": [
        {
          "output_type": "stream",
          "name": "stderr",
          "text": [
            "You are using a model of type deepseek_vl_v2 to instantiate a model of type DeepseekOCR. This is not supported for all configurations of models and can yield errors.\n",
            "Some weights of DeepseekOCRForCausalLM were not initialized from the model checkpoint at deepseek-ai/DeepSeek-OCR and are newly initialized: ['model.vision_model.embeddings.position_ids']\n",
            "You should probably TRAIN this model on a down-stream task to be able to use it for predictions and inference.\n"
          ]
        },
        {
          "output_type": "stream",
          "name": "stdout",
          "text": [
            "[1/41] Processing 35.pdf...\n"
          ]
        },
        {
          "output_type": "stream",
          "name": "stderr",
          "text": [
            "/usr/local/lib/python3.12/dist-packages/transformers/generation/configuration_utils.py:590: UserWarning: `do_sample` is set to `False`. However, `temperature` is set to `0.0` -- this flag is only used in sample-based generation modes. You should set `do_sample=True` or unset `temperature`.\n",
            "  warnings.warn(\n",
            "The attention mask and the pad token id were not set. As a consequence, you may observe unexpected behavior. Please pass your input's `attention_mask` to obtain reliable results.\n",
            "Setting `pad_token_id` to `eos_token_id`:None for open-end generation.\n",
            "The attention mask is not set and cannot be inferred from input because pad token is same as eos token. As a consequence, you may observe unexpected behavior. Please pass your input's `attention_mask` to obtain reliable results.\n",
            "The `seen_tokens` attribute is deprecated and will be removed in v4.41. Use the `cache_position` model input instead.\n",
            "`get_max_cache()` is deprecated for all Cache classes. Use `get_max_cache_shape()` instead. Calling `get_max_cache()` will raise error from v4.48\n",
            "The attention layers in this model are transitioning from computing the RoPE embeddings internally through `position_ids` (2D tensor with the indexes of the tokens), to using externally computed `position_embeddings` (Tuple of tensors, containing cos and sin). In v4.46 `position_ids` will be removed and `position_embeddings` will be mandatory.\n"
          ]
        },
        {
          "output_type": "stream",
          "name": "stdout",
          "text": [
            "=====================\n",
            "BASE:  torch.Size([1, 256, 1280])\n",
            "PATCHES:  torch.Size([6, 100, 1280])\n",
            "=====================\n",
            "  ✓ Successfully extracted data\n",
            "[2/41] Processing 38.pdf...\n"
          ]
        },
        {
          "output_type": "stream",
          "name": "stderr",
          "text": [
            "/usr/local/lib/python3.12/dist-packages/transformers/generation/configuration_utils.py:590: UserWarning: `do_sample` is set to `False`. However, `temperature` is set to `0.0` -- this flag is only used in sample-based generation modes. You should set `do_sample=True` or unset `temperature`.\n",
            "  warnings.warn(\n",
            "The attention mask and the pad token id were not set. As a consequence, you may observe unexpected behavior. Please pass your input's `attention_mask` to obtain reliable results.\n",
            "Setting `pad_token_id` to `eos_token_id`:None for open-end generation.\n"
          ]
        },
        {
          "output_type": "stream",
          "name": "stdout",
          "text": [
            "=====================\n",
            "BASE:  torch.Size([1, 256, 1280])\n",
            "PATCHES:  torch.Size([6, 100, 1280])\n",
            "=====================\n"
          ]
        },
        {
          "output_type": "stream",
          "name": "stderr",
          "text": [
            "The attention mask and the pad token id were not set. As a consequence, you may observe unexpected behavior. Please pass your input's `attention_mask` to obtain reliable results.\n",
            "Setting `pad_token_id` to `eos_token_id`:None for open-end generation.\n"
          ]
        },
        {
          "output_type": "stream",
          "name": "stdout",
          "text": [
            "=====================\n",
            "BASE:  torch.Size([1, 256, 1280])\n",
            "PATCHES:  torch.Size([6, 100, 1280])\n",
            "=====================\n"
          ]
        },
        {
          "output_type": "stream",
          "name": "stderr",
          "text": [
            "The attention mask and the pad token id were not set. As a consequence, you may observe unexpected behavior. Please pass your input's `attention_mask` to obtain reliable results.\n",
            "Setting `pad_token_id` to `eos_token_id`:None for open-end generation.\n"
          ]
        },
        {
          "output_type": "stream",
          "name": "stdout",
          "text": [
            "=====================\n",
            "BASE:  torch.Size([1, 256, 1280])\n",
            "PATCHES:  torch.Size([6, 100, 1280])\n",
            "=====================\n"
          ]
        },
        {
          "output_type": "stream",
          "name": "stderr",
          "text": [
            "The attention mask and the pad token id were not set. As a consequence, you may observe unexpected behavior. Please pass your input's `attention_mask` to obtain reliable results.\n",
            "Setting `pad_token_id` to `eos_token_id`:None for open-end generation.\n"
          ]
        },
        {
          "output_type": "stream",
          "name": "stdout",
          "text": [
            "=====================\n",
            "BASE:  torch.Size([1, 256, 1280])\n",
            "PATCHES:  torch.Size([6, 100, 1280])\n",
            "=====================\n",
            "  ✓ Successfully extracted data\n",
            "[3/41] Processing 41.pdf...\n"
          ]
        },
        {
          "output_type": "stream",
          "name": "stderr",
          "text": [
            "/usr/local/lib/python3.12/dist-packages/transformers/generation/configuration_utils.py:590: UserWarning: `do_sample` is set to `False`. However, `temperature` is set to `0.0` -- this flag is only used in sample-based generation modes. You should set `do_sample=True` or unset `temperature`.\n",
            "  warnings.warn(\n",
            "The attention mask and the pad token id were not set. As a consequence, you may observe unexpected behavior. Please pass your input's `attention_mask` to obtain reliable results.\n",
            "Setting `pad_token_id` to `eos_token_id`:None for open-end generation.\n"
          ]
        },
        {
          "output_type": "stream",
          "name": "stdout",
          "text": [
            "=====================\n",
            "BASE:  torch.Size([1, 256, 1280])\n",
            "PATCHES:  torch.Size([6, 100, 1280])\n",
            "=====================\n"
          ]
        },
        {
          "output_type": "stream",
          "name": "stderr",
          "text": [
            "The attention mask and the pad token id were not set. As a consequence, you may observe unexpected behavior. Please pass your input's `attention_mask` to obtain reliable results.\n",
            "Setting `pad_token_id` to `eos_token_id`:None for open-end generation.\n"
          ]
        },
        {
          "output_type": "stream",
          "name": "stdout",
          "text": [
            "=====================\n",
            "BASE:  torch.Size([1, 256, 1280])\n",
            "PATCHES:  torch.Size([6, 100, 1280])\n",
            "=====================\n"
          ]
        },
        {
          "output_type": "stream",
          "name": "stderr",
          "text": [
            "The attention mask and the pad token id were not set. As a consequence, you may observe unexpected behavior. Please pass your input's `attention_mask` to obtain reliable results.\n",
            "Setting `pad_token_id` to `eos_token_id`:None for open-end generation.\n"
          ]
        },
        {
          "output_type": "stream",
          "name": "stdout",
          "text": [
            "=====================\n",
            "BASE:  torch.Size([1, 256, 1280])\n",
            "PATCHES:  torch.Size([6, 100, 1280])\n",
            "=====================\n"
          ]
        },
        {
          "output_type": "stream",
          "name": "stderr",
          "text": [
            "The attention mask and the pad token id were not set. As a consequence, you may observe unexpected behavior. Please pass your input's `attention_mask` to obtain reliable results.\n",
            "Setting `pad_token_id` to `eos_token_id`:None for open-end generation.\n"
          ]
        },
        {
          "output_type": "stream",
          "name": "stdout",
          "text": [
            "=====================\n",
            "BASE:  torch.Size([1, 256, 1280])\n",
            "PATCHES:  torch.Size([6, 100, 1280])\n",
            "=====================\n",
            "  ✓ Successfully extracted data\n",
            "[4/41] Processing 44.pdf...\n"
          ]
        },
        {
          "output_type": "stream",
          "name": "stderr",
          "text": [
            "/usr/local/lib/python3.12/dist-packages/transformers/generation/configuration_utils.py:590: UserWarning: `do_sample` is set to `False`. However, `temperature` is set to `0.0` -- this flag is only used in sample-based generation modes. You should set `do_sample=True` or unset `temperature`.\n",
            "  warnings.warn(\n",
            "The attention mask and the pad token id were not set. As a consequence, you may observe unexpected behavior. Please pass your input's `attention_mask` to obtain reliable results.\n",
            "Setting `pad_token_id` to `eos_token_id`:None for open-end generation.\n"
          ]
        },
        {
          "output_type": "stream",
          "name": "stdout",
          "text": [
            "=====================\n",
            "BASE:  torch.Size([1, 256, 1280])\n",
            "PATCHES:  torch.Size([6, 100, 1280])\n",
            "=====================\n"
          ]
        },
        {
          "output_type": "stream",
          "name": "stderr",
          "text": [
            "The attention mask and the pad token id were not set. As a consequence, you may observe unexpected behavior. Please pass your input's `attention_mask` to obtain reliable results.\n",
            "Setting `pad_token_id` to `eos_token_id`:None for open-end generation.\n"
          ]
        },
        {
          "output_type": "stream",
          "name": "stdout",
          "text": [
            "=====================\n",
            "BASE:  torch.Size([1, 256, 1280])\n",
            "PATCHES:  torch.Size([6, 100, 1280])\n",
            "=====================\n"
          ]
        },
        {
          "output_type": "stream",
          "name": "stderr",
          "text": [
            "The attention mask and the pad token id were not set. As a consequence, you may observe unexpected behavior. Please pass your input's `attention_mask` to obtain reliable results.\n",
            "Setting `pad_token_id` to `eos_token_id`:None for open-end generation.\n"
          ]
        },
        {
          "output_type": "stream",
          "name": "stdout",
          "text": [
            "=====================\n",
            "BASE:  torch.Size([1, 256, 1280])\n",
            "PATCHES:  torch.Size([6, 100, 1280])\n",
            "=====================\n"
          ]
        },
        {
          "output_type": "stream",
          "name": "stderr",
          "text": [
            "The attention mask and the pad token id were not set. As a consequence, you may observe unexpected behavior. Please pass your input's `attention_mask` to obtain reliable results.\n",
            "Setting `pad_token_id` to `eos_token_id`:None for open-end generation.\n"
          ]
        },
        {
          "output_type": "stream",
          "name": "stdout",
          "text": [
            "=====================\n",
            "BASE:  torch.Size([1, 256, 1280])\n",
            "PATCHES:  torch.Size([6, 100, 1280])\n",
            "=====================\n",
            "  ✓ Successfully extracted data\n",
            "[5/41] Processing 47.pdf...\n"
          ]
        },
        {
          "output_type": "stream",
          "name": "stderr",
          "text": [
            "/usr/local/lib/python3.12/dist-packages/transformers/generation/configuration_utils.py:590: UserWarning: `do_sample` is set to `False`. However, `temperature` is set to `0.0` -- this flag is only used in sample-based generation modes. You should set `do_sample=True` or unset `temperature`.\n",
            "  warnings.warn(\n",
            "The attention mask and the pad token id were not set. As a consequence, you may observe unexpected behavior. Please pass your input's `attention_mask` to obtain reliable results.\n",
            "Setting `pad_token_id` to `eos_token_id`:None for open-end generation.\n"
          ]
        },
        {
          "output_type": "stream",
          "name": "stdout",
          "text": [
            "=====================\n",
            "BASE:  torch.Size([1, 256, 1280])\n",
            "PATCHES:  torch.Size([6, 100, 1280])\n",
            "=====================\n"
          ]
        },
        {
          "output_type": "stream",
          "name": "stderr",
          "text": [
            "The attention mask and the pad token id were not set. As a consequence, you may observe unexpected behavior. Please pass your input's `attention_mask` to obtain reliable results.\n",
            "Setting `pad_token_id` to `eos_token_id`:None for open-end generation.\n"
          ]
        },
        {
          "output_type": "stream",
          "name": "stdout",
          "text": [
            "=====================\n",
            "BASE:  torch.Size([1, 256, 1280])\n",
            "PATCHES:  torch.Size([6, 100, 1280])\n",
            "=====================\n",
            "  ✓ Successfully extracted data\n",
            "[6/41] Processing 50.pdf...\n"
          ]
        },
        {
          "output_type": "stream",
          "name": "stderr",
          "text": [
            "/usr/local/lib/python3.12/dist-packages/transformers/generation/configuration_utils.py:590: UserWarning: `do_sample` is set to `False`. However, `temperature` is set to `0.0` -- this flag is only used in sample-based generation modes. You should set `do_sample=True` or unset `temperature`.\n",
            "  warnings.warn(\n",
            "The attention mask and the pad token id were not set. As a consequence, you may observe unexpected behavior. Please pass your input's `attention_mask` to obtain reliable results.\n",
            "Setting `pad_token_id` to `eos_token_id`:None for open-end generation.\n"
          ]
        },
        {
          "output_type": "stream",
          "name": "stdout",
          "text": [
            "=====================\n",
            "BASE:  torch.Size([1, 256, 1280])\n",
            "PATCHES:  torch.Size([6, 100, 1280])\n",
            "=====================\n"
          ]
        },
        {
          "output_type": "stream",
          "name": "stderr",
          "text": [
            "The attention mask and the pad token id were not set. As a consequence, you may observe unexpected behavior. Please pass your input's `attention_mask` to obtain reliable results.\n",
            "Setting `pad_token_id` to `eos_token_id`:None for open-end generation.\n"
          ]
        },
        {
          "output_type": "stream",
          "name": "stdout",
          "text": [
            "=====================\n",
            "BASE:  torch.Size([1, 256, 1280])\n",
            "PATCHES:  torch.Size([6, 100, 1280])\n",
            "=====================\n",
            "  ✓ Successfully extracted data\n",
            "[7/41] Processing 53.pdf...\n"
          ]
        },
        {
          "output_type": "stream",
          "name": "stderr",
          "text": [
            "/usr/local/lib/python3.12/dist-packages/transformers/generation/configuration_utils.py:590: UserWarning: `do_sample` is set to `False`. However, `temperature` is set to `0.0` -- this flag is only used in sample-based generation modes. You should set `do_sample=True` or unset `temperature`.\n",
            "  warnings.warn(\n",
            "The attention mask and the pad token id were not set. As a consequence, you may observe unexpected behavior. Please pass your input's `attention_mask` to obtain reliable results.\n",
            "Setting `pad_token_id` to `eos_token_id`:None for open-end generation.\n"
          ]
        },
        {
          "output_type": "stream",
          "name": "stdout",
          "text": [
            "=====================\n",
            "BASE:  torch.Size([1, 256, 1280])\n",
            "PATCHES:  torch.Size([6, 100, 1280])\n",
            "=====================\n"
          ]
        },
        {
          "output_type": "stream",
          "name": "stderr",
          "text": [
            "The attention mask and the pad token id were not set. As a consequence, you may observe unexpected behavior. Please pass your input's `attention_mask` to obtain reliable results.\n",
            "Setting `pad_token_id` to `eos_token_id`:None for open-end generation.\n"
          ]
        },
        {
          "output_type": "stream",
          "name": "stdout",
          "text": [
            "=====================\n",
            "BASE:  torch.Size([1, 256, 1280])\n",
            "PATCHES:  torch.Size([6, 100, 1280])\n",
            "=====================\n"
          ]
        },
        {
          "output_type": "stream",
          "name": "stderr",
          "text": [
            "The attention mask and the pad token id were not set. As a consequence, you may observe unexpected behavior. Please pass your input's `attention_mask` to obtain reliable results.\n",
            "Setting `pad_token_id` to `eos_token_id`:None for open-end generation.\n"
          ]
        },
        {
          "output_type": "stream",
          "name": "stdout",
          "text": [
            "=====================\n",
            "BASE:  torch.Size([1, 256, 1280])\n",
            "PATCHES:  torch.Size([6, 100, 1280])\n",
            "=====================\n"
          ]
        },
        {
          "output_type": "stream",
          "name": "stderr",
          "text": [
            "The attention mask and the pad token id were not set. As a consequence, you may observe unexpected behavior. Please pass your input's `attention_mask` to obtain reliable results.\n",
            "Setting `pad_token_id` to `eos_token_id`:None for open-end generation.\n"
          ]
        },
        {
          "output_type": "stream",
          "name": "stdout",
          "text": [
            "=====================\n",
            "BASE:  torch.Size([1, 256, 1280])\n",
            "PATCHES:  torch.Size([6, 100, 1280])\n",
            "=====================\n",
            "  ✓ Successfully extracted data\n",
            "[8/41] Processing 56.pdf...\n"
          ]
        },
        {
          "output_type": "stream",
          "name": "stderr",
          "text": [
            "/usr/local/lib/python3.12/dist-packages/transformers/generation/configuration_utils.py:590: UserWarning: `do_sample` is set to `False`. However, `temperature` is set to `0.0` -- this flag is only used in sample-based generation modes. You should set `do_sample=True` or unset `temperature`.\n",
            "  warnings.warn(\n",
            "The attention mask and the pad token id were not set. As a consequence, you may observe unexpected behavior. Please pass your input's `attention_mask` to obtain reliable results.\n",
            "Setting `pad_token_id` to `eos_token_id`:None for open-end generation.\n"
          ]
        },
        {
          "output_type": "stream",
          "name": "stdout",
          "text": [
            "=====================\n",
            "BASE:  torch.Size([1, 256, 1280])\n",
            "PATCHES:  torch.Size([6, 100, 1280])\n",
            "=====================\n"
          ]
        },
        {
          "output_type": "stream",
          "name": "stderr",
          "text": [
            "The attention mask and the pad token id were not set. As a consequence, you may observe unexpected behavior. Please pass your input's `attention_mask` to obtain reliable results.\n",
            "Setting `pad_token_id` to `eos_token_id`:None for open-end generation.\n"
          ]
        },
        {
          "output_type": "stream",
          "name": "stdout",
          "text": [
            "=====================\n",
            "BASE:  torch.Size([1, 256, 1280])\n",
            "PATCHES:  torch.Size([6, 100, 1280])\n",
            "=====================\n",
            "  ✓ Successfully extracted data\n",
            "[9/41] Processing 59.pdf...\n"
          ]
        },
        {
          "output_type": "stream",
          "name": "stderr",
          "text": [
            "/usr/local/lib/python3.12/dist-packages/transformers/generation/configuration_utils.py:590: UserWarning: `do_sample` is set to `False`. However, `temperature` is set to `0.0` -- this flag is only used in sample-based generation modes. You should set `do_sample=True` or unset `temperature`.\n",
            "  warnings.warn(\n",
            "The attention mask and the pad token id were not set. As a consequence, you may observe unexpected behavior. Please pass your input's `attention_mask` to obtain reliable results.\n",
            "Setting `pad_token_id` to `eos_token_id`:None for open-end generation.\n"
          ]
        },
        {
          "output_type": "stream",
          "name": "stdout",
          "text": [
            "=====================\n",
            "BASE:  torch.Size([1, 256, 1280])\n",
            "PATCHES:  torch.Size([6, 100, 1280])\n",
            "=====================\n",
            "  ✓ Successfully extracted data\n",
            "[10/41] Processing 62.pdf...\n"
          ]
        },
        {
          "output_type": "stream",
          "name": "stderr",
          "text": [
            "/usr/local/lib/python3.12/dist-packages/transformers/generation/configuration_utils.py:590: UserWarning: `do_sample` is set to `False`. However, `temperature` is set to `0.0` -- this flag is only used in sample-based generation modes. You should set `do_sample=True` or unset `temperature`.\n",
            "  warnings.warn(\n",
            "The attention mask and the pad token id were not set. As a consequence, you may observe unexpected behavior. Please pass your input's `attention_mask` to obtain reliable results.\n",
            "Setting `pad_token_id` to `eos_token_id`:None for open-end generation.\n"
          ]
        },
        {
          "output_type": "stream",
          "name": "stdout",
          "text": [
            "=====================\n",
            "BASE:  torch.Size([1, 256, 1280])\n",
            "PATCHES:  torch.Size([6, 100, 1280])\n",
            "=====================\n"
          ]
        },
        {
          "output_type": "stream",
          "name": "stderr",
          "text": [
            "The attention mask and the pad token id were not set. As a consequence, you may observe unexpected behavior. Please pass your input's `attention_mask` to obtain reliable results.\n",
            "Setting `pad_token_id` to `eos_token_id`:None for open-end generation.\n"
          ]
        },
        {
          "output_type": "stream",
          "name": "stdout",
          "text": [
            "=====================\n",
            "BASE:  torch.Size([1, 256, 1280])\n",
            "PATCHES:  torch.Size([6, 100, 1280])\n",
            "=====================\n",
            "  ✓ Successfully extracted data\n",
            "[11/41] Processing 65.pdf...\n"
          ]
        },
        {
          "output_type": "stream",
          "name": "stderr",
          "text": [
            "/usr/local/lib/python3.12/dist-packages/transformers/generation/configuration_utils.py:590: UserWarning: `do_sample` is set to `False`. However, `temperature` is set to `0.0` -- this flag is only used in sample-based generation modes. You should set `do_sample=True` or unset `temperature`.\n",
            "  warnings.warn(\n",
            "The attention mask and the pad token id were not set. As a consequence, you may observe unexpected behavior. Please pass your input's `attention_mask` to obtain reliable results.\n",
            "Setting `pad_token_id` to `eos_token_id`:None for open-end generation.\n"
          ]
        },
        {
          "output_type": "stream",
          "name": "stdout",
          "text": [
            "=====================\n",
            "BASE:  torch.Size([1, 256, 1280])\n",
            "PATCHES:  torch.Size([6, 100, 1280])\n",
            "=====================\n"
          ]
        },
        {
          "output_type": "stream",
          "name": "stderr",
          "text": [
            "The attention mask and the pad token id were not set. As a consequence, you may observe unexpected behavior. Please pass your input's `attention_mask` to obtain reliable results.\n",
            "Setting `pad_token_id` to `eos_token_id`:None for open-end generation.\n"
          ]
        },
        {
          "output_type": "stream",
          "name": "stdout",
          "text": [
            "=====================\n",
            "BASE:  torch.Size([1, 256, 1280])\n",
            "PATCHES:  torch.Size([6, 100, 1280])\n",
            "=====================\n"
          ]
        },
        {
          "output_type": "stream",
          "name": "stderr",
          "text": [
            "The attention mask and the pad token id were not set. As a consequence, you may observe unexpected behavior. Please pass your input's `attention_mask` to obtain reliable results.\n",
            "Setting `pad_token_id` to `eos_token_id`:None for open-end generation.\n"
          ]
        },
        {
          "output_type": "stream",
          "name": "stdout",
          "text": [
            "=====================\n",
            "BASE:  torch.Size([1, 256, 1280])\n",
            "PATCHES:  torch.Size([6, 100, 1280])\n",
            "=====================\n",
            "  ✓ Successfully extracted data\n",
            "[12/41] Processing 68.pdf...\n"
          ]
        },
        {
          "output_type": "stream",
          "name": "stderr",
          "text": [
            "/usr/local/lib/python3.12/dist-packages/transformers/generation/configuration_utils.py:590: UserWarning: `do_sample` is set to `False`. However, `temperature` is set to `0.0` -- this flag is only used in sample-based generation modes. You should set `do_sample=True` or unset `temperature`.\n",
            "  warnings.warn(\n",
            "The attention mask and the pad token id were not set. As a consequence, you may observe unexpected behavior. Please pass your input's `attention_mask` to obtain reliable results.\n",
            "Setting `pad_token_id` to `eos_token_id`:None for open-end generation.\n"
          ]
        },
        {
          "output_type": "stream",
          "name": "stdout",
          "text": [
            "=====================\n",
            "BASE:  torch.Size([1, 256, 1280])\n",
            "PATCHES:  torch.Size([6, 100, 1280])\n",
            "=====================\n"
          ]
        },
        {
          "output_type": "stream",
          "name": "stderr",
          "text": [
            "The attention mask and the pad token id were not set. As a consequence, you may observe unexpected behavior. Please pass your input's `attention_mask` to obtain reliable results.\n",
            "Setting `pad_token_id` to `eos_token_id`:None for open-end generation.\n"
          ]
        },
        {
          "output_type": "stream",
          "name": "stdout",
          "text": [
            "=====================\n",
            "BASE:  torch.Size([1, 256, 1280])\n",
            "PATCHES:  torch.Size([6, 100, 1280])\n",
            "=====================\n"
          ]
        },
        {
          "output_type": "stream",
          "name": "stderr",
          "text": [
            "The attention mask and the pad token id were not set. As a consequence, you may observe unexpected behavior. Please pass your input's `attention_mask` to obtain reliable results.\n",
            "Setting `pad_token_id` to `eos_token_id`:None for open-end generation.\n"
          ]
        },
        {
          "output_type": "stream",
          "name": "stdout",
          "text": [
            "=====================\n",
            "BASE:  torch.Size([1, 256, 1280])\n",
            "PATCHES:  torch.Size([6, 100, 1280])\n",
            "=====================\n"
          ]
        },
        {
          "output_type": "stream",
          "name": "stderr",
          "text": [
            "The attention mask and the pad token id were not set. As a consequence, you may observe unexpected behavior. Please pass your input's `attention_mask` to obtain reliable results.\n",
            "Setting `pad_token_id` to `eos_token_id`:None for open-end generation.\n"
          ]
        },
        {
          "output_type": "stream",
          "name": "stdout",
          "text": [
            "=====================\n",
            "BASE:  torch.Size([1, 256, 1280])\n",
            "PATCHES:  torch.Size([6, 100, 1280])\n",
            "=====================\n",
            "  ✓ Successfully extracted data\n",
            "[13/41] Processing 71.pdf...\n"
          ]
        },
        {
          "output_type": "stream",
          "name": "stderr",
          "text": [
            "/usr/local/lib/python3.12/dist-packages/transformers/generation/configuration_utils.py:590: UserWarning: `do_sample` is set to `False`. However, `temperature` is set to `0.0` -- this flag is only used in sample-based generation modes. You should set `do_sample=True` or unset `temperature`.\n",
            "  warnings.warn(\n",
            "The attention mask and the pad token id were not set. As a consequence, you may observe unexpected behavior. Please pass your input's `attention_mask` to obtain reliable results.\n",
            "Setting `pad_token_id` to `eos_token_id`:None for open-end generation.\n"
          ]
        },
        {
          "output_type": "stream",
          "name": "stdout",
          "text": [
            "=====================\n",
            "BASE:  torch.Size([1, 256, 1280])\n",
            "PATCHES:  torch.Size([6, 100, 1280])\n",
            "=====================\n"
          ]
        },
        {
          "output_type": "stream",
          "name": "stderr",
          "text": [
            "The attention mask and the pad token id were not set. As a consequence, you may observe unexpected behavior. Please pass your input's `attention_mask` to obtain reliable results.\n",
            "Setting `pad_token_id` to `eos_token_id`:None for open-end generation.\n"
          ]
        },
        {
          "output_type": "stream",
          "name": "stdout",
          "text": [
            "=====================\n",
            "BASE:  torch.Size([1, 256, 1280])\n",
            "PATCHES:  torch.Size([6, 100, 1280])\n",
            "=====================\n"
          ]
        },
        {
          "output_type": "stream",
          "name": "stderr",
          "text": [
            "The attention mask and the pad token id were not set. As a consequence, you may observe unexpected behavior. Please pass your input's `attention_mask` to obtain reliable results.\n",
            "Setting `pad_token_id` to `eos_token_id`:None for open-end generation.\n"
          ]
        },
        {
          "output_type": "stream",
          "name": "stdout",
          "text": [
            "=====================\n",
            "BASE:  torch.Size([1, 256, 1280])\n",
            "PATCHES:  torch.Size([6, 100, 1280])\n",
            "=====================\n"
          ]
        },
        {
          "output_type": "stream",
          "name": "stderr",
          "text": [
            "The attention mask and the pad token id were not set. As a consequence, you may observe unexpected behavior. Please pass your input's `attention_mask` to obtain reliable results.\n",
            "Setting `pad_token_id` to `eos_token_id`:None for open-end generation.\n"
          ]
        },
        {
          "output_type": "stream",
          "name": "stdout",
          "text": [
            "=====================\n",
            "BASE:  torch.Size([1, 256, 1280])\n",
            "PATCHES:  torch.Size([6, 100, 1280])\n",
            "=====================\n"
          ]
        },
        {
          "output_type": "stream",
          "name": "stderr",
          "text": [
            "The attention mask and the pad token id were not set. As a consequence, you may observe unexpected behavior. Please pass your input's `attention_mask` to obtain reliable results.\n",
            "Setting `pad_token_id` to `eos_token_id`:None for open-end generation.\n"
          ]
        },
        {
          "output_type": "stream",
          "name": "stdout",
          "text": [
            "=====================\n",
            "BASE:  torch.Size([1, 256, 1280])\n",
            "PATCHES:  torch.Size([6, 100, 1280])\n",
            "=====================\n",
            "  ✓ Successfully extracted data\n",
            "[14/41] Processing 74.pdf...\n"
          ]
        },
        {
          "output_type": "stream",
          "name": "stderr",
          "text": [
            "/usr/local/lib/python3.12/dist-packages/transformers/generation/configuration_utils.py:590: UserWarning: `do_sample` is set to `False`. However, `temperature` is set to `0.0` -- this flag is only used in sample-based generation modes. You should set `do_sample=True` or unset `temperature`.\n",
            "  warnings.warn(\n",
            "The attention mask and the pad token id were not set. As a consequence, you may observe unexpected behavior. Please pass your input's `attention_mask` to obtain reliable results.\n",
            "Setting `pad_token_id` to `eos_token_id`:None for open-end generation.\n"
          ]
        },
        {
          "output_type": "stream",
          "name": "stdout",
          "text": [
            "=====================\n",
            "BASE:  torch.Size([1, 256, 1280])\n",
            "PATCHES:  torch.Size([6, 100, 1280])\n",
            "=====================\n"
          ]
        },
        {
          "output_type": "stream",
          "name": "stderr",
          "text": [
            "The attention mask and the pad token id were not set. As a consequence, you may observe unexpected behavior. Please pass your input's `attention_mask` to obtain reliable results.\n",
            "Setting `pad_token_id` to `eos_token_id`:None for open-end generation.\n"
          ]
        },
        {
          "output_type": "stream",
          "name": "stdout",
          "text": [
            "=====================\n",
            "BASE:  torch.Size([1, 256, 1280])\n",
            "PATCHES:  torch.Size([6, 100, 1280])\n",
            "=====================\n",
            "  ✓ Successfully extracted data\n",
            "[15/41] Processing 77.pdf...\n"
          ]
        },
        {
          "output_type": "stream",
          "name": "stderr",
          "text": [
            "/usr/local/lib/python3.12/dist-packages/transformers/generation/configuration_utils.py:590: UserWarning: `do_sample` is set to `False`. However, `temperature` is set to `0.0` -- this flag is only used in sample-based generation modes. You should set `do_sample=True` or unset `temperature`.\n",
            "  warnings.warn(\n",
            "The attention mask and the pad token id were not set. As a consequence, you may observe unexpected behavior. Please pass your input's `attention_mask` to obtain reliable results.\n",
            "Setting `pad_token_id` to `eos_token_id`:None for open-end generation.\n"
          ]
        },
        {
          "output_type": "stream",
          "name": "stdout",
          "text": [
            "=====================\n",
            "BASE:  torch.Size([1, 256, 1280])\n",
            "PATCHES:  torch.Size([6, 100, 1280])\n",
            "=====================\n"
          ]
        },
        {
          "output_type": "stream",
          "name": "stderr",
          "text": [
            "The attention mask and the pad token id were not set. As a consequence, you may observe unexpected behavior. Please pass your input's `attention_mask` to obtain reliable results.\n",
            "Setting `pad_token_id` to `eos_token_id`:None for open-end generation.\n"
          ]
        },
        {
          "output_type": "stream",
          "name": "stdout",
          "text": [
            "=====================\n",
            "BASE:  torch.Size([1, 256, 1280])\n",
            "PATCHES:  torch.Size([6, 100, 1280])\n",
            "=====================\n"
          ]
        },
        {
          "output_type": "stream",
          "name": "stderr",
          "text": [
            "The attention mask and the pad token id were not set. As a consequence, you may observe unexpected behavior. Please pass your input's `attention_mask` to obtain reliable results.\n",
            "Setting `pad_token_id` to `eos_token_id`:None for open-end generation.\n"
          ]
        },
        {
          "output_type": "stream",
          "name": "stdout",
          "text": [
            "=====================\n",
            "BASE:  torch.Size([1, 256, 1280])\n",
            "PATCHES:  torch.Size([6, 100, 1280])\n",
            "=====================\n"
          ]
        },
        {
          "output_type": "stream",
          "name": "stderr",
          "text": [
            "The attention mask and the pad token id were not set. As a consequence, you may observe unexpected behavior. Please pass your input's `attention_mask` to obtain reliable results.\n",
            "Setting `pad_token_id` to `eos_token_id`:None for open-end generation.\n"
          ]
        },
        {
          "output_type": "stream",
          "name": "stdout",
          "text": [
            "=====================\n",
            "BASE:  torch.Size([1, 256, 1280])\n",
            "PATCHES:  torch.Size([6, 100, 1280])\n",
            "=====================\n",
            "  ✓ Successfully extracted data\n",
            "[16/41] Processing 80.pdf...\n"
          ]
        },
        {
          "output_type": "stream",
          "name": "stderr",
          "text": [
            "/usr/local/lib/python3.12/dist-packages/transformers/generation/configuration_utils.py:590: UserWarning: `do_sample` is set to `False`. However, `temperature` is set to `0.0` -- this flag is only used in sample-based generation modes. You should set `do_sample=True` or unset `temperature`.\n",
            "  warnings.warn(\n",
            "The attention mask and the pad token id were not set. As a consequence, you may observe unexpected behavior. Please pass your input's `attention_mask` to obtain reliable results.\n",
            "Setting `pad_token_id` to `eos_token_id`:None for open-end generation.\n"
          ]
        },
        {
          "output_type": "stream",
          "name": "stdout",
          "text": [
            "=====================\n",
            "BASE:  torch.Size([1, 256, 1280])\n",
            "PATCHES:  torch.Size([6, 100, 1280])\n",
            "=====================\n",
            "  ✓ Successfully extracted data\n",
            "[17/41] Processing 83.pdf...\n"
          ]
        },
        {
          "output_type": "stream",
          "name": "stderr",
          "text": [
            "/usr/local/lib/python3.12/dist-packages/transformers/generation/configuration_utils.py:590: UserWarning: `do_sample` is set to `False`. However, `temperature` is set to `0.0` -- this flag is only used in sample-based generation modes. You should set `do_sample=True` or unset `temperature`.\n",
            "  warnings.warn(\n",
            "The attention mask and the pad token id were not set. As a consequence, you may observe unexpected behavior. Please pass your input's `attention_mask` to obtain reliable results.\n",
            "Setting `pad_token_id` to `eos_token_id`:None for open-end generation.\n"
          ]
        },
        {
          "output_type": "stream",
          "name": "stdout",
          "text": [
            "=====================\n",
            "BASE:  torch.Size([1, 256, 1280])\n",
            "PATCHES:  torch.Size([6, 100, 1280])\n",
            "=====================\n"
          ]
        },
        {
          "output_type": "stream",
          "name": "stderr",
          "text": [
            "The attention mask and the pad token id were not set. As a consequence, you may observe unexpected behavior. Please pass your input's `attention_mask` to obtain reliable results.\n",
            "Setting `pad_token_id` to `eos_token_id`:None for open-end generation.\n"
          ]
        },
        {
          "output_type": "stream",
          "name": "stdout",
          "text": [
            "=====================\n",
            "BASE:  torch.Size([1, 256, 1280])\n",
            "PATCHES:  torch.Size([6, 100, 1280])\n",
            "=====================\n"
          ]
        },
        {
          "output_type": "stream",
          "name": "stderr",
          "text": [
            "The attention mask and the pad token id were not set. As a consequence, you may observe unexpected behavior. Please pass your input's `attention_mask` to obtain reliable results.\n",
            "Setting `pad_token_id` to `eos_token_id`:None for open-end generation.\n"
          ]
        },
        {
          "output_type": "stream",
          "name": "stdout",
          "text": [
            "=====================\n",
            "BASE:  torch.Size([1, 256, 1280])\n",
            "PATCHES:  torch.Size([6, 100, 1280])\n",
            "=====================\n"
          ]
        },
        {
          "output_type": "stream",
          "name": "stderr",
          "text": [
            "The attention mask and the pad token id were not set. As a consequence, you may observe unexpected behavior. Please pass your input's `attention_mask` to obtain reliable results.\n",
            "Setting `pad_token_id` to `eos_token_id`:None for open-end generation.\n"
          ]
        },
        {
          "output_type": "stream",
          "name": "stdout",
          "text": [
            "=====================\n",
            "BASE:  torch.Size([1, 256, 1280])\n",
            "PATCHES:  torch.Size([6, 100, 1280])\n",
            "=====================\n"
          ]
        },
        {
          "output_type": "stream",
          "name": "stderr",
          "text": [
            "The attention mask and the pad token id were not set. As a consequence, you may observe unexpected behavior. Please pass your input's `attention_mask` to obtain reliable results.\n",
            "Setting `pad_token_id` to `eos_token_id`:None for open-end generation.\n"
          ]
        },
        {
          "output_type": "stream",
          "name": "stdout",
          "text": [
            "=====================\n",
            "BASE:  torch.Size([1, 256, 1280])\n",
            "PATCHES:  torch.Size([6, 100, 1280])\n",
            "=====================\n",
            "  ✓ Successfully extracted data\n",
            "[18/41] Processing 86.pdf...\n"
          ]
        },
        {
          "output_type": "stream",
          "name": "stderr",
          "text": [
            "/usr/local/lib/python3.12/dist-packages/transformers/generation/configuration_utils.py:590: UserWarning: `do_sample` is set to `False`. However, `temperature` is set to `0.0` -- this flag is only used in sample-based generation modes. You should set `do_sample=True` or unset `temperature`.\n",
            "  warnings.warn(\n",
            "The attention mask and the pad token id were not set. As a consequence, you may observe unexpected behavior. Please pass your input's `attention_mask` to obtain reliable results.\n",
            "Setting `pad_token_id` to `eos_token_id`:None for open-end generation.\n"
          ]
        },
        {
          "output_type": "stream",
          "name": "stdout",
          "text": [
            "=====================\n",
            "BASE:  torch.Size([1, 256, 1280])\n",
            "PATCHES:  torch.Size([6, 100, 1280])\n",
            "=====================\n"
          ]
        },
        {
          "output_type": "stream",
          "name": "stderr",
          "text": [
            "The attention mask and the pad token id were not set. As a consequence, you may observe unexpected behavior. Please pass your input's `attention_mask` to obtain reliable results.\n",
            "Setting `pad_token_id` to `eos_token_id`:None for open-end generation.\n"
          ]
        },
        {
          "output_type": "stream",
          "name": "stdout",
          "text": [
            "=====================\n",
            "BASE:  torch.Size([1, 256, 1280])\n",
            "PATCHES:  torch.Size([6, 100, 1280])\n",
            "=====================\n",
            "  ✓ Successfully extracted data\n",
            "[19/41] Processing 89.pdf...\n"
          ]
        },
        {
          "output_type": "stream",
          "name": "stderr",
          "text": [
            "/usr/local/lib/python3.12/dist-packages/transformers/generation/configuration_utils.py:590: UserWarning: `do_sample` is set to `False`. However, `temperature` is set to `0.0` -- this flag is only used in sample-based generation modes. You should set `do_sample=True` or unset `temperature`.\n",
            "  warnings.warn(\n",
            "The attention mask and the pad token id were not set. As a consequence, you may observe unexpected behavior. Please pass your input's `attention_mask` to obtain reliable results.\n",
            "Setting `pad_token_id` to `eos_token_id`:None for open-end generation.\n"
          ]
        },
        {
          "output_type": "stream",
          "name": "stdout",
          "text": [
            "=====================\n",
            "BASE:  torch.Size([1, 256, 1280])\n",
            "PATCHES:  torch.Size([6, 100, 1280])\n",
            "=====================\n"
          ]
        },
        {
          "output_type": "stream",
          "name": "stderr",
          "text": [
            "The attention mask and the pad token id were not set. As a consequence, you may observe unexpected behavior. Please pass your input's `attention_mask` to obtain reliable results.\n",
            "Setting `pad_token_id` to `eos_token_id`:None for open-end generation.\n"
          ]
        },
        {
          "output_type": "stream",
          "name": "stdout",
          "text": [
            "=====================\n",
            "BASE:  torch.Size([1, 256, 1280])\n",
            "PATCHES:  torch.Size([6, 100, 1280])\n",
            "=====================\n",
            "  ✓ Successfully extracted data\n",
            "[20/41] Processing 92.pdf...\n"
          ]
        },
        {
          "output_type": "stream",
          "name": "stderr",
          "text": [
            "/usr/local/lib/python3.12/dist-packages/transformers/generation/configuration_utils.py:590: UserWarning: `do_sample` is set to `False`. However, `temperature` is set to `0.0` -- this flag is only used in sample-based generation modes. You should set `do_sample=True` or unset `temperature`.\n",
            "  warnings.warn(\n",
            "The attention mask and the pad token id were not set. As a consequence, you may observe unexpected behavior. Please pass your input's `attention_mask` to obtain reliable results.\n",
            "Setting `pad_token_id` to `eos_token_id`:None for open-end generation.\n"
          ]
        },
        {
          "output_type": "stream",
          "name": "stdout",
          "text": [
            "=====================\n",
            "BASE:  torch.Size([1, 256, 1280])\n",
            "PATCHES:  torch.Size([6, 100, 1280])\n",
            "=====================\n"
          ]
        },
        {
          "output_type": "stream",
          "name": "stderr",
          "text": [
            "The attention mask and the pad token id were not set. As a consequence, you may observe unexpected behavior. Please pass your input's `attention_mask` to obtain reliable results.\n",
            "Setting `pad_token_id` to `eos_token_id`:None for open-end generation.\n"
          ]
        },
        {
          "output_type": "stream",
          "name": "stdout",
          "text": [
            "=====================\n",
            "BASE:  torch.Size([1, 256, 1280])\n",
            "PATCHES:  torch.Size([6, 100, 1280])\n",
            "=====================\n",
            "  ✓ Successfully extracted data\n",
            "[21/41] Processing 95.pdf...\n"
          ]
        },
        {
          "output_type": "stream",
          "name": "stderr",
          "text": [
            "/usr/local/lib/python3.12/dist-packages/transformers/generation/configuration_utils.py:590: UserWarning: `do_sample` is set to `False`. However, `temperature` is set to `0.0` -- this flag is only used in sample-based generation modes. You should set `do_sample=True` or unset `temperature`.\n",
            "  warnings.warn(\n",
            "The attention mask and the pad token id were not set. As a consequence, you may observe unexpected behavior. Please pass your input's `attention_mask` to obtain reliable results.\n",
            "Setting `pad_token_id` to `eos_token_id`:None for open-end generation.\n"
          ]
        },
        {
          "output_type": "stream",
          "name": "stdout",
          "text": [
            "=====================\n",
            "BASE:  torch.Size([1, 256, 1280])\n",
            "PATCHES:  torch.Size([6, 100, 1280])\n",
            "=====================\n"
          ]
        },
        {
          "output_type": "stream",
          "name": "stderr",
          "text": [
            "The attention mask and the pad token id were not set. As a consequence, you may observe unexpected behavior. Please pass your input's `attention_mask` to obtain reliable results.\n",
            "Setting `pad_token_id` to `eos_token_id`:None for open-end generation.\n"
          ]
        },
        {
          "output_type": "stream",
          "name": "stdout",
          "text": [
            "=====================\n",
            "BASE:  torch.Size([1, 256, 1280])\n",
            "PATCHES:  torch.Size([6, 100, 1280])\n",
            "=====================\n"
          ]
        },
        {
          "output_type": "stream",
          "name": "stderr",
          "text": [
            "The attention mask and the pad token id were not set. As a consequence, you may observe unexpected behavior. Please pass your input's `attention_mask` to obtain reliable results.\n",
            "Setting `pad_token_id` to `eos_token_id`:None for open-end generation.\n"
          ]
        },
        {
          "output_type": "stream",
          "name": "stdout",
          "text": [
            "=====================\n",
            "BASE:  torch.Size([1, 256, 1280])\n",
            "PATCHES:  torch.Size([6, 100, 1280])\n",
            "=====================\n"
          ]
        },
        {
          "output_type": "stream",
          "name": "stderr",
          "text": [
            "The attention mask and the pad token id were not set. As a consequence, you may observe unexpected behavior. Please pass your input's `attention_mask` to obtain reliable results.\n",
            "Setting `pad_token_id` to `eos_token_id`:None for open-end generation.\n"
          ]
        },
        {
          "output_type": "stream",
          "name": "stdout",
          "text": [
            "=====================\n",
            "BASE:  torch.Size([1, 256, 1280])\n",
            "PATCHES:  torch.Size([6, 100, 1280])\n",
            "=====================\n"
          ]
        },
        {
          "output_type": "stream",
          "name": "stderr",
          "text": [
            "The attention mask and the pad token id were not set. As a consequence, you may observe unexpected behavior. Please pass your input's `attention_mask` to obtain reliable results.\n",
            "Setting `pad_token_id` to `eos_token_id`:None for open-end generation.\n"
          ]
        },
        {
          "output_type": "stream",
          "name": "stdout",
          "text": [
            "=====================\n",
            "BASE:  torch.Size([1, 256, 1280])\n",
            "PATCHES:  torch.Size([6, 100, 1280])\n",
            "=====================\n"
          ]
        },
        {
          "output_type": "stream",
          "name": "stderr",
          "text": [
            "The attention mask and the pad token id were not set. As a consequence, you may observe unexpected behavior. Please pass your input's `attention_mask` to obtain reliable results.\n",
            "Setting `pad_token_id` to `eos_token_id`:None for open-end generation.\n"
          ]
        },
        {
          "output_type": "stream",
          "name": "stdout",
          "text": [
            "=====================\n",
            "BASE:  torch.Size([1, 256, 1280])\n",
            "PATCHES:  torch.Size([6, 100, 1280])\n",
            "=====================\n",
            "  ✓ Successfully extracted data\n",
            "[22/41] Processing 98.pdf...\n"
          ]
        },
        {
          "output_type": "stream",
          "name": "stderr",
          "text": [
            "/usr/local/lib/python3.12/dist-packages/transformers/generation/configuration_utils.py:590: UserWarning: `do_sample` is set to `False`. However, `temperature` is set to `0.0` -- this flag is only used in sample-based generation modes. You should set `do_sample=True` or unset `temperature`.\n",
            "  warnings.warn(\n",
            "The attention mask and the pad token id were not set. As a consequence, you may observe unexpected behavior. Please pass your input's `attention_mask` to obtain reliable results.\n",
            "Setting `pad_token_id` to `eos_token_id`:None for open-end generation.\n"
          ]
        },
        {
          "output_type": "stream",
          "name": "stdout",
          "text": [
            "=====================\n",
            "BASE:  torch.Size([1, 256, 1280])\n",
            "PATCHES:  torch.Size([6, 100, 1280])\n",
            "=====================\n"
          ]
        },
        {
          "output_type": "stream",
          "name": "stderr",
          "text": [
            "The attention mask and the pad token id were not set. As a consequence, you may observe unexpected behavior. Please pass your input's `attention_mask` to obtain reliable results.\n",
            "Setting `pad_token_id` to `eos_token_id`:None for open-end generation.\n"
          ]
        },
        {
          "output_type": "stream",
          "name": "stdout",
          "text": [
            "=====================\n",
            "BASE:  torch.Size([1, 256, 1280])\n",
            "PATCHES:  torch.Size([6, 100, 1280])\n",
            "=====================\n",
            "  ✓ Successfully extracted data\n",
            "[23/41] Processing 101.pdf...\n"
          ]
        },
        {
          "output_type": "stream",
          "name": "stderr",
          "text": [
            "/usr/local/lib/python3.12/dist-packages/transformers/generation/configuration_utils.py:590: UserWarning: `do_sample` is set to `False`. However, `temperature` is set to `0.0` -- this flag is only used in sample-based generation modes. You should set `do_sample=True` or unset `temperature`.\n",
            "  warnings.warn(\n",
            "The attention mask and the pad token id were not set. As a consequence, you may observe unexpected behavior. Please pass your input's `attention_mask` to obtain reliable results.\n",
            "Setting `pad_token_id` to `eos_token_id`:None for open-end generation.\n"
          ]
        },
        {
          "output_type": "stream",
          "name": "stdout",
          "text": [
            "=====================\n",
            "BASE:  torch.Size([1, 256, 1280])\n",
            "PATCHES:  torch.Size([6, 100, 1280])\n",
            "=====================\n"
          ]
        },
        {
          "output_type": "stream",
          "name": "stderr",
          "text": [
            "The attention mask and the pad token id were not set. As a consequence, you may observe unexpected behavior. Please pass your input's `attention_mask` to obtain reliable results.\n",
            "Setting `pad_token_id` to `eos_token_id`:None for open-end generation.\n"
          ]
        },
        {
          "output_type": "stream",
          "name": "stdout",
          "text": [
            "=====================\n",
            "BASE:  torch.Size([1, 256, 1280])\n",
            "PATCHES:  torch.Size([6, 100, 1280])\n",
            "=====================\n"
          ]
        },
        {
          "output_type": "stream",
          "name": "stderr",
          "text": [
            "The attention mask and the pad token id were not set. As a consequence, you may observe unexpected behavior. Please pass your input's `attention_mask` to obtain reliable results.\n",
            "Setting `pad_token_id` to `eos_token_id`:None for open-end generation.\n"
          ]
        },
        {
          "output_type": "stream",
          "name": "stdout",
          "text": [
            "=====================\n",
            "BASE:  torch.Size([1, 256, 1280])\n",
            "PATCHES:  torch.Size([6, 100, 1280])\n",
            "=====================\n",
            "  ✓ Successfully extracted data\n",
            "[24/41] Processing 104.pdf...\n"
          ]
        },
        {
          "output_type": "stream",
          "name": "stderr",
          "text": [
            "/usr/local/lib/python3.12/dist-packages/transformers/generation/configuration_utils.py:590: UserWarning: `do_sample` is set to `False`. However, `temperature` is set to `0.0` -- this flag is only used in sample-based generation modes. You should set `do_sample=True` or unset `temperature`.\n",
            "  warnings.warn(\n",
            "The attention mask and the pad token id were not set. As a consequence, you may observe unexpected behavior. Please pass your input's `attention_mask` to obtain reliable results.\n",
            "Setting `pad_token_id` to `eos_token_id`:None for open-end generation.\n"
          ]
        },
        {
          "output_type": "stream",
          "name": "stdout",
          "text": [
            "=====================\n",
            "BASE:  torch.Size([1, 256, 1280])\n",
            "PATCHES:  torch.Size([6, 100, 1280])\n",
            "=====================\n"
          ]
        },
        {
          "output_type": "stream",
          "name": "stderr",
          "text": [
            "The attention mask and the pad token id were not set. As a consequence, you may observe unexpected behavior. Please pass your input's `attention_mask` to obtain reliable results.\n",
            "Setting `pad_token_id` to `eos_token_id`:None for open-end generation.\n"
          ]
        },
        {
          "output_type": "stream",
          "name": "stdout",
          "text": [
            "=====================\n",
            "BASE:  torch.Size([1, 256, 1280])\n",
            "PATCHES:  torch.Size([6, 100, 1280])\n",
            "=====================\n"
          ]
        },
        {
          "output_type": "stream",
          "name": "stderr",
          "text": [
            "The attention mask and the pad token id were not set. As a consequence, you may observe unexpected behavior. Please pass your input's `attention_mask` to obtain reliable results.\n",
            "Setting `pad_token_id` to `eos_token_id`:None for open-end generation.\n"
          ]
        },
        {
          "output_type": "stream",
          "name": "stdout",
          "text": [
            "=====================\n",
            "BASE:  torch.Size([1, 256, 1280])\n",
            "PATCHES:  torch.Size([6, 100, 1280])\n",
            "=====================\n",
            "  ✓ Successfully extracted data\n",
            "[25/41] Processing 107.pdf...\n"
          ]
        },
        {
          "output_type": "stream",
          "name": "stderr",
          "text": [
            "/usr/local/lib/python3.12/dist-packages/transformers/generation/configuration_utils.py:590: UserWarning: `do_sample` is set to `False`. However, `temperature` is set to `0.0` -- this flag is only used in sample-based generation modes. You should set `do_sample=True` or unset `temperature`.\n",
            "  warnings.warn(\n",
            "The attention mask and the pad token id were not set. As a consequence, you may observe unexpected behavior. Please pass your input's `attention_mask` to obtain reliable results.\n",
            "Setting `pad_token_id` to `eos_token_id`:None for open-end generation.\n"
          ]
        },
        {
          "output_type": "stream",
          "name": "stdout",
          "text": [
            "=====================\n",
            "BASE:  torch.Size([1, 256, 1280])\n",
            "PATCHES:  torch.Size([6, 100, 1280])\n",
            "=====================\n"
          ]
        },
        {
          "output_type": "stream",
          "name": "stderr",
          "text": [
            "The attention mask and the pad token id were not set. As a consequence, you may observe unexpected behavior. Please pass your input's `attention_mask` to obtain reliable results.\n",
            "Setting `pad_token_id` to `eos_token_id`:None for open-end generation.\n"
          ]
        },
        {
          "output_type": "stream",
          "name": "stdout",
          "text": [
            "=====================\n",
            "BASE:  torch.Size([1, 256, 1280])\n",
            "PATCHES:  torch.Size([6, 100, 1280])\n",
            "=====================\n",
            "  ✓ Successfully extracted data\n",
            "[26/41] Processing 110.pdf...\n"
          ]
        },
        {
          "output_type": "stream",
          "name": "stderr",
          "text": [
            "/usr/local/lib/python3.12/dist-packages/transformers/generation/configuration_utils.py:590: UserWarning: `do_sample` is set to `False`. However, `temperature` is set to `0.0` -- this flag is only used in sample-based generation modes. You should set `do_sample=True` or unset `temperature`.\n",
            "  warnings.warn(\n",
            "The attention mask and the pad token id were not set. As a consequence, you may observe unexpected behavior. Please pass your input's `attention_mask` to obtain reliable results.\n",
            "Setting `pad_token_id` to `eos_token_id`:None for open-end generation.\n"
          ]
        },
        {
          "output_type": "stream",
          "name": "stdout",
          "text": [
            "=====================\n",
            "BASE:  torch.Size([1, 256, 1280])\n",
            "PATCHES:  torch.Size([6, 100, 1280])\n",
            "=====================\n"
          ]
        },
        {
          "output_type": "stream",
          "name": "stderr",
          "text": [
            "The attention mask and the pad token id were not set. As a consequence, you may observe unexpected behavior. Please pass your input's `attention_mask` to obtain reliable results.\n",
            "Setting `pad_token_id` to `eos_token_id`:None for open-end generation.\n"
          ]
        },
        {
          "output_type": "stream",
          "name": "stdout",
          "text": [
            "=====================\n",
            "BASE:  torch.Size([1, 256, 1280])\n",
            "PATCHES:  torch.Size([6, 100, 1280])\n",
            "=====================\n",
            "  ✓ Successfully extracted data\n",
            "[27/41] Processing 113.pdf...\n"
          ]
        },
        {
          "output_type": "stream",
          "name": "stderr",
          "text": [
            "/usr/local/lib/python3.12/dist-packages/transformers/generation/configuration_utils.py:590: UserWarning: `do_sample` is set to `False`. However, `temperature` is set to `0.0` -- this flag is only used in sample-based generation modes. You should set `do_sample=True` or unset `temperature`.\n",
            "  warnings.warn(\n",
            "The attention mask and the pad token id were not set. As a consequence, you may observe unexpected behavior. Please pass your input's `attention_mask` to obtain reliable results.\n",
            "Setting `pad_token_id` to `eos_token_id`:None for open-end generation.\n"
          ]
        },
        {
          "output_type": "stream",
          "name": "stdout",
          "text": [
            "=====================\n",
            "BASE:  torch.Size([1, 256, 1280])\n",
            "PATCHES:  torch.Size([6, 100, 1280])\n",
            "=====================\n"
          ]
        },
        {
          "output_type": "stream",
          "name": "stderr",
          "text": [
            "The attention mask and the pad token id were not set. As a consequence, you may observe unexpected behavior. Please pass your input's `attention_mask` to obtain reliable results.\n",
            "Setting `pad_token_id` to `eos_token_id`:None for open-end generation.\n"
          ]
        },
        {
          "output_type": "stream",
          "name": "stdout",
          "text": [
            "=====================\n",
            "BASE:  torch.Size([1, 256, 1280])\n",
            "PATCHES:  torch.Size([6, 100, 1280])\n",
            "=====================\n"
          ]
        },
        {
          "output_type": "stream",
          "name": "stderr",
          "text": [
            "The attention mask and the pad token id were not set. As a consequence, you may observe unexpected behavior. Please pass your input's `attention_mask` to obtain reliable results.\n",
            "Setting `pad_token_id` to `eos_token_id`:None for open-end generation.\n"
          ]
        },
        {
          "output_type": "stream",
          "name": "stdout",
          "text": [
            "=====================\n",
            "BASE:  torch.Size([1, 256, 1280])\n",
            "PATCHES:  torch.Size([6, 100, 1280])\n",
            "=====================\n"
          ]
        },
        {
          "output_type": "stream",
          "name": "stderr",
          "text": [
            "The attention mask and the pad token id were not set. As a consequence, you may observe unexpected behavior. Please pass your input's `attention_mask` to obtain reliable results.\n",
            "Setting `pad_token_id` to `eos_token_id`:None for open-end generation.\n"
          ]
        },
        {
          "output_type": "stream",
          "name": "stdout",
          "text": [
            "=====================\n",
            "BASE:  torch.Size([1, 256, 1280])\n",
            "PATCHES:  torch.Size([6, 100, 1280])\n",
            "=====================\n"
          ]
        },
        {
          "output_type": "stream",
          "name": "stderr",
          "text": [
            "The attention mask and the pad token id were not set. As a consequence, you may observe unexpected behavior. Please pass your input's `attention_mask` to obtain reliable results.\n",
            "Setting `pad_token_id` to `eos_token_id`:None for open-end generation.\n"
          ]
        },
        {
          "output_type": "stream",
          "name": "stdout",
          "text": [
            "=====================\n",
            "BASE:  torch.Size([1, 256, 1280])\n",
            "PATCHES:  torch.Size([6, 100, 1280])\n",
            "=====================\n",
            "  ✓ Successfully extracted data\n",
            "[28/41] Processing 116.pdf...\n"
          ]
        },
        {
          "output_type": "stream",
          "name": "stderr",
          "text": [
            "/usr/local/lib/python3.12/dist-packages/transformers/generation/configuration_utils.py:590: UserWarning: `do_sample` is set to `False`. However, `temperature` is set to `0.0` -- this flag is only used in sample-based generation modes. You should set `do_sample=True` or unset `temperature`.\n",
            "  warnings.warn(\n",
            "The attention mask and the pad token id were not set. As a consequence, you may observe unexpected behavior. Please pass your input's `attention_mask` to obtain reliable results.\n",
            "Setting `pad_token_id` to `eos_token_id`:None for open-end generation.\n"
          ]
        },
        {
          "output_type": "stream",
          "name": "stdout",
          "text": [
            "=====================\n",
            "BASE:  torch.Size([1, 256, 1280])\n",
            "PATCHES:  torch.Size([6, 100, 1280])\n",
            "=====================\n"
          ]
        },
        {
          "output_type": "stream",
          "name": "stderr",
          "text": [
            "The attention mask and the pad token id were not set. As a consequence, you may observe unexpected behavior. Please pass your input's `attention_mask` to obtain reliable results.\n",
            "Setting `pad_token_id` to `eos_token_id`:None for open-end generation.\n"
          ]
        },
        {
          "output_type": "stream",
          "name": "stdout",
          "text": [
            "=====================\n",
            "BASE:  torch.Size([1, 256, 1280])\n",
            "PATCHES:  torch.Size([6, 100, 1280])\n",
            "=====================\n"
          ]
        },
        {
          "output_type": "stream",
          "name": "stderr",
          "text": [
            "The attention mask and the pad token id were not set. As a consequence, you may observe unexpected behavior. Please pass your input's `attention_mask` to obtain reliable results.\n",
            "Setting `pad_token_id` to `eos_token_id`:None for open-end generation.\n"
          ]
        },
        {
          "output_type": "stream",
          "name": "stdout",
          "text": [
            "=====================\n",
            "BASE:  torch.Size([1, 256, 1280])\n",
            "PATCHES:  torch.Size([6, 100, 1280])\n",
            "=====================\n",
            "  ✓ Successfully extracted data\n",
            "[29/41] Processing 119.pdf...\n"
          ]
        },
        {
          "output_type": "stream",
          "name": "stderr",
          "text": [
            "/usr/local/lib/python3.12/dist-packages/transformers/generation/configuration_utils.py:590: UserWarning: `do_sample` is set to `False`. However, `temperature` is set to `0.0` -- this flag is only used in sample-based generation modes. You should set `do_sample=True` or unset `temperature`.\n",
            "  warnings.warn(\n",
            "The attention mask and the pad token id were not set. As a consequence, you may observe unexpected behavior. Please pass your input's `attention_mask` to obtain reliable results.\n",
            "Setting `pad_token_id` to `eos_token_id`:None for open-end generation.\n"
          ]
        },
        {
          "output_type": "stream",
          "name": "stdout",
          "text": [
            "=====================\n",
            "BASE:  torch.Size([1, 256, 1280])\n",
            "PATCHES:  torch.Size([6, 100, 1280])\n",
            "=====================\n"
          ]
        },
        {
          "output_type": "stream",
          "name": "stderr",
          "text": [
            "The attention mask and the pad token id were not set. As a consequence, you may observe unexpected behavior. Please pass your input's `attention_mask` to obtain reliable results.\n",
            "Setting `pad_token_id` to `eos_token_id`:None for open-end generation.\n"
          ]
        },
        {
          "output_type": "stream",
          "name": "stdout",
          "text": [
            "=====================\n",
            "BASE:  torch.Size([1, 256, 1280])\n",
            "PATCHES:  torch.Size([6, 100, 1280])\n",
            "=====================\n"
          ]
        },
        {
          "output_type": "stream",
          "name": "stderr",
          "text": [
            "The attention mask and the pad token id were not set. As a consequence, you may observe unexpected behavior. Please pass your input's `attention_mask` to obtain reliable results.\n",
            "Setting `pad_token_id` to `eos_token_id`:None for open-end generation.\n"
          ]
        },
        {
          "output_type": "stream",
          "name": "stdout",
          "text": [
            "=====================\n",
            "BASE:  torch.Size([1, 256, 1280])\n",
            "PATCHES:  torch.Size([6, 100, 1280])\n",
            "=====================\n"
          ]
        },
        {
          "output_type": "stream",
          "name": "stderr",
          "text": [
            "The attention mask and the pad token id were not set. As a consequence, you may observe unexpected behavior. Please pass your input's `attention_mask` to obtain reliable results.\n",
            "Setting `pad_token_id` to `eos_token_id`:None for open-end generation.\n"
          ]
        },
        {
          "output_type": "stream",
          "name": "stdout",
          "text": [
            "=====================\n",
            "BASE:  torch.Size([1, 256, 1280])\n",
            "PATCHES:  torch.Size([6, 100, 1280])\n",
            "=====================\n",
            "  ✓ Successfully extracted data\n",
            "[30/41] Processing 122.pdf...\n"
          ]
        },
        {
          "output_type": "stream",
          "name": "stderr",
          "text": [
            "/usr/local/lib/python3.12/dist-packages/transformers/generation/configuration_utils.py:590: UserWarning: `do_sample` is set to `False`. However, `temperature` is set to `0.0` -- this flag is only used in sample-based generation modes. You should set `do_sample=True` or unset `temperature`.\n",
            "  warnings.warn(\n",
            "The attention mask and the pad token id were not set. As a consequence, you may observe unexpected behavior. Please pass your input's `attention_mask` to obtain reliable results.\n",
            "Setting `pad_token_id` to `eos_token_id`:None for open-end generation.\n"
          ]
        },
        {
          "output_type": "stream",
          "name": "stdout",
          "text": [
            "=====================\n",
            "BASE:  torch.Size([1, 256, 1280])\n",
            "PATCHES:  torch.Size([6, 100, 1280])\n",
            "=====================\n",
            "  ✓ Successfully extracted data\n",
            "[31/41] Processing 125.pdf...\n"
          ]
        },
        {
          "output_type": "stream",
          "name": "stderr",
          "text": [
            "/usr/local/lib/python3.12/dist-packages/transformers/generation/configuration_utils.py:590: UserWarning: `do_sample` is set to `False`. However, `temperature` is set to `0.0` -- this flag is only used in sample-based generation modes. You should set `do_sample=True` or unset `temperature`.\n",
            "  warnings.warn(\n",
            "The attention mask and the pad token id were not set. As a consequence, you may observe unexpected behavior. Please pass your input's `attention_mask` to obtain reliable results.\n",
            "Setting `pad_token_id` to `eos_token_id`:None for open-end generation.\n"
          ]
        },
        {
          "output_type": "stream",
          "name": "stdout",
          "text": [
            "=====================\n",
            "BASE:  torch.Size([1, 256, 1280])\n",
            "PATCHES:  torch.Size([6, 100, 1280])\n",
            "=====================\n"
          ]
        },
        {
          "output_type": "stream",
          "name": "stderr",
          "text": [
            "The attention mask and the pad token id were not set. As a consequence, you may observe unexpected behavior. Please pass your input's `attention_mask` to obtain reliable results.\n",
            "Setting `pad_token_id` to `eos_token_id`:None for open-end generation.\n"
          ]
        },
        {
          "output_type": "stream",
          "name": "stdout",
          "text": [
            "=====================\n",
            "BASE:  torch.Size([1, 256, 1280])\n",
            "PATCHES:  torch.Size([6, 100, 1280])\n",
            "=====================\n",
            "  ✓ Successfully extracted data\n",
            "[32/41] Processing 128.pdf...\n"
          ]
        },
        {
          "output_type": "stream",
          "name": "stderr",
          "text": [
            "/usr/local/lib/python3.12/dist-packages/transformers/generation/configuration_utils.py:590: UserWarning: `do_sample` is set to `False`. However, `temperature` is set to `0.0` -- this flag is only used in sample-based generation modes. You should set `do_sample=True` or unset `temperature`.\n",
            "  warnings.warn(\n",
            "The attention mask and the pad token id were not set. As a consequence, you may observe unexpected behavior. Please pass your input's `attention_mask` to obtain reliable results.\n",
            "Setting `pad_token_id` to `eos_token_id`:None for open-end generation.\n"
          ]
        },
        {
          "output_type": "stream",
          "name": "stdout",
          "text": [
            "=====================\n",
            "BASE:  torch.Size([1, 256, 1280])\n",
            "PATCHES:  torch.Size([6, 100, 1280])\n",
            "=====================\n"
          ]
        },
        {
          "output_type": "stream",
          "name": "stderr",
          "text": [
            "The attention mask and the pad token id were not set. As a consequence, you may observe unexpected behavior. Please pass your input's `attention_mask` to obtain reliable results.\n",
            "Setting `pad_token_id` to `eos_token_id`:None for open-end generation.\n"
          ]
        },
        {
          "output_type": "stream",
          "name": "stdout",
          "text": [
            "=====================\n",
            "BASE:  torch.Size([1, 256, 1280])\n",
            "PATCHES:  torch.Size([6, 100, 1280])\n",
            "=====================\n",
            "  ✓ Successfully extracted data\n",
            "[33/41] Processing 131.pdf...\n"
          ]
        },
        {
          "output_type": "stream",
          "name": "stderr",
          "text": [
            "/usr/local/lib/python3.12/dist-packages/transformers/generation/configuration_utils.py:590: UserWarning: `do_sample` is set to `False`. However, `temperature` is set to `0.0` -- this flag is only used in sample-based generation modes. You should set `do_sample=True` or unset `temperature`.\n",
            "  warnings.warn(\n",
            "The attention mask and the pad token id were not set. As a consequence, you may observe unexpected behavior. Please pass your input's `attention_mask` to obtain reliable results.\n",
            "Setting `pad_token_id` to `eos_token_id`:None for open-end generation.\n"
          ]
        },
        {
          "output_type": "stream",
          "name": "stdout",
          "text": [
            "=====================\n",
            "BASE:  torch.Size([1, 256, 1280])\n",
            "PATCHES:  torch.Size([6, 100, 1280])\n",
            "=====================\n"
          ]
        },
        {
          "output_type": "stream",
          "name": "stderr",
          "text": [
            "The attention mask and the pad token id were not set. As a consequence, you may observe unexpected behavior. Please pass your input's `attention_mask` to obtain reliable results.\n",
            "Setting `pad_token_id` to `eos_token_id`:None for open-end generation.\n"
          ]
        },
        {
          "output_type": "stream",
          "name": "stdout",
          "text": [
            "=====================\n",
            "BASE:  torch.Size([1, 256, 1280])\n",
            "PATCHES:  torch.Size([6, 100, 1280])\n",
            "=====================\n",
            "  ✓ Successfully extracted data\n",
            "[34/41] Processing 134.pdf...\n"
          ]
        },
        {
          "output_type": "stream",
          "name": "stderr",
          "text": [
            "/usr/local/lib/python3.12/dist-packages/transformers/generation/configuration_utils.py:590: UserWarning: `do_sample` is set to `False`. However, `temperature` is set to `0.0` -- this flag is only used in sample-based generation modes. You should set `do_sample=True` or unset `temperature`.\n",
            "  warnings.warn(\n",
            "The attention mask and the pad token id were not set. As a consequence, you may observe unexpected behavior. Please pass your input's `attention_mask` to obtain reliable results.\n",
            "Setting `pad_token_id` to `eos_token_id`:None for open-end generation.\n"
          ]
        },
        {
          "output_type": "stream",
          "name": "stdout",
          "text": [
            "=====================\n",
            "BASE:  torch.Size([1, 256, 1280])\n",
            "PATCHES:  torch.Size([6, 100, 1280])\n",
            "=====================\n"
          ]
        },
        {
          "output_type": "stream",
          "name": "stderr",
          "text": [
            "The attention mask and the pad token id were not set. As a consequence, you may observe unexpected behavior. Please pass your input's `attention_mask` to obtain reliable results.\n",
            "Setting `pad_token_id` to `eos_token_id`:None for open-end generation.\n"
          ]
        },
        {
          "output_type": "stream",
          "name": "stdout",
          "text": [
            "=====================\n",
            "BASE:  torch.Size([1, 256, 1280])\n",
            "PATCHES:  torch.Size([6, 100, 1280])\n",
            "=====================\n"
          ]
        },
        {
          "output_type": "stream",
          "name": "stderr",
          "text": [
            "The attention mask and the pad token id were not set. As a consequence, you may observe unexpected behavior. Please pass your input's `attention_mask` to obtain reliable results.\n",
            "Setting `pad_token_id` to `eos_token_id`:None for open-end generation.\n"
          ]
        },
        {
          "output_type": "stream",
          "name": "stdout",
          "text": [
            "=====================\n",
            "BASE:  torch.Size([1, 256, 1280])\n",
            "PATCHES:  torch.Size([6, 100, 1280])\n",
            "=====================\n",
            "  ✓ Successfully extracted data\n",
            "[35/41] Processing 137.pdf...\n"
          ]
        },
        {
          "output_type": "stream",
          "name": "stderr",
          "text": [
            "/usr/local/lib/python3.12/dist-packages/transformers/generation/configuration_utils.py:590: UserWarning: `do_sample` is set to `False`. However, `temperature` is set to `0.0` -- this flag is only used in sample-based generation modes. You should set `do_sample=True` or unset `temperature`.\n",
            "  warnings.warn(\n",
            "The attention mask and the pad token id were not set. As a consequence, you may observe unexpected behavior. Please pass your input's `attention_mask` to obtain reliable results.\n",
            "Setting `pad_token_id` to `eos_token_id`:None for open-end generation.\n"
          ]
        },
        {
          "output_type": "stream",
          "name": "stdout",
          "text": [
            "=====================\n",
            "BASE:  torch.Size([1, 256, 1280])\n",
            "PATCHES:  torch.Size([6, 100, 1280])\n",
            "=====================\n"
          ]
        },
        {
          "output_type": "stream",
          "name": "stderr",
          "text": [
            "This is a friendly reminder - the current text generation call will exceed the model's predefined maximum length (8192). Depending on the model, you may observe exceptions, performance degradation, or nothing at all.\n",
            "The attention mask and the pad token id were not set. As a consequence, you may observe unexpected behavior. Please pass your input's `attention_mask` to obtain reliable results.\n",
            "Setting `pad_token_id` to `eos_token_id`:None for open-end generation.\n"
          ]
        },
        {
          "output_type": "stream",
          "name": "stdout",
          "text": [
            "=====================\n",
            "BASE:  torch.Size([1, 256, 1280])\n",
            "PATCHES:  torch.Size([6, 100, 1280])\n",
            "=====================\n"
          ]
        },
        {
          "output_type": "stream",
          "name": "stderr",
          "text": [
            "The attention mask and the pad token id were not set. As a consequence, you may observe unexpected behavior. Please pass your input's `attention_mask` to obtain reliable results.\n",
            "Setting `pad_token_id` to `eos_token_id`:None for open-end generation.\n"
          ]
        },
        {
          "output_type": "stream",
          "name": "stdout",
          "text": [
            "=====================\n",
            "BASE:  torch.Size([1, 256, 1280])\n",
            "PATCHES:  torch.Size([6, 100, 1280])\n",
            "=====================\n",
            "  ✓ Successfully extracted data\n",
            "[36/41] Processing 140.pdf...\n"
          ]
        },
        {
          "output_type": "stream",
          "name": "stderr",
          "text": [
            "/usr/local/lib/python3.12/dist-packages/transformers/generation/configuration_utils.py:590: UserWarning: `do_sample` is set to `False`. However, `temperature` is set to `0.0` -- this flag is only used in sample-based generation modes. You should set `do_sample=True` or unset `temperature`.\n",
            "  warnings.warn(\n",
            "The attention mask and the pad token id were not set. As a consequence, you may observe unexpected behavior. Please pass your input's `attention_mask` to obtain reliable results.\n",
            "Setting `pad_token_id` to `eos_token_id`:None for open-end generation.\n"
          ]
        },
        {
          "output_type": "stream",
          "name": "stdout",
          "text": [
            "=====================\n",
            "BASE:  torch.Size([1, 256, 1280])\n",
            "PATCHES:  torch.Size([6, 100, 1280])\n",
            "=====================\n"
          ]
        },
        {
          "output_type": "stream",
          "name": "stderr",
          "text": [
            "The attention mask and the pad token id were not set. As a consequence, you may observe unexpected behavior. Please pass your input's `attention_mask` to obtain reliable results.\n",
            "Setting `pad_token_id` to `eos_token_id`:None for open-end generation.\n"
          ]
        },
        {
          "output_type": "stream",
          "name": "stdout",
          "text": [
            "=====================\n",
            "BASE:  torch.Size([1, 256, 1280])\n",
            "PATCHES:  torch.Size([6, 100, 1280])\n",
            "=====================\n",
            "  ✓ Successfully extracted data\n",
            "[37/41] Processing 143.pdf...\n"
          ]
        },
        {
          "output_type": "stream",
          "name": "stderr",
          "text": [
            "/usr/local/lib/python3.12/dist-packages/transformers/generation/configuration_utils.py:590: UserWarning: `do_sample` is set to `False`. However, `temperature` is set to `0.0` -- this flag is only used in sample-based generation modes. You should set `do_sample=True` or unset `temperature`.\n",
            "  warnings.warn(\n",
            "The attention mask and the pad token id were not set. As a consequence, you may observe unexpected behavior. Please pass your input's `attention_mask` to obtain reliable results.\n",
            "Setting `pad_token_id` to `eos_token_id`:None for open-end generation.\n"
          ]
        },
        {
          "output_type": "stream",
          "name": "stdout",
          "text": [
            "=====================\n",
            "BASE:  torch.Size([1, 256, 1280])\n",
            "PATCHES:  torch.Size([6, 100, 1280])\n",
            "=====================\n"
          ]
        },
        {
          "output_type": "stream",
          "name": "stderr",
          "text": [
            "The attention mask and the pad token id were not set. As a consequence, you may observe unexpected behavior. Please pass your input's `attention_mask` to obtain reliable results.\n",
            "Setting `pad_token_id` to `eos_token_id`:None for open-end generation.\n"
          ]
        },
        {
          "output_type": "stream",
          "name": "stdout",
          "text": [
            "=====================\n",
            "BASE:  torch.Size([1, 256, 1280])\n",
            "PATCHES:  torch.Size([6, 100, 1280])\n",
            "=====================\n"
          ]
        },
        {
          "output_type": "stream",
          "name": "stderr",
          "text": [
            "The attention mask and the pad token id were not set. As a consequence, you may observe unexpected behavior. Please pass your input's `attention_mask` to obtain reliable results.\n",
            "Setting `pad_token_id` to `eos_token_id`:None for open-end generation.\n"
          ]
        },
        {
          "output_type": "stream",
          "name": "stdout",
          "text": [
            "=====================\n",
            "BASE:  torch.Size([1, 256, 1280])\n",
            "PATCHES:  torch.Size([6, 100, 1280])\n",
            "=====================\n"
          ]
        },
        {
          "output_type": "stream",
          "name": "stderr",
          "text": [
            "The attention mask and the pad token id were not set. As a consequence, you may observe unexpected behavior. Please pass your input's `attention_mask` to obtain reliable results.\n",
            "Setting `pad_token_id` to `eos_token_id`:None for open-end generation.\n"
          ]
        },
        {
          "output_type": "stream",
          "name": "stdout",
          "text": [
            "=====================\n",
            "BASE:  torch.Size([1, 256, 1280])\n",
            "PATCHES:  torch.Size([6, 100, 1280])\n",
            "=====================\n"
          ]
        },
        {
          "output_type": "stream",
          "name": "stderr",
          "text": [
            "The attention mask and the pad token id were not set. As a consequence, you may observe unexpected behavior. Please pass your input's `attention_mask` to obtain reliable results.\n",
            "Setting `pad_token_id` to `eos_token_id`:None for open-end generation.\n"
          ]
        },
        {
          "output_type": "stream",
          "name": "stdout",
          "text": [
            "=====================\n",
            "BASE:  torch.Size([1, 256, 1280])\n",
            "PATCHES:  torch.Size([6, 100, 1280])\n",
            "=====================\n",
            "  ✓ Successfully extracted data\n",
            "[38/41] Processing 146.pdf...\n"
          ]
        },
        {
          "output_type": "stream",
          "name": "stderr",
          "text": [
            "/usr/local/lib/python3.12/dist-packages/transformers/generation/configuration_utils.py:590: UserWarning: `do_sample` is set to `False`. However, `temperature` is set to `0.0` -- this flag is only used in sample-based generation modes. You should set `do_sample=True` or unset `temperature`.\n",
            "  warnings.warn(\n",
            "The attention mask and the pad token id were not set. As a consequence, you may observe unexpected behavior. Please pass your input's `attention_mask` to obtain reliable results.\n",
            "Setting `pad_token_id` to `eos_token_id`:None for open-end generation.\n"
          ]
        },
        {
          "output_type": "stream",
          "name": "stdout",
          "text": [
            "=====================\n",
            "BASE:  torch.Size([1, 256, 1280])\n",
            "PATCHES:  torch.Size([6, 100, 1280])\n",
            "=====================\n"
          ]
        },
        {
          "output_type": "stream",
          "name": "stderr",
          "text": [
            "The attention mask and the pad token id were not set. As a consequence, you may observe unexpected behavior. Please pass your input's `attention_mask` to obtain reliable results.\n",
            "Setting `pad_token_id` to `eos_token_id`:None for open-end generation.\n"
          ]
        },
        {
          "output_type": "stream",
          "name": "stdout",
          "text": [
            "=====================\n",
            "BASE:  torch.Size([1, 256, 1280])\n",
            "PATCHES:  torch.Size([6, 100, 1280])\n",
            "=====================\n",
            "  ✓ Successfully extracted data\n",
            "[39/41] Processing 149.pdf...\n"
          ]
        },
        {
          "output_type": "stream",
          "name": "stderr",
          "text": [
            "/usr/local/lib/python3.12/dist-packages/transformers/generation/configuration_utils.py:590: UserWarning: `do_sample` is set to `False`. However, `temperature` is set to `0.0` -- this flag is only used in sample-based generation modes. You should set `do_sample=True` or unset `temperature`.\n",
            "  warnings.warn(\n",
            "The attention mask and the pad token id were not set. As a consequence, you may observe unexpected behavior. Please pass your input's `attention_mask` to obtain reliable results.\n",
            "Setting `pad_token_id` to `eos_token_id`:None for open-end generation.\n"
          ]
        },
        {
          "output_type": "stream",
          "name": "stdout",
          "text": [
            "=====================\n",
            "BASE:  torch.Size([1, 256, 1280])\n",
            "PATCHES:  torch.Size([6, 100, 1280])\n",
            "=====================\n"
          ]
        },
        {
          "output_type": "stream",
          "name": "stderr",
          "text": [
            "The attention mask and the pad token id were not set. As a consequence, you may observe unexpected behavior. Please pass your input's `attention_mask` to obtain reliable results.\n",
            "Setting `pad_token_id` to `eos_token_id`:None for open-end generation.\n"
          ]
        },
        {
          "output_type": "stream",
          "name": "stdout",
          "text": [
            "=====================\n",
            "BASE:  torch.Size([1, 256, 1280])\n",
            "PATCHES:  torch.Size([6, 100, 1280])\n",
            "=====================\n",
            "  ✓ Successfully extracted data\n",
            "[40/41] Processing 152.pdf...\n"
          ]
        },
        {
          "output_type": "stream",
          "name": "stderr",
          "text": [
            "/usr/local/lib/python3.12/dist-packages/transformers/generation/configuration_utils.py:590: UserWarning: `do_sample` is set to `False`. However, `temperature` is set to `0.0` -- this flag is only used in sample-based generation modes. You should set `do_sample=True` or unset `temperature`.\n",
            "  warnings.warn(\n",
            "The attention mask and the pad token id were not set. As a consequence, you may observe unexpected behavior. Please pass your input's `attention_mask` to obtain reliable results.\n",
            "Setting `pad_token_id` to `eos_token_id`:None for open-end generation.\n"
          ]
        },
        {
          "output_type": "stream",
          "name": "stdout",
          "text": [
            "=====================\n",
            "BASE:  torch.Size([1, 256, 1280])\n",
            "PATCHES:  torch.Size([6, 100, 1280])\n",
            "=====================\n"
          ]
        },
        {
          "output_type": "stream",
          "name": "stderr",
          "text": [
            "The attention mask and the pad token id were not set. As a consequence, you may observe unexpected behavior. Please pass your input's `attention_mask` to obtain reliable results.\n",
            "Setting `pad_token_id` to `eos_token_id`:None for open-end generation.\n"
          ]
        },
        {
          "output_type": "stream",
          "name": "stdout",
          "text": [
            "=====================\n",
            "BASE:  torch.Size([1, 256, 1280])\n",
            "PATCHES:  torch.Size([6, 100, 1280])\n",
            "=====================\n"
          ]
        },
        {
          "output_type": "stream",
          "name": "stderr",
          "text": [
            "The attention mask and the pad token id were not set. As a consequence, you may observe unexpected behavior. Please pass your input's `attention_mask` to obtain reliable results.\n",
            "Setting `pad_token_id` to `eos_token_id`:None for open-end generation.\n"
          ]
        },
        {
          "output_type": "stream",
          "name": "stdout",
          "text": [
            "=====================\n",
            "BASE:  torch.Size([1, 256, 1280])\n",
            "PATCHES:  torch.Size([6, 100, 1280])\n",
            "=====================\n"
          ]
        },
        {
          "output_type": "stream",
          "name": "stderr",
          "text": [
            "The attention mask and the pad token id were not set. As a consequence, you may observe unexpected behavior. Please pass your input's `attention_mask` to obtain reliable results.\n",
            "Setting `pad_token_id` to `eos_token_id`:None for open-end generation.\n"
          ]
        },
        {
          "output_type": "stream",
          "name": "stdout",
          "text": [
            "=====================\n",
            "BASE:  torch.Size([1, 256, 1280])\n",
            "PATCHES:  torch.Size([6, 100, 1280])\n",
            "=====================\n",
            "  ✓ Successfully extracted data\n",
            "[41/41] Processing 155.pdf...\n"
          ]
        },
        {
          "output_type": "stream",
          "name": "stderr",
          "text": [
            "/usr/local/lib/python3.12/dist-packages/transformers/generation/configuration_utils.py:590: UserWarning: `do_sample` is set to `False`. However, `temperature` is set to `0.0` -- this flag is only used in sample-based generation modes. You should set `do_sample=True` or unset `temperature`.\n",
            "  warnings.warn(\n",
            "The attention mask and the pad token id were not set. As a consequence, you may observe unexpected behavior. Please pass your input's `attention_mask` to obtain reliable results.\n",
            "Setting `pad_token_id` to `eos_token_id`:None for open-end generation.\n"
          ]
        },
        {
          "output_type": "stream",
          "name": "stdout",
          "text": [
            "=====================\n",
            "BASE:  torch.Size([1, 256, 1280])\n",
            "PATCHES:  torch.Size([6, 100, 1280])\n",
            "=====================\n"
          ]
        },
        {
          "output_type": "stream",
          "name": "stderr",
          "text": [
            "The attention mask and the pad token id were not set. As a consequence, you may observe unexpected behavior. Please pass your input's `attention_mask` to obtain reliable results.\n",
            "Setting `pad_token_id` to `eos_token_id`:None for open-end generation.\n"
          ]
        },
        {
          "output_type": "stream",
          "name": "stdout",
          "text": [
            "=====================\n",
            "BASE:  torch.Size([1, 256, 1280])\n",
            "PATCHES:  torch.Size([6, 100, 1280])\n",
            "=====================\n"
          ]
        },
        {
          "output_type": "stream",
          "name": "stderr",
          "text": [
            "The attention mask and the pad token id were not set. As a consequence, you may observe unexpected behavior. Please pass your input's `attention_mask` to obtain reliable results.\n",
            "Setting `pad_token_id` to `eos_token_id`:None for open-end generation.\n"
          ]
        },
        {
          "output_type": "stream",
          "name": "stdout",
          "text": [
            "=====================\n",
            "BASE:  torch.Size([1, 256, 1280])\n",
            "PATCHES:  torch.Size([6, 100, 1280])\n",
            "=====================\n",
            "  ✓ Successfully extracted data\n",
            "\n",
            "✓ Done! Processed 41 PDFs successfully.\n",
            "  Results saved to: output_deepseek-ocr\n"
          ]
        }
      ]
    },
    {
      "cell_type": "code",
      "source": [
        "import shutil\n",
        "import os\n",
        "\n",
        "output_folder = \"output_deepseek-ocr\"\n",
        "zip_file_name = output_folder + \".zip\"\n",
        "\n",
        "shutil.make_archive(output_folder, 'zip', output_folder)\n",
        "\n",
        "print(f\"Folder '{output_folder}' zipped successfully as '{zip_file_name}'.\")\n",
        "print(\"You can download the zip file from the file browser on the left.\")"
      ],
      "metadata": {
        "id": "IzjRrJZTDf1_",
        "colab": {
          "base_uri": "https://localhost:8080/"
        },
        "outputId": "42b356aa-0777-4fe2-e1c1-497863ba5d5e"
      },
      "execution_count": null,
      "outputs": [
        {
          "output_type": "stream",
          "name": "stdout",
          "text": [
            "Folder 'output_deepseek-ocr' zipped successfully as 'output_deepseek-ocr.zip'.\n",
            "You can download the zip file from the file browser on the left.\n"
          ]
        }
      ]
    },
    {
      "cell_type": "code",
      "source": [],
      "metadata": {
        "id": "lC1xPcFyQqR_"
      },
      "execution_count": null,
      "outputs": []
    },
    {
      "cell_type": "markdown",
      "source": [
        "# Hardcode"
      ],
      "metadata": {
        "id": "IPI1Zd01t7K2"
      }
    },
    {
      "cell_type": "code",
      "source": [],
      "metadata": {
        "id": "Esk7xi8Nt6Ib"
      },
      "execution_count": null,
      "outputs": []
    }
  ]
}